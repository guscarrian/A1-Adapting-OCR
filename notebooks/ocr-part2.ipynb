{
 "cells": [
  {
   "cell_type": "markdown",
   "metadata": {},
   "source": [
    "# "
   ]
  },
  {
   "cell_type": "markdown",
   "metadata": {},
   "source": [
    "# Building an OCR from scratch\n",
    "\n",
    "So in this tutorial, I will give you a basic code walkthrough for building a simple OCR. OCR as might know stands for optical character recognition or in layman terms it means text recognition. Text recognition is one of the classic problems in computer vision and is still relevant today. One of the most important applications of text recognition is the digitization of old manuscripts. Physical copies of books and manuscripts are prone to degradations. With time, the printed characters start to fade. On simple way to preserve such documents is to make a digital copy of it and store it in the cloud or local hard drive which would ensure their continuance. Similarly, text recognition can also be used for licence plate recognition and can also be used in forensics in terms of handwriting recognition. \n",
    "\n",
    "Okay, now that I have given you enough motivation as to why OCR is important, let me show you how you can build one. \n",
    "So first things first, I'll start with listing down some of the essential packages that you would need to build your first OCR. We will be working with PyTorch as it is one of the most efficient deep learning libraries present. The other packages are as follows:\n",
    "\n",
    "* Pytorch 1.5\n",
    "* Matplotlib\n",
    "* Tqdm\n",
    "* textdistance\n",
    "* lmdb\n",
    "\n",
    "You can install them either via a pip or conda. I will also be providing a requirements.txt file which you can find in my Github repo. Do a simple `pip install -r requirements` and you are set to go.\n",
    "\n",
    "## Setting up the Data\n",
    "\n",
    "We will start our project by importing the libraries. But before that we need data. Now, you are free to use any text image data you might like and for that, you might need to build your own data loader. However, in the interest of keeping things simple, we will be using a neat little package called `trdg`, which is a synthetic image generator for OCR. You can find all the relevant information regarding this package on its [github repository](https://github.com/Belval/TextRecognitionDataGenerator). You can generate printed as well as hand-written text images and infuse them with different kinds of noise and degradation. In this project, I have used trdg to generate printed word images of a single font. You can use any font you like. Just download a `.ttf` file for your font and while generating the word images be sure to specify the `-ft` parameter as your font file. \n",
    "\n",
    "You can generate the word images for training using the following commands:\n",
    "\n",
    "`trdg -i words.txt -c 20000 --output_dir data/train -ft your/fontfile`\n",
    "\n",
    "ATENTION: Run this one instead `trdg -i words.txt -c 20000 --output_dir data/train -fd fonts/`\n",
    "\n",
    "Here, `-c` refers to the number of word images you want to generate. `words.txt` file contains our input word vocabulary while `--output_dir` and `-ft` refer to the output and font file respectively. You can similarly generate the test word images for evaluating the performance of your OCR. However, ensure that words for training and testing are mutually exclusive to each other."
   ]
  },
  {
   "cell_type": "markdown",
   "metadata": {},
   "source": [
    "Okay, now that we have generated the word images, let us display a few images using matlplotlib\n",
    "%# TODO diplay images from folder"
   ]
  },
  {
   "cell_type": "markdown",
   "metadata": {},
   "source": [
    "Now lets start importing the libraries that we would need to build our OCR"
   ]
  },
  {
   "cell_type": "code",
   "execution_count": 1,
   "metadata": {},
   "outputs": [],
   "source": [
    "import os\n",
    "import sys\n",
    "import pdb\n",
    "import six\n",
    "import random\n",
    "import lmdb\n",
    "from PIL import Image\n",
    "import numpy as np\n",
    "import math\n",
    "from collections import OrderedDict\n",
    "from itertools import chain\n",
    "import logging\n",
    "\n",
    "\n",
    "import torch\n",
    "import torch.nn as nn\n",
    "import torch.nn.functional as F\n",
    "from torch.utils.data import Dataset\n",
    "from torch.utils.data import sampler\n",
    "import torchvision.transforms as transforms\n",
    "from torch.optim.lr_scheduler import CosineAnnealingLR, StepLR\n",
    "from torch.nn.utils.clip_grad import clip_grad_norm_\n",
    "from torch.utils.data import random_split\n",
    "sys.path.insert(0, '../')\n",
    "from src.utils.utils import AverageMeter, Eval, OCRLabelConverter\n",
    "from src.utils.utils import EarlyStopping, gmkdir\n",
    "from src.optim.optimizer import STLR\n",
    "from src.utils.utils import gaussian\n",
    "from tqdm import *\n",
    "\n",
    "# added\n",
    "import xmltodict\n",
    "from sklearn.metrics import precision_score, recall_score"
   ]
  },
  {
   "cell_type": "markdown",
   "metadata": {},
   "source": [
    "Next, let us create our data pipe-line. We do this by inheriting the PyTorch Dataset class. The Dataset class has few methods that we need to adhere to like the `__len__` and `__getitem__` method. The `__len__` method returns the number of items in our dataset while `__getitem_` returns the data item for the index passed. You can find more information on PyTorch Dataset class on PyTorch's official documentation page. \n",
    "\n",
    "You will observe that we first convert each image into grayscale and convert it into a tensor. This is followed by normalizing the images so that our input data lies within a range of [-1, 1]. We pass all such transformations into a list and later call the transforms to compose function provided by PyTorch. The transform Compose function applies each transformation in the pre-defined order."
   ]
  },
  {
   "cell_type": "code",
   "execution_count": 17,
   "metadata": {},
   "outputs": [],
   "source": [
    "# New dataloader - CarPlatesDataset\n",
    "# Both __init__ and __len__ methods remain the same\n",
    "class CarPlatesDataset(Dataset):\n",
    "    \n",
    "    def __init__(self, opt):\n",
    "        super(CarPlatesDataset, self).__init__()\n",
    "        self.path = os.path.join(opt['path'], opt['imgdir'])\n",
    "        self.images = os.listdir(self.path)\n",
    "        self.annotations_dir = os.path.join(opt['path'], opt['annotations_dir']) #added\n",
    "        self.nSamples = len(self.images)\n",
    "        f = lambda x: os.path.join(self.path, x)\n",
    "        self.imagepaths = list(map(f, self.images))\n",
    "       \ttransform_list =  [transforms.Grayscale(1),\n",
    "                           transforms.Resize((opt['image_size'][0], opt['image_size'][1])), #added\n",
    "                           transforms.ToTensor(), \n",
    "                           transforms.Normalize((0.5,), (0.5,))]\n",
    "        self.transform = transforms.Compose(transform_list)\n",
    "        self.collate_fn = SynthCollator()\n",
    "\n",
    "    def __len__(self):\n",
    "        return self.nSamples\n",
    "\n",
    "    def __getitem__(self, index):\n",
    "        assert index <= len(self), 'index range error'\n",
    "        imagepath = self.imagepaths[index]\n",
    "        imagefile = os.path.basename(imagepath)\n",
    "        imagefile = imagefile.split('.')[0]\n",
    "\n",
    "        img = Image.open(imagepath)\n",
    "        if self.transform is not None:\n",
    "            img = self.transform(img)\n",
    "\n",
    "        # 'annotations' is the path to the XML files. \n",
    "        # We open the file, read it and convert the data into a dictionary.\n",
    "        # Then we go through each object in the xml data, extract the name field, and add it to a list (labels). \n",
    "        # We combine the labels from the list into a single string and, finally, return a dictionary with the image, index, and label.\n",
    "        annotations = os.path.join(self.annotations_dir, imagefile + '.xml')\n",
    "        labels = []\n",
    "        try:\n",
    "            with open(annotations, 'r') as file:\n",
    "                data_dict = xmltodict.parse(file.read())\n",
    "            for item in data_dict['annotation']['object']:\n",
    "                name = item['name']\n",
    "                labels.append(name)\n",
    "        except (xmltodict.expat.ExpatError, FileNotFoundError):\n",
    "            print(f\"Error while parsing {annotations}.\")\n",
    "\n",
    "        label = ''.join(labels)\n",
    "        \n",
    "        item = {'img': img, 'idx': index, 'label': label}\n",
    "        return item"
   ]
  },
  {
   "cell_type": "code",
   "execution_count": 18,
   "metadata": {},
   "outputs": [],
   "source": [
    "dataset = CarPlatesDataset(args)"
   ]
  },
  {
   "cell_type": "code",
   "execution_count": 19,
   "metadata": {
    "scrolled": true
   },
   "outputs": [
    {
     "data": {
      "text/plain": [
       "{'img': tensor([[[-0.0431, -0.0824, -0.1686,  ..., -0.8902, -0.8980, -0.8980],\n",
       "          [-0.0431, -0.0353, -0.0275,  ..., -0.7961, -0.7569, -0.7098],\n",
       "          [-0.1294, -0.1059, -0.1059,  ..., -0.1765, -0.1529, -0.1294],\n",
       "          ...,\n",
       "          [-0.9686, -0.9765, -0.9686,  ..., -0.9686, -0.9686, -0.9686],\n",
       "          [-0.9686, -0.9686, -0.9686,  ..., -0.9608, -0.9608, -0.9686],\n",
       "          [-0.9608, -0.9686, -0.9686,  ..., -0.9608, -0.9608, -0.9765]]]),\n",
       " 'idx': 1,\n",
       " 'label': 'MH2OBN3525'}"
      ]
     },
     "execution_count": 19,
     "metadata": {},
     "output_type": "execute_result"
    }
   ],
   "source": [
    "dataset.__getitem__(1)"
   ]
  },
  {
   "cell_type": "markdown",
   "metadata": {},
   "source": [
    "Next, since we are going to train our model using the mini-batch gradient descent, it is essential that each image in the batch is of the same shape and size. For this, we have defined the `SynthCollator` class which initially finds the image with maximum width in the batch and then proceeds to pad all images to have the same width. "
   ]
  },
  {
   "cell_type": "code",
   "execution_count": 20,
   "metadata": {},
   "outputs": [],
   "source": [
    "class SynthCollator(object):\n",
    "    \n",
    "    def __call__(self, batch):\n",
    "        width = [item['img'].shape[2] for item in batch]\n",
    "        indexes = [item['idx'] for item in batch]\n",
    "        imgs = torch.ones([len(batch), batch[0]['img'].shape[0], batch[0]['img'].shape[1], \n",
    "                           max(width)], dtype=torch.float32)\n",
    "        for idx, item in enumerate(batch):\n",
    "            try:\n",
    "                imgs[idx, :, :, 0:item['img'].shape[2]] = item['img']\n",
    "            except:\n",
    "                print(imgs.shape)\n",
    "        item = {'img': imgs, 'idx':indexes}\n",
    "        if 'label' in batch[0].keys():\n",
    "            labels = [item['label'] for item in batch]\n",
    "            item['label'] = labels\n",
    "        return item"
   ]
  },
  {
   "cell_type": "markdown",
   "metadata": {},
   "source": [
    "## Defining our Model\n",
    "\n",
    "Now we proceed to define our model. We use the CNN-LSTM based architecture which was proposed by Shi et.al. in their excellent paper [An End-to-End Trainable Neural Network for Image-based Sequence Recognition and Its Application to Scene Text Recognition](https://arxiv.org/pdf/1507.05717.pdf). The authors used it for scene-text recognition and showed via extensive experimentation that they were able to achieve significant gains in accuracy compared to all other existing methods at that time.\n",
    "\n",
    "\n",
    "<img src=\"images/crnn.png\" alt=\"drawing\" width=\"400\"/>\n",
    "\n",
    "The figure above shows the architecture used in the paper. The authors used a 7 layered Convolution network with BatchNorm and ReLU. This was followed by a stacked RNN network consisting of two Bidirectional LSTM layers. The convolution layers acted as a feature extractor while the LSTMs layers act as sequence classifiers. The LSTM layers output the probability associated with each output class at each time step\n",
    "Further details can be found in their paper and I strongly suggest you go through it for a better understanding.\n",
    "\n",
    "The below code snippet is taken from this [github repository](https://github.com/meijieru/crnn.pytorch) which provides a Pytorch implementation of their code.\n"
   ]
  },
  {
   "cell_type": "code",
   "execution_count": 21,
   "metadata": {},
   "outputs": [],
   "source": [
    "class BidirectionalLSTM(nn.Module):\n",
    "\n",
    "    def __init__(self, nIn, nHidden, nOut):\n",
    "        super(BidirectionalLSTM, self).__init__()\n",
    "        self.rnn = nn.LSTM(nIn, nHidden, bidirectional=True)\n",
    "        self.embedding = nn.Linear(nHidden * 2, nOut)\n",
    "    def forward(self, input):\n",
    "        self.rnn.flatten_parameters()\n",
    "        recurrent, _ = self.rnn(input)\n",
    "        T, b, h = recurrent.size()\n",
    "        t_rec = recurrent.view(T * b, h)\n",
    "        output = self.embedding(t_rec)  # [T * b, nOut]\n",
    "        output = output.view(T, b, -1)\n",
    "        return output\n",
    "\n",
    "class CRNN(nn.Module):\n",
    "\n",
    "    def __init__(self, opt, leakyRelu=False):\n",
    "        super(CRNN, self).__init__()\n",
    "\n",
    "        assert opt['imgH'] % 16 == 0, 'imgH has to be a multiple of 16'\n",
    "\n",
    "        ks = [3, 3, 3, 3, 3, 3, 2]\n",
    "        ps = [1, 1, 1, 1, 1, 1, 0]\n",
    "        ss = [1, 1, 1, 1, 1, 1, 1]\n",
    "        nm = [64, 128, 256, 256, 512, 512, 512]\n",
    "\n",
    "        cnn = nn.Sequential()\n",
    "\n",
    "        def convRelu(i, batchNormalization=False):\n",
    "            nIn = opt['nChannels'] if i == 0 else nm[i - 1]\n",
    "            nOut = nm[i]\n",
    "            cnn.add_module('conv{0}'.format(i),\n",
    "                           nn.Conv2d(nIn, nOut, ks[i], ss[i], ps[i]))\n",
    "            if batchNormalization:\n",
    "                cnn.add_module('batchnorm{0}'.format(i), nn.BatchNorm2d(nOut))\n",
    "            if leakyRelu:\n",
    "                cnn.add_module('relu{0}'.format(i),\n",
    "                               nn.LeakyReLU(0.2, inplace=True))\n",
    "            else:\n",
    "                cnn.add_module('relu{0}'.format(i), nn.ReLU(True))\n",
    "\n",
    "        convRelu(0)\n",
    "        cnn.add_module('pooling{0}'.format(0), nn.MaxPool2d(2, 2))  # 64x16x64\n",
    "        convRelu(1)\n",
    "        cnn.add_module('pooling{0}'.format(1), nn.MaxPool2d(2, 2))  # 128x8x32\n",
    "        convRelu(2, True)\n",
    "        convRelu(3)\n",
    "        cnn.add_module('pooling{0}'.format(2),\n",
    "                       nn.MaxPool2d((2, 2), (2, 1), (0, 1)))  # 256x4x16\n",
    "        convRelu(4, True)\n",
    "        convRelu(5)\n",
    "        cnn.add_module('pooling{0}'.format(3),\n",
    "                       nn.MaxPool2d((2, 2), (2, 1), (0, 1)))  # 512x2x16\n",
    "        convRelu(6, True)  # 512x1x16\n",
    "        self.cnn = cnn\n",
    "        self.rnn = nn.Sequential()\n",
    "        self.rnn = nn.Sequential(\n",
    "            BidirectionalLSTM(opt['nHidden']*2, opt['nHidden'], opt['nHidden']),\n",
    "            BidirectionalLSTM(opt['nHidden'], opt['nHidden'], opt['nClasses']))\n",
    "\n",
    "\n",
    "    def forward(self, input):\n",
    "        # conv features\n",
    "        conv = self.cnn(input)\n",
    "        b, c, h, w = conv.size()\n",
    "        assert h == 1, \"the height of conv must be 1\"\n",
    "        conv = conv.squeeze(2)\n",
    "        conv = conv.permute(2, 0, 1)  # [w, b, c]\n",
    "        # rnn features\n",
    "        output = self.rnn(conv)\n",
    "        output = output.transpose(1,0) #Tbh to bth\n",
    "        return output"
   ]
  },
  {
   "cell_type": "markdown",
   "metadata": {},
   "source": [
    "## The CTC Loss \n",
    "\n",
    "Okay, now that we have our data and model pipeline ready, it is time to define our loss function which in our case is the CTC loss function. We will be using PyTorch's excellent CTC implementation. CTC stands for Connectionist Temporal Classification and was proposed by Alex Graves in his paper [Connectionist Temporal Classification: Labelling Unsegmented Sequence Data with Recurrent Neural Networks](https://www.cs.toronto.edu/~graves/icml_2006.pdf). \n",
    "\n",
    "Honestly, the above work has been a gamechanger for many sequences based tasks like speech and text recognition. For all the sequence-based tasks it is important for the input and output labels to be properly aligned. Proper alignment leads to efficient loss computation between the network predictions and expected output. In segmentation based approaches i.e. when the input word or line has been segmented into its constituent characters, there exists a direct one-to-one mapping between the segmented images of characters and the output labels.  However, as you might imagine obtaining such segmentations for each character can be a very tedious and time-consuming task. Thus, CTC based transcription layers have become the de-facto choice for OCRs and speech recognition module since it allows loss computation without explicit mapping between the input and output. The CTC layer takes the output from the LSTMs and computes a score with all possible alignments of the target label. The OCR is then trained to predict a sequence which maximizes the sum of all such scores.\n",
    "\n",
    "If you want more thorough details regarding the CTC layer I would suggest you go through the following blogs and lecture video\n",
    "\n",
    "* [CMU Deep Learning Course Lecture 14](https://www.youtube.com/watch?v=c86gfVGcvh4&t=670s)\n",
    "* [Sequence Labelling with CTC](https://distill.pub/2017/ctc)"
   ]
  },
  {
   "cell_type": "code",
   "execution_count": 22,
   "metadata": {},
   "outputs": [],
   "source": [
    "class CustomCTCLoss(torch.nn.Module):\n",
    "    # T x B x H => Softmax on dimension 2\n",
    "    def __init__(self, dim=2):\n",
    "        super().__init__()\n",
    "        self.dim = dim\n",
    "        self.ctc_loss = torch.nn.CTCLoss(reduction='mean', zero_infinity=True)\n",
    "\n",
    "    def forward(self, logits, labels,\n",
    "            prediction_sizes, target_sizes):\n",
    "        EPS = 1e-7\n",
    "        loss = self.ctc_loss(logits, labels, prediction_sizes, target_sizes)\n",
    "        loss = self.sanitize(loss)\n",
    "        return self.debug(loss, logits, labels, prediction_sizes, target_sizes)\n",
    "    \n",
    "    def sanitize(self, loss):\n",
    "        EPS = 1e-7\n",
    "        if abs(loss.item() - float('inf')) < EPS:\n",
    "            return torch.zeros_like(loss)\n",
    "        if math.isnan(loss.item()):\n",
    "            return torch.zeros_like(loss)\n",
    "        return loss\n",
    "\n",
    "    def debug(self, loss, logits, labels,\n",
    "            prediction_sizes, target_sizes):\n",
    "        if math.isnan(loss.item()):\n",
    "            print(\"Loss:\", loss)\n",
    "            print(\"logits:\", logits)\n",
    "            print(\"labels:\", labels)\n",
    "            print(\"prediction_sizes:\", prediction_sizes)\n",
    "            print(\"target_sizes:\", target_sizes)\n",
    "            raise Exception(\"NaN loss obtained. But why?\")\n",
    "        return loss"
   ]
  },
  {
   "cell_type": "markdown",
   "metadata": {},
   "source": [
    "## The Training Loop\n",
    "\n",
    "The above code snippet builds a wrapper around pytorch's CTC loss function. Basically, what it does is that it computes the loss and passes it through an additional method called `debug`, which checks for instances when the loss becomes Nan. \n",
    "\n",
    "Shout out to [Jerin Philip](https://jerinphilip.github.io/) for this code.\n",
    "\n",
    "Now, let us come to the training loop. The below code might look a bit cumbersome but it provides a nice abstraction which is quite intuitive and easy to use. The below code is based on [pytorch lighning](https://github.com/PyTorchLightning/pytorch-lightning)'s bolier plate template with few modifications of my own. :P\n",
    "\n",
    "I will give a basic overview of what it does. Feel free to inspect each method using python debugger. So, the `OCRTrainer` class takes in the training and validation data. It also takes in the loss function, optimizer and the number of epoch it needs to train the model. The train and validation loader method returns the data loader for the train and validation data. the `run_batch` method does one forward pass for a batch of image-label pairs. It returns the loss as well as the character and word accuracy. Next, we have the step functions which does the backpropagation, calculates the gradient and updates the parameters for each batch of data. Besides we also have the `training_end` and `validation_end` methods that calculate the mean loss and accuracy for each batch after the completion of one single epoch\n",
    "\n",
    "All, the methods defined are quite simple and I hope you will get the hang of it in no time."
   ]
  },
  {
   "cell_type": "code",
   "execution_count": 23,
   "metadata": {},
   "outputs": [],
   "source": [
    "class OCRTrainer(object):\n",
    "    def __init__(self, opt):\n",
    "        super(OCRTrainer, self).__init__()\n",
    "        self.data_train = opt['data_train']\n",
    "        self.data_val = opt['data_val']\n",
    "        self.model = opt['model']\n",
    "        self.criterion = opt['criterion']\n",
    "        self.optimizer = opt['optimizer']\n",
    "        self.schedule = opt['schedule']\n",
    "        self.converter = OCRLabelConverter(opt['alphabet'])\n",
    "        self.evaluator = Eval()\n",
    "        print('Scheduling is {}'.format(self.schedule))\n",
    "        self.scheduler = CosineAnnealingLR(self.optimizer, T_max=opt['epochs'])\n",
    "        self.batch_size = opt['batch_size']\n",
    "        self.count = opt['epoch']\n",
    "        self.epochs = opt['epochs']\n",
    "        self.cuda = opt['cuda']\n",
    "        self.collate_fn = opt['collate_fn']\n",
    "        self.init_meters()\n",
    "\n",
    "    def init_meters(self):\n",
    "        self.avgTrainLoss = AverageMeter(\"Train loss\")\n",
    "        self.avgTrainCharAccuracy = AverageMeter(\"Train Character Accuracy\")\n",
    "        self.avgTrainWordAccuracy = AverageMeter(\"Train Word Accuracy\")\n",
    "        self.avgValLoss = AverageMeter(\"Validation loss\")\n",
    "        self.avgValCharAccuracy = AverageMeter(\"Validation Character Accuracy\")\n",
    "        self.avgValWordAccuracy = AverageMeter(\"Validation Word Accuracy\")\n",
    "\n",
    "    def forward(self, x):\n",
    "        logits = self.model(x)\n",
    "        return logits.transpose(1, 0)\n",
    "\n",
    "    def loss_fn(self, logits, targets, pred_sizes, target_sizes):\n",
    "        loss = self.criterion(logits, targets, pred_sizes, target_sizes)\n",
    "        return loss\n",
    "\n",
    "    def step(self):\n",
    "        self.max_grad_norm = 0.05\n",
    "        clip_grad_norm_(self.model.parameters(), self.max_grad_norm)\n",
    "        self.optimizer.step()\n",
    "    \n",
    "    def schedule_lr(self):\n",
    "        if self.schedule:\n",
    "            self.scheduler.step()\n",
    "\n",
    "    def _run_batch(self, batch, report_accuracy=False, validation=False):\n",
    "        input_, targets = batch['img'], batch['label']\n",
    "        targets, lengths = self.converter.encode(targets)\n",
    "        logits = self.forward(input_)\n",
    "        logits = logits.contiguous().cpu()\n",
    "        logits = torch.nn.functional.log_softmax(logits, 2)\n",
    "        T, B, H = logits.size()\n",
    "        pred_sizes = torch.LongTensor([T for i in range(B)])\n",
    "        targets= targets.view(-1).contiguous()\n",
    "        loss = self.loss_fn(logits, targets, pred_sizes, lengths)\n",
    "        if report_accuracy:\n",
    "            probs, preds = logits.max(2)\n",
    "            preds = preds.transpose(1, 0).contiguous().view(-1)\n",
    "            sim_preds = self.converter.decode(preds.data, pred_sizes.data, raw=False)\n",
    "            ca = np.mean((list(map(self.evaluator.char_accuracy, list(zip(sim_preds, batch['label']))))))\n",
    "            wa = np.mean((list(map(self.evaluator.word_accuracy, list(zip(sim_preds, batch['label']))))))\n",
    "        return loss, ca, wa\n",
    "\n",
    "    def run_epoch(self, validation=False):\n",
    "        if not validation:\n",
    "            loader = self.train_dataloader()\n",
    "            pbar = tqdm(loader, desc='Epoch: [%d]/[%d] Training'%(self.count, \n",
    "                self.epochs), leave=True)\n",
    "            self.model.train()\n",
    "        else:\n",
    "            loader = self.val_dataloader()\n",
    "            pbar = tqdm(loader, desc='Validating', leave=True)\n",
    "            self.model.eval()\n",
    "        outputs = []\n",
    "        for batch_nb, batch in enumerate(pbar):\n",
    "            if not validation:\n",
    "                output = self.training_step(batch)\n",
    "            else:\n",
    "                output = self.validation_step(batch)\n",
    "            pbar.set_postfix(output)\n",
    "            outputs.append(output)\n",
    "        self.schedule_lr()\n",
    "        if not validation:\n",
    "            result = self.train_end(outputs)\n",
    "        else:\n",
    "            result = self.validation_end(outputs)\n",
    "        return result\n",
    "\n",
    "    def training_step(self, batch):\n",
    "        loss, ca, wa = self._run_batch(batch, report_accuracy=True)\n",
    "        self.optimizer.zero_grad()\n",
    "        loss.backward()\n",
    "        self.step()\n",
    "        output = OrderedDict({\n",
    "            'loss': abs(loss.item()),\n",
    "            'train_ca': ca.item(),\n",
    "            'train_wa': wa.item()\n",
    "            })\n",
    "        return output\n",
    "\n",
    "    def validation_step(self, batch):\n",
    "        loss, ca, wa = self._run_batch(batch, report_accuracy=True, validation=True)\n",
    "        output = OrderedDict({\n",
    "            'val_loss': abs(loss.item()),\n",
    "            'val_ca': ca.item(),\n",
    "            'val_wa': wa.item()\n",
    "            })\n",
    "        return output\n",
    "\n",
    "    def train_dataloader(self):\n",
    "        # logging.info('training data loader called')\n",
    "        loader = torch.utils.data.DataLoader(self.data_train,\n",
    "                batch_size=self.batch_size,\n",
    "                collate_fn=self.collate_fn,\n",
    "                shuffle=True)\n",
    "        return loader\n",
    "        \n",
    "    def val_dataloader(self):\n",
    "        # logging.info('val data loader called')\n",
    "        loader = torch.utils.data.DataLoader(self.data_val,\n",
    "                batch_size=self.batch_size,\n",
    "                collate_fn=self.collate_fn)\n",
    "        return loader\n",
    "\n",
    "    def train_end(self, outputs):\n",
    "        for output in outputs:\n",
    "            self.avgTrainLoss.add(output['loss'])\n",
    "            self.avgTrainCharAccuracy.add(output['train_ca'])\n",
    "            self.avgTrainWordAccuracy.add(output['train_wa'])\n",
    "\n",
    "        train_loss_mean = abs(self.avgTrainLoss.compute())\n",
    "        train_ca_mean = self.avgTrainCharAccuracy.compute()\n",
    "        train_wa_mean = self.avgTrainWordAccuracy.compute()\n",
    "\n",
    "        result = {'train_loss': train_loss_mean, 'train_ca': train_ca_mean,\n",
    "        'train_wa': train_wa_mean}\n",
    "        # result = {'progress_bar': tqdm_dict, 'log': tqdm_dict, 'val_loss': train_loss_mean}\n",
    "        return result\n",
    "\n",
    "    def validation_end(self, outputs):\n",
    "        for output in outputs:\n",
    "            self.avgValLoss.add(output['val_loss'])\n",
    "            self.avgValCharAccuracy.add(output['val_ca'])\n",
    "            self.avgValWordAccuracy.add(output['val_wa'])\n",
    "\n",
    "        val_loss_mean = abs(self.avgValLoss.compute())\n",
    "        val_ca_mean = self.avgValCharAccuracy.compute()\n",
    "        val_wa_mean = self.avgValWordAccuracy.compute()\n",
    "\n",
    "        result = {'val_loss': val_loss_mean, 'val_ca': val_ca_mean,\n",
    "        'val_wa': val_wa_mean}\n",
    "        return result"
   ]
  },
  {
   "cell_type": "markdown",
   "metadata": {},
   "source": [
    "## Putting Everything Together\n",
    "\n",
    "And, finally, we have the `Learner` class. It implements a couple of more methods like the `save` and `load` model. It also tracks the losses and saves them in a `csv` file. This comes in handy if we want to analyze the behaviour of our training and validation loops. It initializes our `OCRTrainer` module with the necessary hyperparameters and later calls the `fit` method which runs the training loop.\n",
    "\n",
    "Besides these methods, we have a bunch of helper methods like the `OCRLabel_converter`, `Eval` and `Averagemeter`. I am not including them in this notebook, instead, I have written them in utils.py file and I am importing them from there. In case you want to take a peek, feel free to tinker with the utils.py file. All the necessary documentation is provided in the file itself."
   ]
  },
  {
   "cell_type": "code",
   "execution_count": 24,
   "metadata": {},
   "outputs": [],
   "source": [
    "class Learner(object):\n",
    "    def __init__(self, model, optimizer, savepath=None, resume=False):\n",
    "        self.model = model\n",
    "        self.optimizer = optimizer\n",
    "        self.savepath = os.path.join(savepath, 'best.ckpt')\n",
    "        self.cuda = torch.cuda.is_available() \n",
    "        self.cuda_count = torch.cuda.device_count()\n",
    "        if self.cuda:\n",
    "            self.model = self.model.cuda()\n",
    "        self.epoch = 0\n",
    "        if self.cuda_count > 1:\n",
    "            print(\"Let's use\", torch.cuda.device_count(), \"GPUs!\")\n",
    "            self.model = nn.DataParallel(self.model)\n",
    "        self.best_score = None\n",
    "        if resume and os.path.exists(self.savepath):\n",
    "            self.checkpoint = torch.load(self.savepath)\n",
    "            self.epoch = self.checkpoint['epoch']\n",
    "            self.best_score=self.checkpoint['best']\n",
    "            self.load()\n",
    "        else:\n",
    "            print('checkpoint does not exist')\n",
    "\n",
    "    def fit(self, opt):\n",
    "        opt['cuda'] = self.cuda\n",
    "        opt['model'] = self.model\n",
    "        opt['optimizer'] = self.optimizer\n",
    "        logging.basicConfig(filename=\"%s/%s.csv\" %(opt['log_dir'], opt['name']), level=logging.INFO)\n",
    "        self.saver = EarlyStopping(self.savepath, patience=15, verbose=True, best_score=self.best_score)\n",
    "        opt['epoch'] = self.epoch\n",
    "        trainer = OCRTrainer(opt)\n",
    "        \n",
    "        for epoch in range(opt['epoch'], opt['epochs']):\n",
    "            train_result = trainer.run_epoch()\n",
    "            val_result = trainer.run_epoch(validation=True)\n",
    "            trainer.count = epoch\n",
    "            info = '%d, %.6f, %.6f, %.6f, %.6f, %.6f, %.6f'%(epoch, train_result['train_loss'], \n",
    "                val_result['val_loss'], train_result['train_ca'],  val_result['val_ca'],\n",
    "                train_result['train_wa'], val_result['val_wa'])\n",
    "            logging.info(info)\n",
    "            self.val_loss = val_result['val_loss']\n",
    "            print(self.val_loss)\n",
    "            if self.savepath:\n",
    "                self.save(epoch)\n",
    "            if self.saver.early_stop:\n",
    "                print(\"Early stopping\")\n",
    "                break\n",
    "\n",
    "    def load(self):\n",
    "        print('Loading checkpoint at {} trained for {} epochs'.format(self.savepath, self.checkpoint['epoch']))\n",
    "        #self.model.load_state_dict(self.checkpoint['state_dict'])\n",
    "        self.model.load_state_dict(self.checkpoint['state_dict'], strict=False)\n",
    "        if 'opt_state_dict' in self.checkpoint.keys():\n",
    "            print('Loading optimizer')\n",
    "            #self.optimizer.load_state_dict(self.checkpoint['opt_state_dict'])\n",
    "            self.optimizer.load_state_dict(self.checkpoint['opt_state_dict'], strict=False)\n",
    "\n",
    "    def save(self, epoch):\n",
    "        self.saver(self.val_loss, epoch, self.model, self.optimizer)"
   ]
  },
  {
   "cell_type": "markdown",
   "metadata": {},
   "source": [
    "### Defining the hyperparameters\n",
    "\n",
    "Okay, now that we have set the premise, its time to unfold the drama. We begin by defining our vocabulary i.e. the alphabets which serve as the output classes for our model.\n",
    "We define a suitable name for this experiment which will also serve as the folder name where the checkpoints and log files will be stored. We also define the hyper-parameters like the batch size, learning rate, image height, number of channels etc.\n",
    "\n",
    "Then we initialize our Dataset class and split the data into train and validation. We then proceed to initialize our Model and CTCLoss and finally call the `learner.fit` function.\n",
    "\n",
    "Once the training is over we can find the saved model in the `checkpoints/name` folder. We may load the model and evaluate its performance on the test data or finetune it on some other data."
   ]
  },
  {
   "cell_type": "code",
   "execution_count": 20,
   "metadata": {},
   "outputs": [],
   "source": [
    "!export CUDA_VISIBLE_DEVICE=3"
   ]
  },
  {
   "cell_type": "code",
   "execution_count": 14,
   "metadata": {},
   "outputs": [
    {
     "name": "stdout",
     "output_type": "stream",
     "text": [
      "0\n"
     ]
    }
   ],
   "source": [
    "print(torch.cuda.current_device())"
   ]
  },
  {
   "cell_type": "code",
   "execution_count": 21,
   "metadata": {},
   "outputs": [
    {
     "data": {
      "text/plain": [
       "0"
      ]
     },
     "execution_count": 21,
     "metadata": {},
     "output_type": "execute_result"
    }
   ],
   "source": [
    "torch.cuda.current_device()"
   ]
  },
  {
   "cell_type": "code",
   "execution_count": 17,
   "metadata": {},
   "outputs": [
    {
     "data": {
      "text/plain": [
       "'NVIDIA GeForce GTX 1080 Ti'"
      ]
     },
     "execution_count": 17,
     "metadata": {},
     "output_type": "execute_result"
    }
   ],
   "source": [
    "torch.cuda.get_device_name(0)"
   ]
  },
  {
   "cell_type": "code",
   "execution_count": 29,
   "metadata": {},
   "outputs": [
    {
     "name": "stdout",
     "output_type": "stream",
     "text": [
      "Traininig Data Size:133\n",
      "Val Data Size:34\n",
      "Let's use 4 GPUs!\n",
      "checkpoint does not exist\n",
      "None\n",
      "Scheduling is False\n"
     ]
    },
    {
     "name": "stderr",
     "output_type": "stream",
     "text": [
      "Epoch: [0]/[150] Training: 100%|████| 5/5 [00:01<00:00,  2.88it/s, loss=4.14, train_ca=0, train_wa=0]\n",
      "Validating: 100%|███████████████████| 2/2 [00:00<00:00,  6.22it/s, val_loss=4.06, val_ca=0, val_wa=0]\n"
     ]
    },
    {
     "name": "stdout",
     "output_type": "stream",
     "text": [
      "4.072951555252075\n",
      "Validation loss decreased (inf --> 4.072952).  Saving model ...\n"
     ]
    },
    {
     "name": "stderr",
     "output_type": "stream",
     "text": [
      "Epoch: [0]/[150] Training: 100%|████| 5/5 [00:01<00:00,  3.72it/s, loss=3.61, train_ca=0, train_wa=0]\n",
      "Validating: 100%|███████████████████| 2/2 [00:00<00:00,  7.26it/s, val_loss=3.51, val_ca=0, val_wa=0]\n"
     ]
    },
    {
     "name": "stdout",
     "output_type": "stream",
     "text": [
      "3.811334013938904\n",
      "Validation loss decreased (4.072952 --> 3.811334).  Saving model ...\n"
     ]
    },
    {
     "name": "stderr",
     "output_type": "stream",
     "text": [
      "Epoch: [1]/[150] Training: 100%|████| 5/5 [00:01<00:00,  3.16it/s, loss=3.42, train_ca=0, train_wa=0]\n",
      "Validating: 100%|████████████████████| 2/2 [00:00<00:00,  5.76it/s, val_loss=3.5, val_ca=0, val_wa=0]\n"
     ]
    },
    {
     "name": "stdout",
     "output_type": "stream",
     "text": [
      "3.705883502960205\n",
      "Validation loss decreased (3.811334 --> 3.705884).  Saving model ...\n"
     ]
    },
    {
     "name": "stderr",
     "output_type": "stream",
     "text": [
      "Epoch: [2]/[150] Training: 100%|████| 5/5 [00:01<00:00,  3.22it/s, loss=3.43, train_ca=0, train_wa=0]\n",
      "Validating: 100%|███████████████████| 2/2 [00:00<00:00,  5.59it/s, val_loss=3.47, val_ca=0, val_wa=0]\n"
     ]
    },
    {
     "name": "stdout",
     "output_type": "stream",
     "text": [
      "3.642828792333603\n",
      "Validation loss decreased (3.705884 --> 3.642829).  Saving model ...\n"
     ]
    },
    {
     "name": "stderr",
     "output_type": "stream",
     "text": [
      "Epoch: [3]/[150] Training: 100%|████| 5/5 [00:01<00:00,  3.22it/s, loss=3.45, train_ca=0, train_wa=0]\n",
      "Validating: 100%|███████████████████| 2/2 [00:00<00:00,  6.32it/s, val_loss=3.39, val_ca=0, val_wa=0]\n"
     ]
    },
    {
     "name": "stdout",
     "output_type": "stream",
     "text": [
      "3.5927974700927736\n",
      "Validation loss decreased (3.642829 --> 3.592797).  Saving model ...\n"
     ]
    },
    {
     "name": "stderr",
     "output_type": "stream",
     "text": [
      "Epoch: [4]/[150] Training: 100%|████| 5/5 [00:02<00:00,  2.42it/s, loss=3.37, train_ca=0, train_wa=0]\n",
      "Validating: 100%|███████████████████| 2/2 [00:00<00:00,  6.36it/s, val_loss=3.38, val_ca=0, val_wa=0]\n"
     ]
    },
    {
     "name": "stdout",
     "output_type": "stream",
     "text": [
      "3.553904036680857\n",
      "Validation loss decreased (3.592797 --> 3.553904).  Saving model ...\n"
     ]
    },
    {
     "name": "stderr",
     "output_type": "stream",
     "text": [
      "Epoch: [5]/[150] Training: 100%|████| 5/5 [00:01<00:00,  2.96it/s, loss=3.24, train_ca=0, train_wa=0]\n",
      "Validating: 100%|███████████████████| 2/2 [00:00<00:00,  4.40it/s, val_loss=3.29, val_ca=0, val_wa=0]\n"
     ]
    },
    {
     "name": "stdout",
     "output_type": "stream",
     "text": [
      "3.5165240594318936\n",
      "Validation loss decreased (3.553904 --> 3.516524).  Saving model ...\n"
     ]
    },
    {
     "name": "stderr",
     "output_type": "stream",
     "text": [
      "Epoch: [6]/[150] Training: 100%|████| 5/5 [00:01<00:00,  3.35it/s, loss=3.16, train_ca=0, train_wa=0]\n",
      "Validating: 100%|███████████████████| 2/2 [00:00<00:00,  9.24it/s, val_loss=3.51, val_ca=0, val_wa=0]\n"
     ]
    },
    {
     "name": "stdout",
     "output_type": "stream",
     "text": [
      "3.517839163541794\n",
      "EarlyStopping counter: (-3.516524 1 out of 15)\n"
     ]
    },
    {
     "name": "stderr",
     "output_type": "stream",
     "text": [
      "Epoch: [7]/[150] Training: 100%|████| 5/5 [00:00<00:00,  6.54it/s, loss=3.13, train_ca=0, train_wa=0]\n",
      "Validating: 100%|███████████████████| 2/2 [00:00<00:00, 12.33it/s, val_loss=3.25, val_ca=0, val_wa=0]\n"
     ]
    },
    {
     "name": "stdout",
     "output_type": "stream",
     "text": [
      "3.485532588428921\n",
      "Validation loss decreased (3.516524 --> 3.485533).  Saving model ...\n"
     ]
    },
    {
     "name": "stderr",
     "output_type": "stream",
     "text": [
      "Epoch: [8]/[150] Training: 100%|████| 5/5 [00:00<00:00,  6.24it/s, loss=3.07, train_ca=4, train_wa=0]\n",
      "Validating: 100%|███████████████████| 2/2 [00:00<00:00, 11.45it/s, val_loss=3.19, val_ca=5, val_wa=0]\n"
     ]
    },
    {
     "name": "stdout",
     "output_type": "stream",
     "text": [
      "3.4546441435813904\n",
      "Validation loss decreased (3.485533 --> 3.454644).  Saving model ...\n"
     ]
    },
    {
     "name": "stderr",
     "output_type": "stream",
     "text": [
      "Epoch: [9]/[150] Training: 100%|████| 5/5 [00:01<00:00,  4.33it/s, loss=3.07, train_ca=2, train_wa=0]\n",
      "Validating: 100%|███████████████████| 2/2 [00:00<00:00, 11.28it/s, val_loss=3.14, val_ca=5, val_wa=0]\n"
     ]
    },
    {
     "name": "stdout",
     "output_type": "stream",
     "text": [
      "3.4268910017880527\n",
      "Validation loss decreased (3.454644 --> 3.426891).  Saving model ...\n"
     ]
    },
    {
     "name": "stderr",
     "output_type": "stream",
     "text": [
      "Epoch: [10]/[150] Training: 100%|███| 5/5 [00:00<00:00,  5.04it/s, loss=3.04, train_ca=6, train_wa=0]\n",
      "Validating: 100%|███████████████████| 2/2 [00:00<00:00, 12.68it/s, val_loss=3.13, val_ca=5, val_wa=0]\n"
     ]
    },
    {
     "name": "stdout",
     "output_type": "stream",
     "text": [
      "3.401154319445292\n",
      "Validation loss decreased (3.426891 --> 3.401154).  Saving model ...\n"
     ]
    },
    {
     "name": "stderr",
     "output_type": "stream",
     "text": [
      "Epoch: [11]/[150] Training: 100%|███| 5/5 [00:01<00:00,  3.15it/s, loss=2.98, train_ca=8, train_wa=0]\n",
      "Validating: 100%|██████████████████| 2/2 [00:00<00:00,  6.83it/s, val_loss=3.04, val_ca=10, val_wa=0]\n"
     ]
    },
    {
     "name": "stdout",
     "output_type": "stream",
     "text": [
      "3.375106793183547\n",
      "Validation loss decreased (3.401154 --> 3.375107).  Saving model ...\n"
     ]
    },
    {
     "name": "stderr",
     "output_type": "stream",
     "text": [
      "Epoch: [12]/[150] Training: 100%|██| 5/5 [00:01<00:00,  2.62it/s, loss=3.04, train_ca=12, train_wa=0]\n",
      "Validating: 100%|██████████████████| 2/2 [00:00<00:00,  6.40it/s, val_loss=3.04, val_ca=10, val_wa=0]\n"
     ]
    },
    {
     "name": "stdout",
     "output_type": "stream",
     "text": [
      "3.3517309853008816\n",
      "Validation loss decreased (3.375107 --> 3.351731).  Saving model ...\n"
     ]
    },
    {
     "name": "stderr",
     "output_type": "stream",
     "text": [
      "Epoch: [13]/[150] Training: 100%|███| 5/5 [00:01<00:00,  3.07it/s, loss=3.03, train_ca=8, train_wa=0]\n",
      "Validating: 100%|██████████████████| 2/2 [00:00<00:00,  6.23it/s, val_loss=3.02, val_ca=10, val_wa=0]\n"
     ]
    },
    {
     "name": "stdout",
     "output_type": "stream",
     "text": [
      "3.329779616991679\n",
      "Validation loss decreased (3.351731 --> 3.329780).  Saving model ...\n"
     ]
    },
    {
     "name": "stderr",
     "output_type": "stream",
     "text": [
      "Epoch: [14]/[150] Training: 100%|███| 5/5 [00:01<00:00,  2.97it/s, loss=2.78, train_ca=8, train_wa=0]\n",
      "Validating: 100%|██████████████████| 2/2 [00:00<00:00,  6.09it/s, val_loss=3.03, val_ca=10, val_wa=0]\n"
     ]
    },
    {
     "name": "stdout",
     "output_type": "stream",
     "text": [
      "3.313233822584152\n",
      "Validation loss decreased (3.329780 --> 3.313234).  Saving model ...\n"
     ]
    },
    {
     "name": "stderr",
     "output_type": "stream",
     "text": [
      "Epoch: [15]/[150] Training: 100%|█| 5/5 [00:01<00:00,  3.19it/s, loss=3.03, train_ca=10.2, train_wa=0\n",
      "Validating: 100%|██████████████████| 2/2 [00:00<00:00,  6.22it/s, val_loss=3.01, val_ca=10, val_wa=0]\n"
     ]
    },
    {
     "name": "stdout",
     "output_type": "stream",
     "text": [
      "3.2959277559729183\n",
      "Validation loss decreased (3.313234 --> 3.295928).  Saving model ...\n"
     ]
    },
    {
     "name": "stderr",
     "output_type": "stream",
     "text": [
      "Epoch: [16]/[150] Training: 100%|█| 5/5 [00:01<00:00,  3.21it/s, loss=3.01, train_ca=5.43, train_wa=0\n",
      "Validating: 100%|███████████████████| 2/2 [00:00<00:00,  5.85it/s, val_loss=2.98, val_ca=5, val_wa=0]\n"
     ]
    },
    {
     "name": "stdout",
     "output_type": "stream",
     "text": [
      "3.279027031527625\n",
      "Validation loss decreased (3.295928 --> 3.279027).  Saving model ...\n"
     ]
    },
    {
     "name": "stderr",
     "output_type": "stream",
     "text": [
      "Epoch: [17]/[150] Training: 100%|█| 5/5 [00:01<00:00,  2.99it/s, loss=2.71, train_ca=4.44, train_wa=0\n",
      "Validating: 100%|██████████████████| 2/2 [00:00<00:00,  5.23it/s, val_loss=2.95, val_ca=10, val_wa=0]\n"
     ]
    },
    {
     "name": "stdout",
     "output_type": "stream",
     "text": [
      "3.262875324801395\n",
      "Validation loss decreased (3.279027 --> 3.262875).  Saving model ...\n"
     ]
    },
    {
     "name": "stderr",
     "output_type": "stream",
     "text": [
      "Epoch: [18]/[150] Training: 100%|█| 5/5 [00:01<00:00,  3.09it/s, loss=2.96, train_ca=4.22, train_wa=0\n",
      "Validating: 100%|███████████████████| 2/2 [00:00<00:00,  5.89it/s, val_loss=2.98, val_ca=0, val_wa=0]\n"
     ]
    },
    {
     "name": "stdout",
     "output_type": "stream",
     "text": [
      "3.2507664024829865\n",
      "Validation loss decreased (3.262875 --> 3.250766).  Saving model ...\n"
     ]
    },
    {
     "name": "stderr",
     "output_type": "stream",
     "text": [
      "Epoch: [19]/[150] Training: 100%|███| 5/5 [00:01<00:00,  2.70it/s, loss=2.98, train_ca=4, train_wa=0]\n",
      "Validating: 100%|██████████████████| 2/2 [00:00<00:00,  4.72it/s, val_loss=2.97, val_ca=10, val_wa=0]\n"
     ]
    },
    {
     "name": "stdout",
     "output_type": "stream",
     "text": [
      "3.236269610268729\n",
      "Validation loss decreased (3.250766 --> 3.236270).  Saving model ...\n"
     ]
    },
    {
     "name": "stderr",
     "output_type": "stream",
     "text": [
      "Epoch: [20]/[150] Training: 100%|███| 5/5 [00:01<00:00,  3.05it/s, loss=3.09, train_ca=4, train_wa=0]\n",
      "Validating: 100%|███████████████████| 2/2 [00:00<00:00,  9.24it/s, val_loss=2.86, val_ca=5, val_wa=0]\n"
     ]
    },
    {
     "name": "stdout",
     "output_type": "stream",
     "text": [
      "3.219693427736109\n",
      "Validation loss decreased (3.236270 --> 3.219693).  Saving model ...\n"
     ]
    },
    {
     "name": "stderr",
     "output_type": "stream",
     "text": [
      "Epoch: [21]/[150] Training: 100%|███| 5/5 [00:00<00:00,  6.08it/s, loss=2.64, train_ca=2, train_wa=0]\n",
      "Validating: 100%|███████████████████| 2/2 [00:00<00:00, 11.21it/s, val_loss=2.89, val_ca=5, val_wa=0]\n"
     ]
    },
    {
     "name": "stdout",
     "output_type": "stream",
     "text": [
      "3.2092579810515693\n",
      "Validation loss decreased (3.219693 --> 3.209258).  Saving model ...\n"
     ]
    },
    {
     "name": "stderr",
     "output_type": "stream",
     "text": [
      "Epoch: [22]/[150] Training: 100%|██| 5/5 [00:00<00:00,  5.68it/s, loss=3.26, train_ca=10, train_wa=0]\n",
      "Validating: 100%|███████████████████| 2/2 [00:00<00:00, 11.03it/s, val_loss=2.86, val_ca=5, val_wa=0]\n"
     ]
    },
    {
     "name": "stdout",
     "output_type": "stream",
     "text": [
      "3.1946192930142083\n",
      "Validation loss decreased (3.209258 --> 3.194619).  Saving model ...\n"
     ]
    },
    {
     "name": "stderr",
     "output_type": "stream",
     "text": [
      "Epoch: [23]/[150] Training: 100%|█| 5/5 [00:00<00:00,  6.35it/s, loss=3.39, train_ca=10.5, train_wa=0\n",
      "Validating: 100%|███████████████████| 2/2 [00:00<00:00, 10.88it/s, val_loss=2.84, val_ca=5, val_wa=0]\n"
     ]
    },
    {
     "name": "stdout",
     "output_type": "stream",
     "text": [
      "3.1808556175231932\n",
      "Validation loss decreased (3.194619 --> 3.180856).  Saving model ...\n"
     ]
    },
    {
     "name": "stderr",
     "output_type": "stream",
     "text": [
      "Epoch: [24]/[150] Training: 100%|█| 5/5 [00:00<00:00,  6.03it/s, loss=2.71, train_ca=10.2, train_wa=0\n",
      "Validating: 100%|██████████████████| 2/2 [00:00<00:00, 12.09it/s, val_loss=2.78, val_ca=10, val_wa=0]\n"
     ]
    },
    {
     "name": "stdout",
     "output_type": "stream",
     "text": [
      "3.1667906045913696\n",
      "Validation loss decreased (3.180856 --> 3.166791).  Saving model ...\n"
     ]
    },
    {
     "name": "stderr",
     "output_type": "stream",
     "text": [
      "Epoch: [25]/[150] Training: 100%|█| 5/5 [00:01<00:00,  4.79it/s, loss=3.22, train_ca=4.22, train_wa=0\n",
      "Validating: 100%|██████████████████| 2/2 [00:00<00:00, 12.04it/s, val_loss=2.76, val_ca=10, val_wa=0]\n"
     ]
    },
    {
     "name": "stdout",
     "output_type": "stream",
     "text": [
      "3.153202427758111\n",
      "Validation loss decreased (3.166791 --> 3.153202).  Saving model ...\n"
     ]
    },
    {
     "name": "stderr",
     "output_type": "stream",
     "text": [
      "Epoch: [26]/[150] Training: 100%|█| 5/5 [00:01<00:00,  3.23it/s, loss=2.67, train_ca=10.5, train_wa=0\n",
      "Validating: 100%|███████████████████| 2/2 [00:00<00:00,  5.92it/s, val_loss=2.77, val_ca=0, val_wa=0]\n"
     ]
    },
    {
     "name": "stdout",
     "output_type": "stream",
     "text": [
      "3.140712342091969\n",
      "Validation loss decreased (3.153202 --> 3.140712).  Saving model ...\n"
     ]
    },
    {
     "name": "stderr",
     "output_type": "stream",
     "text": [
      "Epoch: [27]/[150] Training: 100%|█| 5/5 [00:01<00:00,  3.21it/s, loss=2.9, train_ca=10.3, train_wa=0]\n",
      "Validating: 100%|███████████████████| 2/2 [00:00<00:00,  5.88it/s, val_loss=2.81, val_ca=5, val_wa=0]\n"
     ]
    },
    {
     "name": "stdout",
     "output_type": "stream",
     "text": [
      "3.129272226629586\n",
      "Validation loss decreased (3.140712 --> 3.129272).  Saving model ...\n"
     ]
    },
    {
     "name": "stderr",
     "output_type": "stream",
     "text": [
      "Epoch: [28]/[150] Training: 100%|█| 5/5 [00:01<00:00,  3.09it/s, loss=2.56, train_ca=16.2, train_wa=0\n",
      "Validating: 100%|██████████████████| 2/2 [00:00<00:00,  6.62it/s, val_loss=2.73, val_ca=10, val_wa=0]\n"
     ]
    },
    {
     "name": "stdout",
     "output_type": "stream",
     "text": [
      "3.1177042524019876\n",
      "Validation loss decreased (3.129272 --> 3.117704).  Saving model ...\n"
     ]
    },
    {
     "name": "stderr",
     "output_type": "stream",
     "text": [
      "Epoch: [29]/[150] Training: 100%|█| 5/5 [00:01<00:00,  3.14it/s, loss=2.84, train_ca=16.2, train_wa=0\n",
      "Validating: 100%|███████████████████| 2/2 [00:00<00:00,  6.06it/s, val_loss=2.78, val_ca=5, val_wa=0]\n"
     ]
    },
    {
     "name": "stdout",
     "output_type": "stream",
     "text": [
      "3.1076052688783213\n",
      "Validation loss decreased (3.117704 --> 3.107605).  Saving model ...\n"
     ]
    },
    {
     "name": "stderr",
     "output_type": "stream",
     "text": [
      "Epoch: [30]/[150] Training: 100%|██| 5/5 [00:01<00:00,  3.32it/s, loss=3.03, train_ca=16, train_wa=0]\n",
      "Validating: 100%|███████████████████| 2/2 [00:00<00:00,  5.37it/s, val_loss=2.74, val_ca=0, val_wa=0]\n"
     ]
    },
    {
     "name": "stdout",
     "output_type": "stream",
     "text": [
      "3.09759633615613\n",
      "Validation loss decreased (3.107605 --> 3.097596).  Saving model ...\n"
     ]
    },
    {
     "name": "stderr",
     "output_type": "stream",
     "text": [
      "Epoch: [31]/[150] Training: 100%|█| 5/5 [00:01<00:00,  3.14it/s, loss=2.9, train_ca=10.5, train_wa=0]\n",
      "Validating: 100%|███████████████████| 2/2 [00:00<00:00,  5.86it/s, val_loss=2.86, val_ca=5, val_wa=0]\n"
     ]
    },
    {
     "name": "stdout",
     "output_type": "stream",
     "text": [
      "3.0915462826237534\n",
      "Validation loss decreased (3.097596 --> 3.091546).  Saving model ...\n"
     ]
    },
    {
     "name": "stderr",
     "output_type": "stream",
     "text": [
      "Epoch: [32]/[150] Training: 100%|██| 5/5 [00:01<00:00,  3.34it/s, loss=2.67, train_ca=10, train_wa=0]\n",
      "Validating: 100%|███████████████████| 2/2 [00:00<00:00,  6.25it/s, val_loss=2.76, val_ca=5, val_wa=0]\n"
     ]
    },
    {
     "name": "stdout",
     "output_type": "stream",
     "text": [
      "3.0825213825001434\n",
      "Validation loss decreased (3.091546 --> 3.082521).  Saving model ...\n"
     ]
    },
    {
     "name": "stderr",
     "output_type": "stream",
     "text": [
      "Epoch: [33]/[150] Training: 100%|██| 5/5 [00:01<00:00,  3.54it/s, loss=2.42, train_ca=14, train_wa=0]\n",
      "Validating: 100%|███████████████████| 2/2 [00:00<00:00,  6.55it/s, val_loss=2.81, val_ca=0, val_wa=0]\n"
     ]
    },
    {
     "name": "stdout",
     "output_type": "stream",
     "text": [
      "3.075782700947353\n",
      "Validation loss decreased (3.082521 --> 3.075783).  Saving model ...\n"
     ]
    },
    {
     "name": "stderr",
     "output_type": "stream",
     "text": [
      "Epoch: [34]/[150] Training: 100%|██| 5/5 [00:02<00:00,  2.22it/s, loss=2.53, train_ca=18, train_wa=0]\n",
      "Validating: 100%|██████████████████| 2/2 [00:00<00:00,  4.64it/s, val_loss=2.76, val_ca=10, val_wa=0]\n"
     ]
    },
    {
     "name": "stdout",
     "output_type": "stream",
     "text": [
      "3.068105571799808\n",
      "Validation loss decreased (3.075783 --> 3.068106).  Saving model ...\n"
     ]
    },
    {
     "name": "stderr",
     "output_type": "stream",
     "text": [
      "Epoch: [35]/[150] Training: 100%|█| 5/5 [00:00<00:00,  5.83it/s, loss=2.52, train_ca=10.7, train_wa=0\n",
      "Validating: 100%|██████████████████| 2/2 [00:00<00:00, 10.51it/s, val_loss=2.74, val_ca=10, val_wa=0]\n"
     ]
    },
    {
     "name": "stdout",
     "output_type": "stream",
     "text": [
      "3.0624335231007755\n",
      "Validation loss decreased (3.068106 --> 3.062434).  Saving model ...\n"
     ]
    },
    {
     "name": "stderr",
     "output_type": "stream",
     "text": [
      "Epoch: [36]/[150] Training: 100%|█| 5/5 [00:00<00:00,  5.65it/s, loss=2.75, train_ca=20.2, train_wa=0\n",
      "Validating: 100%|████████████████████| 2/2 [00:00<00:00, 10.37it/s, val_loss=2.8, val_ca=5, val_wa=0]\n"
     ]
    },
    {
     "name": "stdout",
     "output_type": "stream",
     "text": [
      "3.0571491875146566\n",
      "Validation loss decreased (3.062434 --> 3.057149).  Saving model ...\n"
     ]
    },
    {
     "name": "stderr",
     "output_type": "stream",
     "text": [
      "Epoch: [37]/[150] Training: 100%|█| 5/5 [00:00<00:00,  5.62it/s, loss=2.94, train_ca=12.4, train_wa=0\n",
      "Validating: 100%|███████████████████| 2/2 [00:00<00:00, 11.13it/s, val_loss=2.96, val_ca=0, val_wa=0]\n"
     ]
    },
    {
     "name": "stdout",
     "output_type": "stream",
     "text": [
      "3.056504188439785\n",
      "Validation loss decreased (3.057149 --> 3.056504).  Saving model ...\n"
     ]
    },
    {
     "name": "stderr",
     "output_type": "stream",
     "text": [
      "Epoch: [38]/[150] Training: 100%|█| 5/5 [00:00<00:00,  5.90it/s, loss=2.5, train_ca=18.2, train_wa=0]\n",
      "Validating: 100%|███████████████████| 2/2 [00:00<00:00, 12.65it/s, val_loss=2.84, val_ca=5, val_wa=0]\n"
     ]
    },
    {
     "name": "stdout",
     "output_type": "stream",
     "text": [
      "3.050396743416786\n",
      "Validation loss decreased (3.056504 --> 3.050397).  Saving model ...\n"
     ]
    },
    {
     "name": "stderr",
     "output_type": "stream",
     "text": [
      "Epoch: [39]/[150] Training: 100%|██| 5/5 [00:00<00:00,  6.74it/s, loss=2.33, train_ca=26, train_wa=0]\n",
      "Validating: 100%|███████████████████| 2/2 [00:00<00:00, 11.96it/s, val_loss=2.7, val_ca=10, val_wa=0]\n"
     ]
    },
    {
     "name": "stdout",
     "output_type": "stream",
     "text": [
      "3.046404818209206\n",
      "Validation loss decreased (3.050397 --> 3.046405).  Saving model ...\n"
     ]
    },
    {
     "name": "stderr",
     "output_type": "stream",
     "text": [
      "Epoch: [40]/[150] Training: 100%|█| 5/5 [00:01<00:00,  3.60it/s, loss=2.95, train_ca=14.5, train_wa=0\n",
      "Validating: 100%|███████████████████| 2/2 [00:00<00:00,  6.86it/s, val_loss=2.74, val_ca=0, val_wa=0]\n"
     ]
    },
    {
     "name": "stdout",
     "output_type": "stream",
     "text": [
      "3.0407680925868807\n",
      "Validation loss decreased (3.046405 --> 3.040768).  Saving model ...\n"
     ]
    },
    {
     "name": "stderr",
     "output_type": "stream",
     "text": [
      "Epoch: [41]/[150] Training: 100%|█| 5/5 [00:01<00:00,  3.21it/s, loss=2.4, train_ca=20.7, train_wa=0]\n",
      "Validating: 100%|██████████████████| 2/2 [00:00<00:00,  6.01it/s, val_loss=2.58, val_ca=10, val_wa=0]\n"
     ]
    },
    {
     "name": "stdout",
     "output_type": "stream",
     "text": [
      "3.0329308260318846\n",
      "Validation loss decreased (3.040768 --> 3.032931).  Saving model ...\n"
     ]
    },
    {
     "name": "stderr",
     "output_type": "stream",
     "text": [
      "Epoch: [42]/[150] Training: 100%|█| 5/5 [00:01<00:00,  3.19it/s, loss=2.78, train_ca=15.2, train_wa=0\n",
      "Validating: 100%|███████████████████| 2/2 [00:00<00:00,  6.17it/s, val_loss=2.94, val_ca=0, val_wa=0]\n"
     ]
    },
    {
     "name": "stdout",
     "output_type": "stream",
     "text": [
      "3.031511304053393\n",
      "Validation loss decreased (3.032931 --> 3.031511).  Saving model ...\n"
     ]
    },
    {
     "name": "stderr",
     "output_type": "stream",
     "text": [
      "Epoch: [43]/[150] Training: 100%|█| 5/5 [00:01<00:00,  3.09it/s, loss=2.56, train_ca=18.5, train_wa=0\n",
      "Validating: 100%|████████████████████| 2/2 [00:00<00:00,  5.67it/s, val_loss=2.7, val_ca=0, val_wa=0]\n"
     ]
    },
    {
     "name": "stdout",
     "output_type": "stream",
     "text": [
      "3.0250435458289253\n",
      "Validation loss decreased (3.031511 --> 3.025044).  Saving model ...\n"
     ]
    },
    {
     "name": "stderr",
     "output_type": "stream",
     "text": [
      "Epoch: [44]/[150] Training: 100%|█| 5/5 [00:01<00:00,  2.91it/s, loss=2.55, train_ca=14.4, train_wa=0\n",
      "Validating: 100%|███████████████████| 2/2 [00:00<00:00,  5.73it/s, val_loss=2.75, val_ca=0, val_wa=0]\n"
     ]
    },
    {
     "name": "stdout",
     "output_type": "stream",
     "text": [
      "3.0204851212708848\n",
      "Validation loss decreased (3.025044 --> 3.020485).  Saving model ...\n"
     ]
    },
    {
     "name": "stderr",
     "output_type": "stream",
     "text": [
      "Epoch: [45]/[150] Training: 100%|██| 5/5 [00:01<00:00,  2.91it/s, loss=2.57, train_ca=20, train_wa=0]\n",
      "Validating: 100%|██████████████████| 2/2 [00:00<00:00,  5.01it/s, val_loss=3.07, val_ca=10, val_wa=0]\n"
     ]
    },
    {
     "name": "stdout",
     "output_type": "stream",
     "text": [
      "3.0217869154950407\n",
      "EarlyStopping counter: (-3.020485 1 out of 15)\n"
     ]
    },
    {
     "name": "stderr",
     "output_type": "stream",
     "text": [
      "Epoch: [46]/[150] Training: 100%|██| 5/5 [00:01<00:00,  2.95it/s, loss=2.68, train_ca=10, train_wa=0]\n",
      "Validating: 100%|██████████████████| 2/2 [00:00<00:00,  5.31it/s, val_loss=2.59, val_ca=10, val_wa=0]\n"
     ]
    },
    {
     "name": "stdout",
     "output_type": "stream",
     "text": [
      "3.01446491231521\n",
      "Validation loss decreased (3.020485 --> 3.014465).  Saving model ...\n"
     ]
    },
    {
     "name": "stderr",
     "output_type": "stream",
     "text": [
      "Epoch: [47]/[150] Training: 100%|███| 5/5 [00:01<00:00,  2.82it/s, loss=2.53, train_ca=6, train_wa=0]\n",
      "Validating: 100%|██████████████████| 2/2 [00:00<00:00,  6.36it/s, val_loss=2.54, val_ca=10, val_wa=0]\n"
     ]
    },
    {
     "name": "stdout",
     "output_type": "stream",
     "text": [
      "3.008196631256415\n",
      "Validation loss decreased (3.014465 --> 3.008197).  Saving model ...\n"
     ]
    },
    {
     "name": "stderr",
     "output_type": "stream",
     "text": [
      "Epoch: [48]/[150] Training: 100%|█| 5/5 [00:01<00:00,  3.33it/s, loss=2.87, train_ca=14.4, train_wa=0\n",
      "Validating: 100%|███████████████████| 2/2 [00:00<00:00,  5.89it/s, val_loss=2.89, val_ca=5, val_wa=0]\n"
     ]
    },
    {
     "name": "stdout",
     "output_type": "stream",
     "text": [
      "3.0049130630493166\n",
      "Validation loss decreased (3.008197 --> 3.004913).  Saving model ...\n"
     ]
    },
    {
     "name": "stderr",
     "output_type": "stream",
     "text": [
      "Epoch: [49]/[150] Training: 100%|██| 5/5 [00:01<00:00,  3.35it/s, loss=2.41, train_ca=22, train_wa=0]\n",
      "Validating: 100%|██████████████████| 2/2 [00:00<00:00,  9.14it/s, val_loss=2.57, val_ca=15, val_wa=0]\n"
     ]
    },
    {
     "name": "stdout",
     "output_type": "stream",
     "text": [
      "2.9992626180835797\n",
      "Validation loss decreased (3.004913 --> 2.999263).  Saving model ...\n"
     ]
    },
    {
     "name": "stderr",
     "output_type": "stream",
     "text": [
      "Epoch: [50]/[150] Training: 100%|█| 5/5 [00:00<00:00,  6.17it/s, loss=2.49, train_ca=21.5, train_wa=0\n",
      "Validating: 100%|████████████████████| 2/2 [00:00<00:00, 11.78it/s, val_loss=2.9, val_ca=5, val_wa=0]\n"
     ]
    },
    {
     "name": "stdout",
     "output_type": "stream",
     "text": [
      "2.9980620604294996\n",
      "Validation loss decreased (2.999263 --> 2.998062).  Saving model ...\n"
     ]
    },
    {
     "name": "stderr",
     "output_type": "stream",
     "text": [
      "Epoch: [51]/[150] Training: 100%|█| 5/5 [00:00<00:00,  6.44it/s, loss=2.42, train_ca=21.9, train_wa=0\n",
      "Validating: 100%|██████████████████| 2/2 [00:00<00:00, 12.69it/s, val_loss=2.81, val_ca=10, val_wa=0]\n"
     ]
    },
    {
     "name": "stdout",
     "output_type": "stream",
     "text": [
      "2.99429992459855\n",
      "Validation loss decreased (2.998062 --> 2.994300).  Saving model ...\n"
     ]
    },
    {
     "name": "stderr",
     "output_type": "stream",
     "text": [
      "Epoch: [52]/[150] Training: 100%|█| 5/5 [00:00<00:00,  5.90it/s, loss=2.24, train_ca=20.2, train_wa=0\n",
      "Validating: 100%|██████████████████| 2/2 [00:00<00:00, 11.16it/s, val_loss=2.47, val_ca=10, val_wa=0]\n"
     ]
    },
    {
     "name": "stdout",
     "output_type": "stream",
     "text": [
      "2.987587657239702\n",
      "Validation loss decreased (2.994300 --> 2.987588).  Saving model ...\n"
     ]
    },
    {
     "name": "stderr",
     "output_type": "stream",
     "text": [
      "Epoch: [53]/[150] Training: 100%|██| 5/5 [00:01<00:00,  3.76it/s, loss=2.21, train_ca=23, train_wa=0]\n",
      "Validating: 100%|██████████████████| 2/2 [00:00<00:00, 11.60it/s, val_loss=2.51, val_ca=10, val_wa=0]\n"
     ]
    },
    {
     "name": "stdout",
     "output_type": "stream",
     "text": [
      "2.981479698961431\n",
      "Validation loss decreased (2.987588 --> 2.981480).  Saving model ...\n"
     ]
    },
    {
     "name": "stderr",
     "output_type": "stream",
     "text": [
      "Epoch: [54]/[150] Training: 100%|█| 5/5 [00:00<00:00,  6.63it/s, loss=2.45, train_ca=22.7, train_wa=0\n",
      "Validating: 100%|███████████████████| 2/2 [00:00<00:00, 11.95it/s, val_loss=2.82, val_ca=0, val_wa=0]\n"
     ]
    },
    {
     "name": "stdout",
     "output_type": "stream",
     "text": [
      "2.9782452349151884\n",
      "Validation loss decreased (2.981480 --> 2.978245).  Saving model ...\n"
     ]
    },
    {
     "name": "stderr",
     "output_type": "stream",
     "text": [
      "Epoch: [55]/[150] Training: 100%|██| 5/5 [00:00<00:00,  6.57it/s, loss=2.26, train_ca=28, train_wa=0]\n",
      "Validating: 100%|███████████████████| 2/2 [00:00<00:00, 12.33it/s, val_loss=2.66, val_ca=5, val_wa=0]\n"
     ]
    },
    {
     "name": "stdout",
     "output_type": "stream",
     "text": [
      "2.9736213997790686\n",
      "Validation loss decreased (2.978245 --> 2.973621).  Saving model ...\n"
     ]
    },
    {
     "name": "stderr",
     "output_type": "stream",
     "text": [
      "Epoch: [56]/[150] Training: 100%|█| 5/5 [00:01<00:00,  4.46it/s, loss=2.21, train_ca=27.5, train_wa=0\n",
      "Validating: 100%|███████████████████| 2/2 [00:00<00:00,  5.11it/s, val_loss=2.69, val_ca=0, val_wa=0]\n"
     ]
    },
    {
     "name": "stdout",
     "output_type": "stream",
     "text": [
      "2.9694273410172296\n",
      "Validation loss decreased (2.973621 --> 2.969427).  Saving model ...\n"
     ]
    },
    {
     "name": "stderr",
     "output_type": "stream",
     "text": [
      "Epoch: [57]/[150] Training: 100%|█| 5/5 [00:01<00:00,  2.85it/s, loss=2.33, train_ca=30.2, train_wa=0\n",
      "Validating: 100%|███████████████████| 2/2 [00:00<00:00,  6.02it/s, val_loss=2.91, val_ca=0, val_wa=0]\n"
     ]
    },
    {
     "name": "stdout",
     "output_type": "stream",
     "text": [
      "2.9684148077237404\n",
      "Validation loss decreased (2.969427 --> 2.968415).  Saving model ...\n"
     ]
    },
    {
     "name": "stderr",
     "output_type": "stream",
     "text": [
      "Epoch: [58]/[150] Training: 100%|█| 5/5 [00:01<00:00,  3.01it/s, loss=2.55, train_ca=19.7, train_wa=0\n",
      "Validating: 100%|██████████████████| 2/2 [00:00<00:00,  4.94it/s, val_loss=2.69, val_ca=10, val_wa=0]\n"
     ]
    },
    {
     "name": "stdout",
     "output_type": "stream",
     "text": [
      "2.9656656444072724\n",
      "Validation loss decreased (2.968415 --> 2.965666).  Saving model ...\n"
     ]
    },
    {
     "name": "stderr",
     "output_type": "stream",
     "text": [
      "Epoch: [59]/[150] Training: 100%|█| 5/5 [00:01<00:00,  3.00it/s, loss=2.39, train_ca=23.5, train_wa=0\n",
      "Validating: 100%|██████████████████| 2/2 [00:00<00:00,  4.94it/s, val_loss=2.58, val_ca=15, val_wa=0]\n"
     ]
    },
    {
     "name": "stdout",
     "output_type": "stream",
     "text": [
      "2.961392590256988\n",
      "Validation loss decreased (2.965666 --> 2.961393).  Saving model ...\n"
     ]
    },
    {
     "name": "stderr",
     "output_type": "stream",
     "text": [
      "Epoch: [60]/[150] Training: 100%|█| 5/5 [00:01<00:00,  2.76it/s, loss=2.28, train_ca=24.4, train_wa=0\n",
      "Validating: 100%|██████████████████| 2/2 [00:00<00:00,  4.96it/s, val_loss=2.38, val_ca=15, val_wa=0]\n"
     ]
    },
    {
     "name": "stdout",
     "output_type": "stream",
     "text": [
      "2.955008970152947\n",
      "Validation loss decreased (2.961393 --> 2.955009).  Saving model ...\n"
     ]
    },
    {
     "name": "stderr",
     "output_type": "stream",
     "text": [
      "Epoch: [61]/[150] Training: 100%|█| 5/5 [00:01<00:00,  3.02it/s, loss=2.36, train_ca=29.3, train_wa=0\n",
      "Validating: 100%|██████████████████| 2/2 [00:00<00:00,  6.35it/s, val_loss=2.27, val_ca=25, val_wa=0]\n"
     ]
    },
    {
     "name": "stdout",
     "output_type": "stream",
     "text": [
      "2.9485729686797613\n",
      "Validation loss decreased (2.955009 --> 2.948573).  Saving model ...\n"
     ]
    },
    {
     "name": "stderr",
     "output_type": "stream",
     "text": [
      "Epoch: [62]/[150] Training: 100%|█| 5/5 [00:01<00:00,  3.03it/s, loss=2.19, train_ca=25.1, train_wa=0\n",
      "Validating: 100%|███████████████████| 2/2 [00:00<00:00,  5.69it/s, val_loss=2.83, val_ca=5, val_wa=0]\n"
     ]
    },
    {
     "name": "stdout",
     "output_type": "stream",
     "text": [
      "2.946373227983713\n",
      "Validation loss decreased (2.948573 --> 2.946373).  Saving model ...\n"
     ]
    },
    {
     "name": "stderr",
     "output_type": "stream",
     "text": [
      "Epoch: [63]/[150] Training: 100%|█| 5/5 [00:01<00:00,  3.05it/s, loss=2.28, train_ca=22.4, train_wa=0\n",
      "Validating: 100%|███████████████████| 2/2 [00:00<00:00,  6.15it/s, val_loss=2.51, val_ca=5, val_wa=0]\n"
     ]
    },
    {
     "name": "stdout",
     "output_type": "stream",
     "text": [
      "2.9419790598062368\n",
      "Validation loss decreased (2.946373 --> 2.941979).  Saving model ...\n"
     ]
    },
    {
     "name": "stderr",
     "output_type": "stream",
     "text": [
      "Epoch: [64]/[150] Training: 100%|█| 5/5 [00:01<00:00,  3.16it/s, loss=2.08, train_ca=24.7, train_wa=0\n",
      "Validating: 100%|███████████████████| 2/2 [00:00<00:00, 10.54it/s, val_loss=2.85, val_ca=5, val_wa=0]\n"
     ]
    },
    {
     "name": "stdout",
     "output_type": "stream",
     "text": [
      "2.940238387295694\n",
      "Validation loss decreased (2.941979 --> 2.940238).  Saving model ...\n"
     ]
    },
    {
     "name": "stderr",
     "output_type": "stream",
     "text": [
      "Epoch: [65]/[150] Training: 100%|█| 5/5 [00:00<00:00,  6.45it/s, loss=2.2, train_ca=22.4, train_wa=0]\n",
      "Validating: 100%|████████████████████| 2/2 [00:00<00:00, 11.89it/s, val_loss=2.8, val_ca=0, val_wa=0]\n"
     ]
    },
    {
     "name": "stdout",
     "output_type": "stream",
     "text": [
      "2.938102611854895\n",
      "Validation loss decreased (2.940238 --> 2.938103).  Saving model ...\n"
     ]
    },
    {
     "name": "stderr",
     "output_type": "stream",
     "text": [
      "Epoch: [66]/[150] Training: 100%|██| 5/5 [00:00<00:00,  6.51it/s, loss=1.86, train_ca=38, train_wa=0]\n",
      "Validating: 100%|███████████████████| 2/2 [00:00<00:00, 11.74it/s, val_loss=2.88, val_ca=5, val_wa=0]\n"
     ]
    },
    {
     "name": "stdout",
     "output_type": "stream",
     "text": [
      "2.9370625807958493\n",
      "Validation loss decreased (2.938103 --> 2.937063).  Saving model ...\n"
     ]
    },
    {
     "name": "stderr",
     "output_type": "stream",
     "text": [
      "Epoch: [67]/[150] Training: 100%|█| 5/5 [00:00<00:00,  6.09it/s, loss=2.58, train_ca=20.4, train_wa=0\n",
      "Validating: 100%|██████████████████| 2/2 [00:00<00:00,  8.79it/s, val_loss=2.46, val_ca=15, val_wa=0]\n"
     ]
    },
    {
     "name": "stdout",
     "output_type": "stream",
     "text": [
      "2.9344544203385063\n",
      "Validation loss decreased (2.937063 --> 2.934454).  Saving model ...\n"
     ]
    },
    {
     "name": "stderr",
     "output_type": "stream",
     "text": [
      "Epoch: [68]/[150] Training: 100%|█| 5/5 [00:00<00:00,  5.75it/s, loss=2.36, train_ca=40, train_wa=0.2\n",
      "Validating: 100%|██████████████████| 2/2 [00:00<00:00, 11.19it/s, val_loss=2.75, val_ca=15, val_wa=0]\n"
     ]
    },
    {
     "name": "stdout",
     "output_type": "stream",
     "text": [
      "2.93382362978799\n",
      "Validation loss decreased (2.934454 --> 2.933824).  Saving model ...\n"
     ]
    },
    {
     "name": "stderr",
     "output_type": "stream",
     "text": [
      "Epoch: [69]/[150] Training: 100%|█| 5/5 [00:00<00:00,  6.67it/s, loss=2.39, train_ca=20.3, train_wa=0\n",
      "Validating: 100%|███████████████████| 2/2 [00:00<00:00, 12.47it/s, val_loss=2.82, val_ca=0, val_wa=0]\n"
     ]
    },
    {
     "name": "stdout",
     "output_type": "stream",
     "text": [
      "2.9317098285110905\n",
      "Validation loss decreased (2.933824 --> 2.931710).  Saving model ...\n"
     ]
    },
    {
     "name": "stderr",
     "output_type": "stream",
     "text": [
      "Epoch: [70]/[150] Training: 100%|██| 5/5 [00:01<00:00,  4.51it/s, loss=2.12, train_ca=30, train_wa=0]\n",
      "Validating: 100%|██████████████████| 2/2 [00:00<00:00,  8.88it/s, val_loss=2.65, val_ca=15, val_wa=0]\n"
     ]
    },
    {
     "name": "stdout",
     "output_type": "stream",
     "text": [
      "2.929628418551551\n",
      "Validation loss decreased (2.931710 --> 2.929628).  Saving model ...\n"
     ]
    },
    {
     "name": "stderr",
     "output_type": "stream",
     "text": [
      "Epoch: [71]/[150] Training: 100%|██| 5/5 [00:01<00:00,  3.23it/s, loss=2.11, train_ca=28, train_wa=0]\n",
      "Validating: 100%|██████████████████| 2/2 [00:00<00:00,  6.27it/s, val_loss=2.23, val_ca=20, val_wa=0]\n"
     ]
    },
    {
     "name": "stdout",
     "output_type": "stream",
     "text": [
      "2.9245345200577826\n",
      "Validation loss decreased (2.929628 --> 2.924535).  Saving model ...\n"
     ]
    },
    {
     "name": "stderr",
     "output_type": "stream",
     "text": [
      "Epoch: [72]/[150] Training: 100%|██| 5/5 [00:01<00:00,  2.89it/s, loss=2.33, train_ca=27, train_wa=0]\n",
      "Validating: 100%|██████████████████| 2/2 [00:00<00:00,  5.47it/s, val_loss=2.93, val_ca=15, val_wa=0]\n"
     ]
    },
    {
     "name": "stdout",
     "output_type": "stream",
     "text": [
      "2.924610733985901\n",
      "EarlyStopping counter: (-2.924535 1 out of 15)\n"
     ]
    },
    {
     "name": "stderr",
     "output_type": "stream",
     "text": [
      "Epoch: [73]/[150] Training: 100%|█| 5/5 [00:01<00:00,  2.94it/s, loss=2.13, train_ca=28.9, train_wa=0\n",
      "Validating: 100%|███████████████████| 2/2 [00:00<00:00,  5.96it/s, val_loss=2.4, val_ca=15, val_wa=0]\n"
     ]
    },
    {
     "name": "stdout",
     "output_type": "stream",
     "text": [
      "2.9214522218704224\n",
      "Validation loss decreased (2.924535 --> 2.921452).  Saving model ...\n"
     ]
    },
    {
     "name": "stderr",
     "output_type": "stream",
     "text": [
      "Epoch: [74]/[150] Training: 100%|█| 5/5 [00:01<00:00,  2.68it/s, loss=2.08, train_ca=35.3, train_wa=0\n",
      "Validating: 100%|██████████████████| 2/2 [00:00<00:00,  5.23it/s, val_loss=2.14, val_ca=25, val_wa=0]\n"
     ]
    },
    {
     "name": "stdout",
     "output_type": "stream",
     "text": [
      "2.9162803904006354\n",
      "Validation loss decreased (2.921452 --> 2.916280).  Saving model ...\n"
     ]
    },
    {
     "name": "stderr",
     "output_type": "stream",
     "text": [
      "Epoch: [75]/[150] Training: 100%|██| 5/5 [00:01<00:00,  3.07it/s, loss=3.3, train_ca=9.8, train_wa=0]\n",
      "Validating: 100%|██████████████████| 2/2 [00:00<00:00,  5.10it/s, val_loss=2.47, val_ca=10, val_wa=0]\n"
     ]
    },
    {
     "name": "stdout",
     "output_type": "stream",
     "text": [
      "2.913620009050741\n",
      "Validation loss decreased (2.916280 --> 2.913620).  Saving model ...\n"
     ]
    },
    {
     "name": "stderr",
     "output_type": "stream",
     "text": [
      "Epoch: [76]/[150] Training: 100%|█| 5/5 [00:01<00:00,  3.03it/s, loss=2.04, train_ca=26.2, train_wa=0\n",
      "Validating: 100%|██████████████████| 2/2 [00:00<00:00,  6.00it/s, val_loss=2.46, val_ca=10, val_wa=0]\n"
     ]
    },
    {
     "name": "stdout",
     "output_type": "stream",
     "text": [
      "2.9105977018674216\n",
      "Validation loss decreased (2.913620 --> 2.910598).  Saving model ...\n"
     ]
    },
    {
     "name": "stderr",
     "output_type": "stream",
     "text": [
      "Epoch: [77]/[150] Training: 100%|██| 5/5 [00:01<00:00,  3.03it/s, loss=2.31, train_ca=22, train_wa=0]\n",
      "Validating: 100%|██████████████████| 2/2 [00:00<00:00,  5.22it/s, val_loss=2.45, val_ca=25, val_wa=0]\n"
     ]
    },
    {
     "name": "stdout",
     "output_type": "stream",
     "text": [
      "2.908121756360501\n",
      "Validation loss decreased (2.910598 --> 2.908122).  Saving model ...\n"
     ]
    },
    {
     "name": "stderr",
     "output_type": "stream",
     "text": [
      "Epoch: [78]/[150] Training: 100%|█| 5/5 [00:01<00:00,  2.92it/s, loss=2.98, train_ca=20.1, train_wa=0\n",
      "Validating: 100%|██████████████████| 2/2 [00:00<00:00,  5.31it/s, val_loss=2.45, val_ca=10, val_wa=0]\n"
     ]
    },
    {
     "name": "stdout",
     "output_type": "stream",
     "text": [
      "2.9058523312211038\n",
      "Validation loss decreased (2.908122 --> 2.905852).  Saving model ...\n"
     ]
    },
    {
     "name": "stderr",
     "output_type": "stream",
     "text": [
      "Epoch: [79]/[150] Training: 100%|██| 5/5 [00:01<00:00,  3.43it/s, loss=2.25, train_ca=39, train_wa=0]\n",
      "Validating: 100%|███████████████████| 2/2 [00:00<00:00, 11.12it/s, val_loss=2.68, val_ca=5, val_wa=0]\n"
     ]
    },
    {
     "name": "stdout",
     "output_type": "stream",
     "text": [
      "2.9048396201781284\n",
      "Validation loss decreased (2.905852 --> 2.904840).  Saving model ...\n"
     ]
    },
    {
     "name": "stderr",
     "output_type": "stream",
     "text": [
      "Epoch: [80]/[150] Training: 100%|█| 5/5 [00:00<00:00,  6.42it/s, loss=2.13, train_ca=33.1, train_wa=0\n",
      "Validating: 100%|██████████████████| 2/2 [00:00<00:00, 11.63it/s, val_loss=2.45, val_ca=15, val_wa=0]\n"
     ]
    },
    {
     "name": "stdout",
     "output_type": "stream",
     "text": [
      "2.902577728759952\n",
      "Validation loss decreased (2.904840 --> 2.902578).  Saving model ...\n"
     ]
    },
    {
     "name": "stderr",
     "output_type": "stream",
     "text": [
      "Epoch: [81]/[150] Training: 100%|██| 5/5 [00:00<00:00,  6.31it/s, loss=2.23, train_ca=26, train_wa=0]\n",
      "Validating: 100%|███████████████████| 2/2 [00:00<00:00, 12.43it/s, val_loss=2.98, val_ca=5, val_wa=0]\n"
     ]
    },
    {
     "name": "stdout",
     "output_type": "stream",
     "text": [
      "2.903456982359829\n",
      "EarlyStopping counter: (-2.902578 1 out of 15)\n"
     ]
    },
    {
     "name": "stderr",
     "output_type": "stream",
     "text": [
      "Epoch: [82]/[150] Training: 100%|██| 5/5 [00:00<00:00,  6.60it/s, loss=2.21, train_ca=28, train_wa=0]\n",
      "Validating: 100%|██████████████████| 2/2 [00:00<00:00,  9.58it/s, val_loss=2.82, val_ca=15, val_wa=0]\n"
     ]
    },
    {
     "name": "stdout",
     "output_type": "stream",
     "text": [
      "2.903927920829682\n",
      "EarlyStopping counter: (-2.902578 2 out of 15)\n"
     ]
    },
    {
     "name": "stderr",
     "output_type": "stream",
     "text": [
      "Epoch: [83]/[150] Training: 100%|█| 5/5 [00:00<00:00,  6.25it/s, loss=2.18, train_ca=28.4, train_wa=0\n",
      "Validating: 100%|██████████████████| 2/2 [00:00<00:00, 11.23it/s, val_loss=2.59, val_ca=20, val_wa=0]\n"
     ]
    },
    {
     "name": "stdout",
     "output_type": "stream",
     "text": [
      "2.903486863304587\n",
      "EarlyStopping counter: (-2.902578 3 out of 15)\n"
     ]
    },
    {
     "name": "stderr",
     "output_type": "stream",
     "text": [
      "Epoch: [84]/[150] Training: 100%|█| 5/5 [00:00<00:00,  6.06it/s, loss=2.34, train_ca=18.7, train_wa=0\n",
      "Validating: 100%|██████████████████| 2/2 [00:00<00:00, 11.26it/s, val_loss=2.51, val_ca=30, val_wa=0]\n"
     ]
    },
    {
     "name": "stdout",
     "output_type": "stream",
     "text": [
      "2.9022343948830005\n",
      "Validation loss decreased (2.902578 --> 2.902234).  Saving model ...\n"
     ]
    },
    {
     "name": "stderr",
     "output_type": "stream",
     "text": [
      "Epoch: [85]/[150] Training: 100%|█| 5/5 [00:00<00:00,  6.67it/s, loss=1.95, train_ca=24.9, train_wa=0\n",
      "Validating: 100%|██████████████████| 2/2 [00:00<00:00, 12.55it/s, val_loss=2.85, val_ca=15, val_wa=0]\n"
     ]
    },
    {
     "name": "stdout",
     "output_type": "stream",
     "text": [
      "2.903093765521872\n",
      "EarlyStopping counter: (-2.902234 1 out of 15)\n"
     ]
    },
    {
     "name": "stderr",
     "output_type": "stream",
     "text": [
      "Epoch: [86]/[150] Training: 100%|█| 5/5 [00:00<00:00,  6.70it/s, loss=2.11, train_ca=28.2, train_wa=0\n",
      "Validating: 100%|██████████████████| 2/2 [00:00<00:00, 12.26it/s, val_loss=2.37, val_ca=25, val_wa=0]\n"
     ]
    },
    {
     "name": "stdout",
     "output_type": "stream",
     "text": [
      "2.899910185824741\n",
      "Validation loss decreased (2.902234 --> 2.899910).  Saving model ...\n"
     ]
    },
    {
     "name": "stderr",
     "output_type": "stream",
     "text": [
      "Epoch: [87]/[150] Training: 100%|█| 5/5 [00:00<00:00,  6.83it/s, loss=2.01, train_ca=28.7, train_wa=0\n",
      "Validating: 100%|██████████████████| 2/2 [00:00<00:00, 12.75it/s, val_loss=2.93, val_ca=25, val_wa=0]\n"
     ]
    },
    {
     "name": "stdout",
     "output_type": "stream",
     "text": [
      "2.9010913720291653\n",
      "EarlyStopping counter: (-2.899910 1 out of 15)\n"
     ]
    },
    {
     "name": "stderr",
     "output_type": "stream",
     "text": [
      "Epoch: [88]/[150] Training: 100%|██| 5/5 [00:01<00:00,  4.49it/s, loss=2.02, train_ca=30, train_wa=0]\n",
      "Validating: 100%|██████████████████| 2/2 [00:00<00:00, 12.03it/s, val_loss=2.11, val_ca=30, val_wa=0]\n"
     ]
    },
    {
     "name": "stdout",
     "output_type": "stream",
     "text": [
      "2.8990746789508397\n",
      "Validation loss decreased (2.899910 --> 2.899075).  Saving model ...\n"
     ]
    },
    {
     "name": "stderr",
     "output_type": "stream",
     "text": [
      "Epoch: [89]/[150] Training: 100%|█| 5/5 [00:01<00:00,  2.79it/s, loss=1.99, train_ca=31.5, train_wa=0\n",
      "Validating: 100%|██████████████████| 2/2 [00:00<00:00,  5.66it/s, val_loss=2.47, val_ca=15, val_wa=0]\n"
     ]
    },
    {
     "name": "stdout",
     "output_type": "stream",
     "text": [
      "2.8977510247911726\n",
      "Validation loss decreased (2.899075 --> 2.897751).  Saving model ...\n"
     ]
    },
    {
     "name": "stderr",
     "output_type": "stream",
     "text": [
      "Epoch: [90]/[150] Training: 100%|█| 5/5 [00:01<00:00,  3.29it/s, loss=1.74, train_ca=44.9, train_wa=0\n",
      "Validating: 100%|██████████████████| 2/2 [00:00<00:00,  5.12it/s, val_loss=2.34, val_ca=25, val_wa=0]\n"
     ]
    },
    {
     "name": "stdout",
     "output_type": "stream",
     "text": [
      "2.895229699818984\n",
      "Validation loss decreased (2.897751 --> 2.895230).  Saving model ...\n"
     ]
    },
    {
     "name": "stderr",
     "output_type": "stream",
     "text": [
      "Epoch: [91]/[150] Training: 100%|█| 5/5 [00:01<00:00,  3.01it/s, loss=2.08, train_ca=32.4, train_wa=0\n",
      "Validating: 100%|██████████████████| 2/2 [00:00<00:00,  5.84it/s, val_loss=2.78, val_ca=15, val_wa=0]\n"
     ]
    },
    {
     "name": "stdout",
     "output_type": "stream",
     "text": [
      "2.895366854565118\n",
      "EarlyStopping counter: (-2.895230 1 out of 15)\n"
     ]
    },
    {
     "name": "stderr",
     "output_type": "stream",
     "text": [
      "Epoch: [92]/[150] Training: 100%|██| 5/5 [00:01<00:00,  3.13it/s, loss=1.58, train_ca=40, train_wa=0]\n",
      "Validating: 100%|██████████████████| 2/2 [00:00<00:00,  6.18it/s, val_loss=2.67, val_ca=15, val_wa=0]\n"
     ]
    },
    {
     "name": "stdout",
     "output_type": "stream",
     "text": [
      "2.895499735436541\n",
      "EarlyStopping counter: (-2.895230 2 out of 15)\n"
     ]
    },
    {
     "name": "stderr",
     "output_type": "stream",
     "text": [
      "Epoch: [93]/[150] Training: 100%|█| 5/5 [00:01<00:00,  3.50it/s, loss=2.17, train_ca=30.2, train_wa=0\n",
      "Validating: 100%|██████████████████| 2/2 [00:00<00:00,  6.87it/s, val_loss=2.23, val_ca=20, val_wa=0]\n"
     ]
    },
    {
     "name": "stdout",
     "output_type": "stream",
     "text": [
      "2.892860219353124\n",
      "Validation loss decreased (2.895230 --> 2.892860).  Saving model ...\n"
     ]
    },
    {
     "name": "stderr",
     "output_type": "stream",
     "text": [
      "Epoch: [94]/[150] Training: 100%|█| 5/5 [00:01<00:00,  2.98it/s, loss=2.09, train_ca=33.3, train_wa=0\n",
      "Validating: 100%|██████████████████| 2/2 [00:00<00:00,  5.96it/s, val_loss=3.01, val_ca=10, val_wa=0]\n"
     ]
    },
    {
     "name": "stdout",
     "output_type": "stream",
     "text": [
      "2.894127464542786\n",
      "EarlyStopping counter: (-2.892860 1 out of 15)\n"
     ]
    },
    {
     "name": "stderr",
     "output_type": "stream",
     "text": [
      "Epoch: [95]/[150] Training: 100%|█| 5/5 [00:01<00:00,  3.08it/s, loss=1.77, train_ca=39.1, train_wa=0\n",
      "Validating: 100%|███████████████████| 2/2 [00:00<00:00,  6.42it/s, val_loss=2.92, val_ca=5, val_wa=0]\n"
     ]
    },
    {
     "name": "stdout",
     "output_type": "stream",
     "text": [
      "2.8954054608787456\n",
      "EarlyStopping counter: (-2.892860 2 out of 15)\n"
     ]
    },
    {
     "name": "stderr",
     "output_type": "stream",
     "text": [
      "Epoch: [96]/[150] Training: 100%|█| 5/5 [00:01<00:00,  3.03it/s, loss=1.96, train_ca=34.7, train_wa=0\n",
      "Validating: 100%|███████████████████| 2/2 [00:00<00:00,  5.52it/s, val_loss=2.93, val_ca=5, val_wa=0]\n"
     ]
    },
    {
     "name": "stdout",
     "output_type": "stream",
     "text": [
      "2.8967354845027535\n",
      "EarlyStopping counter: (-2.892860 3 out of 15)\n"
     ]
    },
    {
     "name": "stderr",
     "output_type": "stream",
     "text": [
      "Epoch: [97]/[150] Training: 100%|█| 5/5 [00:01<00:00,  3.12it/s, loss=1.7, train_ca=33.1, train_wa=0]\n",
      "Validating: 100%|███████████████████| 2/2 [00:00<00:00,  5.86it/s, val_loss=2.93, val_ca=5, val_wa=0]\n"
     ]
    },
    {
     "name": "stdout",
     "output_type": "stream",
     "text": [
      "2.898777947281346\n",
      "EarlyStopping counter: (-2.892860 4 out of 15)\n"
     ]
    },
    {
     "name": "stderr",
     "output_type": "stream",
     "text": [
      "Epoch: [98]/[150] Training: 100%|█| 5/5 [00:01<00:00,  3.16it/s, loss=1.92, train_ca=34.2, train_wa=0\n",
      "Validating: 100%|██████████████████| 2/2 [00:00<00:00,  4.62it/s, val_loss=3.03, val_ca=10, val_wa=0]\n"
     ]
    },
    {
     "name": "stdout",
     "output_type": "stream",
     "text": [
      "2.9001151859760284\n",
      "EarlyStopping counter: (-2.892860 5 out of 15)\n"
     ]
    },
    {
     "name": "stderr",
     "output_type": "stream",
     "text": [
      "Epoch: [99]/[150] Training: 100%|██| 5/5 [00:01<00:00,  3.01it/s, loss=1.84, train_ca=40, train_wa=0]\n",
      "Validating: 100%|██████████████████| 2/2 [00:00<00:00,  6.02it/s, val_loss=2.47, val_ca=20, val_wa=0]\n"
     ]
    },
    {
     "name": "stdout",
     "output_type": "stream",
     "text": [
      "2.8993590633467874\n",
      "EarlyStopping counter: (-2.892860 6 out of 15)\n"
     ]
    },
    {
     "name": "stderr",
     "output_type": "stream",
     "text": [
      "Epoch: [100]/[150] Training: 100%|█| 5/5 [00:01<00:00,  3.34it/s, loss=1.43, train_ca=40.2, train_wa=\n",
      "Validating: 100%|████████████████████| 2/2 [00:00<00:00,  6.67it/s, val_loss=3.1, val_ca=5, val_wa=0]\n"
     ]
    },
    {
     "name": "stdout",
     "output_type": "stream",
     "text": [
      "2.901705621504316\n",
      "EarlyStopping counter: (-2.892860 7 out of 15)\n"
     ]
    },
    {
     "name": "stderr",
     "output_type": "stream",
     "text": [
      "Epoch: [101]/[150] Training: 100%|█| 5/5 [00:00<00:00,  5.13it/s, loss=1.84, train_ca=38.4, train_wa=\n",
      "Validating: 100%|███████████████████| 2/2 [00:00<00:00, 12.22it/s, val_loss=2.98, val_ca=5, val_wa=0]\n"
     ]
    },
    {
     "name": "stdout",
     "output_type": "stream",
     "text": [
      "2.903856088814226\n",
      "EarlyStopping counter: (-2.892860 8 out of 15)\n"
     ]
    },
    {
     "name": "stderr",
     "output_type": "stream",
     "text": [
      "Epoch: [102]/[150] Training: 100%|█| 5/5 [00:00<00:00,  6.65it/s, loss=1.98, train_ca=34, train_wa=0]\n",
      "Validating: 100%|██████████████████| 2/2 [00:00<00:00, 12.57it/s, val_loss=2.65, val_ca=15, val_wa=0]\n"
     ]
    },
    {
     "name": "stdout",
     "output_type": "stream",
     "text": [
      "2.9045232041524005\n",
      "EarlyStopping counter: (-2.892860 9 out of 15)\n"
     ]
    },
    {
     "name": "stderr",
     "output_type": "stream",
     "text": [
      "Epoch: [103]/[150] Training: 100%|█| 5/5 [00:00<00:00,  6.61it/s, loss=1.99, train_ca=38.5, train_wa=\n",
      "Validating: 100%|██████████████████| 2/2 [00:00<00:00, 12.25it/s, val_loss=2.79, val_ca=20, val_wa=0]\n"
     ]
    },
    {
     "name": "stdout",
     "output_type": "stream",
     "text": [
      "2.9060686792646138\n",
      "EarlyStopping counter: (-2.892860 10 out of 15)\n"
     ]
    },
    {
     "name": "stderr",
     "output_type": "stream",
     "text": [
      "Epoch: [104]/[150] Training: 100%|█| 5/5 [00:00<00:00,  6.38it/s, loss=1.55, train_ca=41.4, train_wa=\n",
      "Validating: 100%|██████████████████| 2/2 [00:00<00:00, 11.74it/s, val_loss=2.79, val_ca=10, val_wa=0]\n"
     ]
    },
    {
     "name": "stdout",
     "output_type": "stream",
     "text": [
      "2.9074451810908766\n",
      "EarlyStopping counter: (-2.892860 11 out of 15)\n"
     ]
    },
    {
     "name": "stderr",
     "output_type": "stream",
     "text": [
      "Epoch: [105]/[150] Training: 100%|█| 5/5 [00:00<00:00,  6.40it/s, loss=1.56, train_ca=43.3, train_wa=\n",
      "Validating: 100%|██████████████████| 2/2 [00:00<00:00, 11.81it/s, val_loss=3.06, val_ca=20, val_wa=0]\n"
     ]
    },
    {
     "name": "stdout",
     "output_type": "stream",
     "text": [
      "2.9100362051313167\n",
      "EarlyStopping counter: (-2.892860 12 out of 15)\n"
     ]
    },
    {
     "name": "stderr",
     "output_type": "stream",
     "text": [
      "Epoch: [106]/[150] Training: 100%|██| 5/5 [00:00<00:00,  6.38it/s, loss=1.3, train_ca=56, train_wa=0]\n",
      "Validating: 100%|███████████████████| 2/2 [00:00<00:00, 11.60it/s, val_loss=3.29, val_ca=5, val_wa=0]\n"
     ]
    },
    {
     "name": "stdout",
     "output_type": "stream",
     "text": [
      "2.9136359183876603\n",
      "EarlyStopping counter: (-2.892860 13 out of 15)\n"
     ]
    },
    {
     "name": "stderr",
     "output_type": "stream",
     "text": [
      "Epoch: [107]/[150] Training: 100%|█| 5/5 [00:00<00:00,  6.08it/s, loss=1.12, train_ca=57.3, train_wa=\n",
      "Validating: 100%|██████████████████| 2/2 [00:00<00:00, 10.88it/s, val_loss=3.07, val_ca=15, val_wa=0]\n"
     ]
    },
    {
     "name": "stdout",
     "output_type": "stream",
     "text": [
      "2.9158907188188046\n",
      "EarlyStopping counter: (-2.892860 14 out of 15)\n"
     ]
    },
    {
     "name": "stderr",
     "output_type": "stream",
     "text": [
      "Epoch: [108]/[150] Training: 100%|█| 5/5 [00:01<00:00,  3.33it/s, loss=1.64, train_ca=43.8, train_wa=\n",
      "Validating: 100%|██████████████████| 2/2 [00:00<00:00, 12.21it/s, val_loss=2.73, val_ca=15, val_wa=0]"
     ]
    },
    {
     "name": "stdout",
     "output_type": "stream",
     "text": [
      "2.9179709564555774\n",
      "EarlyStopping counter: (-2.892860 15 out of 15)\n",
      "Early stopping\n"
     ]
    },
    {
     "name": "stderr",
     "output_type": "stream",
     "text": [
      "\n"
     ]
    }
   ],
   "source": [
    "alphabet = \"\"\"Only thewigsofrcvdampbkuq.$A-210xT5'MDL,RYHJ\"ISPWENj&BC93VGFKz();#:!7U64Q8?+*ZX/%\"\"\"\n",
    "args = {\n",
    "    'name':'exp1',\n",
    "    'path':'/home/guscarrian@GU.GU.SE/LT2326-ML/A1/Adapting-OCR/carplates_dataset/LP-characters',\n",
    "    'imgdir': 'train_images',\n",
    "    'annotations_dir': 'annotations',\n",
    "    'image_size': (32, 168), #added\n",
    "    'imgH':32,\n",
    "    'nChannels':1,\n",
    "    'nHidden':256,\n",
    "    'nClasses':len(alphabet),\n",
    "    'lr':0.001,\n",
    "    'epochs':150, #150 #original 4\n",
    "    'batch_size':32, #128 #original 32\n",
    "    'save_dir':'../checkpoints/',\n",
    "    'log_dir':'../logs',\n",
    "    'resume':False,\n",
    "    'cuda':False,\n",
    "    'schedule':False\n",
    "}\n",
    "\n",
    "data = CarPlatesDataset(args)\n",
    "args['collate_fn'] = SynthCollator()\n",
    "train_split = int(0.8*len(data))\n",
    "val_split = len(data) - train_split\n",
    "args['data_train'], args['data_val'] = random_split(data, (train_split, val_split))\n",
    "print('Traininig Data Size:{}\\nVal Data Size:{}'.format(\n",
    "    len(args['data_train']), len(args['data_val'])))\n",
    "args['alphabet'] = alphabet\n",
    "model = CRNN(args)\n",
    "args['criterion'] = CustomCTCLoss()\n",
    "savepath = os.path.join(args['save_dir'], args['name'])\n",
    "gmkdir(savepath)\n",
    "gmkdir(args['log_dir'])\n",
    "optimizer = torch.optim.Adam(model.parameters(), lr=args['lr'])\n",
    "learner = Learner(model, optimizer, savepath=savepath, resume=args['resume'])\n",
    "learner.fit(args)"
   ]
  },
  {
   "cell_type": "code",
   "execution_count": 14,
   "metadata": {},
   "outputs": [
    {
     "data": {
      "text/plain": [
       "32"
      ]
     },
     "execution_count": 14,
     "metadata": {},
     "output_type": "execute_result"
    }
   ],
   "source": [
    "args['image_size'][0]"
   ]
  },
  {
   "cell_type": "markdown",
   "metadata": {},
   "source": [
    "## Evaluation and testing"
   ]
  },
  {
   "cell_type": "code",
   "execution_count": 10,
   "metadata": {},
   "outputs": [],
   "source": [
    "import matplotlib.pyplot as plt\n",
    "from torchvision.utils import make_grid"
   ]
  },
  {
   "cell_type": "code",
   "execution_count": 11,
   "metadata": {},
   "outputs": [],
   "source": [
    "device = torch.device(\"cuda:0\" if torch.cuda.is_available() else \"cpu\")\n",
    "def get_accuracy(args):\n",
    "    loader = torch.utils.data.DataLoader(args['data'],\n",
    "                batch_size=args['batch_size'],\n",
    "                collate_fn=args['collate_fn'])\n",
    "    model = args['model']\n",
    "    model.eval()\n",
    "    converter = OCRLabelConverter(args['alphabet'])\n",
    "    evaluator = Eval()\n",
    "    labels, predictions, images = [], [], []\n",
    "    for iteration, batch in enumerate(tqdm(loader)):\n",
    "        input_, targets = batch['img'].to(device), batch['label']\n",
    "        images.extend(input_.squeeze().detach())\n",
    "        labels.extend(targets)\n",
    "        targets, lengths = converter.encode(targets)\n",
    "        logits = model(input_).transpose(1, 0)\n",
    "        logits = torch.nn.functional.log_softmax(logits, 2)\n",
    "        logits = logits.contiguous().cpu()\n",
    "        T, B, H = logits.size()\n",
    "        pred_sizes = torch.LongTensor([T for i in range(B)])\n",
    "        probs, pos = logits.max(2)\n",
    "        pos = pos.transpose(1, 0).contiguous().view(-1)\n",
    "        sim_preds = converter.decode(pos.data, pred_sizes.data, raw=False)\n",
    "        predictions.extend(sim_preds)\n",
    "        \n",
    "#     make_grid(images[:10], nrow=2)\n",
    "    fig=plt.figure(figsize=(8, 8))\n",
    "    columns = 4\n",
    "    rows = 5\n",
    "    pairs = list(zip(images, predictions))\n",
    "    indices = np.random.permutation(len(pairs))\n",
    "    for i in range(1, columns*rows +1):\n",
    "        img = images[indices[i]]\n",
    "        img = (img - img.min())/(img.max() - img.min())\n",
    "        img = img.cpu().numpy() * 255.0\n",
    "        img = img.astype(np.uint8)\n",
    "        #img = np.array(img * 255.0, dtype=np.uint8)\n",
    "        fig.add_subplot(rows, columns, i)\n",
    "        plt.title(predictions[indices[i]])\n",
    "        plt.axis('off')\n",
    "        plt.imshow(img)\n",
    "    plt.show()\n",
    "    ca = np.mean((list(map(evaluator.char_accuracy, list(zip(predictions, labels))))))\n",
    "    wa = np.mean((list(map(evaluator.word_accuracy_line, list(zip(predictions, labels))))))\n",
    "    recall = recall_score(labels, predictions, average='macro', zero_division=0)\n",
    "    precision = precision_score(labels, predictions, average='macro', zero_division=0)\n",
    "    return ca, wa, recall, precision, labels, predictions\n",
    "    #return ca, wa\n",
    "\n"
   ]
  },
  {
   "cell_type": "code",
   "execution_count": 30,
   "metadata": {
    "scrolled": true
   },
   "outputs": [
    {
     "name": "stdout",
     "output_type": "stream",
     "text": [
      "Loading model ../checkpoints/exp1/best.ckpt\n"
     ]
    },
    {
     "name": "stderr",
     "output_type": "stream",
     "text": [
      "100%|██████████████████████████████████████████████████████████████████| 2/2 [00:00<00:00,  9.11it/s]\n"
     ]
    },
    {
     "data": {
      "image/png": "[encoded data removed]",
      "text/plain": [
       "<Figure size 800x800 with 20 Axes>"
      ]
     },
     "metadata": {},
     "output_type": "display_data"
    },
    {
     "name": "stdout",
     "output_type": "stream",
     "text": [
      "Character Accuracy: 16.37\n",
      "Word Accuracy: 0.00\n",
      " \n"
     ]
    }
   ],
   "source": [
    "args['imgdir'] = 'test_images'\n",
    "args['data'] = CarPlatesDataset(args)\n",
    "resume_file = os.path.join(args['save_dir'], args['name'], 'best.ckpt')\n",
    "if os.path.isfile(resume_file):\n",
    "    print('Loading model %s'%resume_file)\n",
    "    checkpoint = torch.load(resume_file)\n",
    "    #model.load_state_dict(checkpoint['state_dict'])\n",
    "    model.load_state_dict(checkpoint['state_dict'], strict=False)\n",
    "    args['model'] = model\n",
    "    #ca, wa = get_accuracy(args)\n",
    "    ca, wa, recall, precision, labels, predictions = get_accuracy(args)\n",
    "    print(\"Character Accuracy: %.2f\\nWord Accuracy: %.2f\"%(ca, wa))\n",
    "    print(\" \")\n",
    "    #print(\"Recall: \", recall)\n",
    "    #print(\"Precision: \", precision)\n",
    "    #print(\"Labels:\", labels)\n",
    "    #print(\" \")\n",
    "    #print(\"Predictions:\", predictions)\n",
    "    \n",
    "else:\n",
    "    print(\"=> no checkpoint found at '{}'\".format(os.path.join(args['save_dir'], args['name'])))\n",
    "    print('Exiting')"
   ]
  },
  {
   "cell_type": "code",
   "execution_count": null,
   "metadata": {},
   "outputs": [],
   "source": []
  }
 ],
 "metadata": {
  "kernelspec": {
   "display_name": "Python 3 (ipykernel)",
   "language": "python",
   "name": "python3"
  },
  "language_info": {
   "codemirror_mode": {
    "name": "ipython",
    "version": 3
   },
   "file_extension": ".py",
   "mimetype": "text/x-python",
   "name": "python",
   "nbconvert_exporter": "python",
   "pygments_lexer": "ipython3",
   "version": "3.11.6"
  }
 },
 "nbformat": 4,
 "nbformat_minor": 4
}
