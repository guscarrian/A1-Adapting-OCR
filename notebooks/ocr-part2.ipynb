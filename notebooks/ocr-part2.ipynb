{
 "cells": [
  {
   "cell_type": "markdown",
   "metadata": {},
   "source": [
    "# "
   ]
  },
  {
   "cell_type": "markdown",
   "metadata": {},
   "source": [
    "# Building an OCR from scratch\n",
    "\n",
    "So in this tutorial, I will give you a basic code walkthrough for building a simple OCR. OCR as might know stands for optical character recognition or in layman terms it means text recognition. Text recognition is one of the classic problems in computer vision and is still relevant today. One of the most important applications of text recognition is the digitization of old manuscripts. Physical copies of books and manuscripts are prone to degradations. With time, the printed characters start to fade. On simple way to preserve such documents is to make a digital copy of it and store it in the cloud or local hard drive which would ensure their continuance. Similarly, text recognition can also be used for licence plate recognition and can also be used in forensics in terms of handwriting recognition. \n",
    "\n",
    "Okay, now that I have given you enough motivation as to why OCR is important, let me show you how you can build one. \n",
    "So first things first, I'll start with listing down some of the essential packages that you would need to build your first OCR. We will be working with PyTorch as it is one of the most efficient deep learning libraries present. The other packages are as follows:\n",
    "\n",
    "* Pytorch 1.5\n",
    "* Matplotlib\n",
    "* Tqdm\n",
    "* textdistance\n",
    "* lmdb\n",
    "\n",
    "You can install them either via a pip or conda. I will also be providing a requirements.txt file which you can find in my Github repo. Do a simple `pip install -r requirements` and you are set to go.\n",
    "\n",
    "## Setting up the Data\n",
    "\n",
    "We will start our project by importing the libraries. But before that we need data. Now, you are free to use any text image data you might like and for that, you might need to build your own data loader. However, in the interest of keeping things simple, we will be using a neat little package called `trdg`, which is a synthetic image generator for OCR. You can find all the relevant information regarding this package on its [github repository](https://github.com/Belval/TextRecognitionDataGenerator). You can generate printed as well as hand-written text images and infuse them with different kinds of noise and degradation. In this project, I have used trdg to generate printed word images of a single font. You can use any font you like. Just download a `.ttf` file for your font and while generating the word images be sure to specify the `-ft` parameter as your font file. \n",
    "\n",
    "You can generate the word images for training using the following commands:\n",
    "\n",
    "`trdg -i words.txt -c 20000 --output_dir data/train -ft your/fontfile`\n",
    "\n",
    "ATENTION: Run this one instead `trdg -i words.txt -c 20000 --output_dir data/train -fd fonts/`\n",
    "\n",
    "Here, `-c` refers to the number of word images you want to generate. `words.txt` file contains our input word vocabulary while `--output_dir` and `-ft` refer to the output and font file respectively. You can similarly generate the test word images for evaluating the performance of your OCR. However, ensure that words for training and testing are mutually exclusive to each other."
   ]
  },
  {
   "cell_type": "markdown",
   "metadata": {},
   "source": [
    "Okay, now that we have generated the word images, let us display a few images using matlplotlib\n",
    "%# TODO diplay images from folder"
   ]
  },
  {
   "cell_type": "markdown",
   "metadata": {},
   "source": [
    "Now lets start importing the libraries that we would need to build our OCR"
   ]
  },
  {
   "cell_type": "code",
   "execution_count": 1,
   "metadata": {},
   "outputs": [],
   "source": [
    "import os\n",
    "import sys\n",
    "import pdb\n",
    "import six\n",
    "import random\n",
    "import lmdb\n",
    "from PIL import Image\n",
    "import numpy as np\n",
    "import math\n",
    "from collections import OrderedDict\n",
    "from itertools import chain\n",
    "import logging\n",
    "\n",
    "\n",
    "import torch\n",
    "import torch.nn as nn\n",
    "import torch.nn.functional as F\n",
    "from torch.utils.data import Dataset\n",
    "from torch.utils.data import sampler\n",
    "import torchvision.transforms as transforms\n",
    "from torch.optim.lr_scheduler import CosineAnnealingLR, StepLR\n",
    "from torch.nn.utils.clip_grad import clip_grad_norm_\n",
    "from torch.utils.data import random_split\n",
    "sys.path.insert(0, '../')\n",
    "from src.utils.utils import AverageMeter, Eval, OCRLabelConverter\n",
    "from src.utils.utils import EarlyStopping, gmkdir\n",
    "from src.optim.optimizer import STLR\n",
    "from src.utils.utils import gaussian\n",
    "from tqdm import *\n",
    "\n",
    "# added\n",
    "import xmltodict\n",
    "from sklearn.metrics import precision_score, recall_score"
   ]
  },
  {
   "cell_type": "markdown",
   "metadata": {},
   "source": [
    "Next, let us create our data pipe-line. We do this by inheriting the PyTorch Dataset class. The Dataset class has few methods that we need to adhere to like the `__len__` and `__getitem__` method. The `__len__` method returns the number of items in our dataset while `__getitem_` returns the data item for the index passed. You can find more information on PyTorch Dataset class on PyTorch's official documentation page. \n",
    "\n",
    "You will observe that we first convert each image into grayscale and convert it into a tensor. This is followed by normalizing the images so that our input data lies within a range of [-1, 1]. We pass all such transformations into a list and later call the transforms to compose function provided by PyTorch. The transform Compose function applies each transformation in the pre-defined order."
   ]
  },
  {
   "cell_type": "code",
   "execution_count": 17,
   "metadata": {},
   "outputs": [],
   "source": [
    "# New dataloader - CarPlatesDataset\n",
    "# Both __init__ and __len__ methods remain the same\n",
    "class CarPlatesDataset(Dataset):\n",
    "    \n",
    "    def __init__(self, opt):\n",
    "        super(CarPlatesDataset, self).__init__()\n",
    "        self.path = os.path.join(opt['path'], opt['imgdir'])\n",
    "        self.images = os.listdir(self.path)\n",
    "        self.annotations_dir = os.path.join(opt['path'], opt['annotations_dir']) #added\n",
    "        self.nSamples = len(self.images)\n",
    "        f = lambda x: os.path.join(self.path, x)\n",
    "        self.imagepaths = list(map(f, self.images))\n",
    "       \ttransform_list =  [transforms.Grayscale(1),\n",
    "                           transforms.Resize((opt['image_size'][0], opt['image_size'][1])), #added\n",
    "                           transforms.ToTensor(), \n",
    "                           transforms.Normalize((0.5,), (0.5,))]\n",
    "        self.transform = transforms.Compose(transform_list)\n",
    "        self.collate_fn = SynthCollator()\n",
    "\n",
    "    def __len__(self):\n",
    "        return self.nSamples\n",
    "\n",
    "    def __getitem__(self, index):\n",
    "        assert index <= len(self), 'index range error'\n",
    "        imagepath = self.imagepaths[index]\n",
    "        imagefile = os.path.basename(imagepath)\n",
    "        imagefile = imagefile.split('.')[0]\n",
    "\n",
    "        img = Image.open(imagepath)\n",
    "        if self.transform is not None:\n",
    "            img = self.transform(img)\n",
    "\n",
    "        # 'annotations' is the path to the XML files. \n",
    "        # We open the file, read it and convert the data into a dictionary.\n",
    "        # Then we go through each object in the xml data, extract the name field, and add it to a list (labels). \n",
    "        # We combine the labels from the list into a single string and, finally, return a dictionary with the image, index, and label.\n",
    "        annotations = os.path.join(self.annotations_dir, imagefile + '.xml')\n",
    "        labels = []\n",
    "        try:\n",
    "            with open(annotations, 'r') as file:\n",
    "                data_dict = xmltodict.parse(file.read())\n",
    "            for item in data_dict['annotation']['object']:\n",
    "                name = item['name']\n",
    "                labels.append(name)\n",
    "        except (xmltodict.expat.ExpatError, FileNotFoundError):\n",
    "            print(f\"Error while parsing {annotations}.\")\n",
    "\n",
    "        label = ''.join(labels)\n",
    "        \n",
    "        item = {'img': img, 'idx': index, 'label': label}\n",
    "        return item"
   ]
  },
  {
   "cell_type": "code",
   "execution_count": 18,
   "metadata": {},
   "outputs": [],
   "source": [
    "dataset = CarPlatesDataset(args)"
   ]
  },
  {
   "cell_type": "code",
   "execution_count": 19,
   "metadata": {
    "scrolled": true
   },
   "outputs": [
    {
     "data": {
      "text/plain": [
       "{'img': tensor([[[-0.0431, -0.0824, -0.1686,  ..., -0.8902, -0.8980, -0.8980],\n",
       "          [-0.0431, -0.0353, -0.0275,  ..., -0.7961, -0.7569, -0.7098],\n",
       "          [-0.1294, -0.1059, -0.1059,  ..., -0.1765, -0.1529, -0.1294],\n",
       "          ...,\n",
       "          [-0.9686, -0.9765, -0.9686,  ..., -0.9686, -0.9686, -0.9686],\n",
       "          [-0.9686, -0.9686, -0.9686,  ..., -0.9608, -0.9608, -0.9686],\n",
       "          [-0.9608, -0.9686, -0.9686,  ..., -0.9608, -0.9608, -0.9765]]]),\n",
       " 'idx': 1,\n",
       " 'label': 'MH2OBN3525'}"
      ]
     },
     "execution_count": 19,
     "metadata": {},
     "output_type": "execute_result"
    }
   ],
   "source": [
    "dataset.__getitem__(1)"
   ]
  },
  {
   "cell_type": "markdown",
   "metadata": {},
   "source": [
    "Next, since we are going to train our model using the mini-batch gradient descent, it is essential that each image in the batch is of the same shape and size. For this, we have defined the `SynthCollator` class which initially finds the image with maximum width in the batch and then proceeds to pad all images to have the same width. "
   ]
  },
  {
   "cell_type": "code",
   "execution_count": 20,
   "metadata": {},
   "outputs": [],
   "source": [
    "class SynthCollator(object):\n",
    "    \n",
    "    def __call__(self, batch):\n",
    "        width = [item['img'].shape[2] for item in batch]\n",
    "        indexes = [item['idx'] for item in batch]\n",
    "        imgs = torch.ones([len(batch), batch[0]['img'].shape[0], batch[0]['img'].shape[1], \n",
    "                           max(width)], dtype=torch.float32)\n",
    "        for idx, item in enumerate(batch):\n",
    "            try:\n",
    "                imgs[idx, :, :, 0:item['img'].shape[2]] = item['img']\n",
    "            except:\n",
    "                print(imgs.shape)\n",
    "        item = {'img': imgs, 'idx':indexes}\n",
    "        if 'label' in batch[0].keys():\n",
    "            labels = [item['label'] for item in batch]\n",
    "            item['label'] = labels\n",
    "        return item"
   ]
  },
  {
   "cell_type": "markdown",
   "metadata": {},
   "source": [
    "## Defining our Model\n",
    "\n",
    "Now we proceed to define our model. We use the CNN-LSTM based architecture which was proposed by Shi et.al. in their excellent paper [An End-to-End Trainable Neural Network for Image-based Sequence Recognition and Its Application to Scene Text Recognition](https://arxiv.org/pdf/1507.05717.pdf). The authors used it for scene-text recognition and showed via extensive experimentation that they were able to achieve significant gains in accuracy compared to all other existing methods at that time.\n",
    "\n",
    "\n",
    "<img src=\"images/crnn.png\" alt=\"drawing\" width=\"400\"/>\n",
    "\n",
    "The figure above shows the architecture used in the paper. The authors used a 7 layered Convolution network with BatchNorm and ReLU. This was followed by a stacked RNN network consisting of two Bidirectional LSTM layers. The convolution layers acted as a feature extractor while the LSTMs layers act as sequence classifiers. The LSTM layers output the probability associated with each output class at each time step\n",
    "Further details can be found in their paper and I strongly suggest you go through it for a better understanding.\n",
    "\n",
    "The below code snippet is taken from this [github repository](https://github.com/meijieru/crnn.pytorch) which provides a Pytorch implementation of their code.\n"
   ]
  },
  {
   "cell_type": "code",
   "execution_count": 21,
   "metadata": {},
   "outputs": [],
   "source": [
    "class BidirectionalLSTM(nn.Module):\n",
    "\n",
    "    def __init__(self, nIn, nHidden, nOut):\n",
    "        super(BidirectionalLSTM, self).__init__()\n",
    "        self.rnn = nn.LSTM(nIn, nHidden, bidirectional=True)\n",
    "        self.embedding = nn.Linear(nHidden * 2, nOut)\n",
    "    def forward(self, input):\n",
    "        self.rnn.flatten_parameters()\n",
    "        recurrent, _ = self.rnn(input)\n",
    "        T, b, h = recurrent.size()\n",
    "        t_rec = recurrent.view(T * b, h)\n",
    "        output = self.embedding(t_rec)  # [T * b, nOut]\n",
    "        output = output.view(T, b, -1)\n",
    "        return output\n",
    "\n",
    "class CRNN(nn.Module):\n",
    "\n",
    "    def __init__(self, opt, leakyRelu=False):\n",
    "        super(CRNN, self).__init__()\n",
    "\n",
    "        assert opt['imgH'] % 16 == 0, 'imgH has to be a multiple of 16'\n",
    "\n",
    "        ks = [3, 3, 3, 3, 3, 3, 2]\n",
    "        ps = [1, 1, 1, 1, 1, 1, 0]\n",
    "        ss = [1, 1, 1, 1, 1, 1, 1]\n",
    "        nm = [64, 128, 256, 256, 512, 512, 512]\n",
    "\n",
    "        cnn = nn.Sequential()\n",
    "\n",
    "        def convRelu(i, batchNormalization=False):\n",
    "            nIn = opt['nChannels'] if i == 0 else nm[i - 1]\n",
    "            nOut = nm[i]\n",
    "            cnn.add_module('conv{0}'.format(i),\n",
    "                           nn.Conv2d(nIn, nOut, ks[i], ss[i], ps[i]))\n",
    "            if batchNormalization:\n",
    "                cnn.add_module('batchnorm{0}'.format(i), nn.BatchNorm2d(nOut))\n",
    "            if leakyRelu:\n",
    "                cnn.add_module('relu{0}'.format(i),\n",
    "                               nn.LeakyReLU(0.2, inplace=True))\n",
    "            else:\n",
    "                cnn.add_module('relu{0}'.format(i), nn.ReLU(True))\n",
    "\n",
    "        convRelu(0)\n",
    "        cnn.add_module('pooling{0}'.format(0), nn.MaxPool2d(2, 2))  # 64x16x64\n",
    "        convRelu(1)\n",
    "        cnn.add_module('pooling{0}'.format(1), nn.MaxPool2d(2, 2))  # 128x8x32\n",
    "        convRelu(2, True)\n",
    "        convRelu(3)\n",
    "        cnn.add_module('pooling{0}'.format(2),\n",
    "                       nn.MaxPool2d((2, 2), (2, 1), (0, 1)))  # 256x4x16\n",
    "        convRelu(4, True)\n",
    "        convRelu(5)\n",
    "        cnn.add_module('pooling{0}'.format(3),\n",
    "                       nn.MaxPool2d((2, 2), (2, 1), (0, 1)))  # 512x2x16\n",
    "        convRelu(6, True)  # 512x1x16\n",
    "        self.cnn = cnn\n",
    "        self.rnn = nn.Sequential()\n",
    "        self.rnn = nn.Sequential(\n",
    "            BidirectionalLSTM(opt['nHidden']*2, opt['nHidden'], opt['nHidden']),\n",
    "            BidirectionalLSTM(opt['nHidden'], opt['nHidden'], opt['nClasses']))\n",
    "\n",
    "\n",
    "    def forward(self, input):\n",
    "        # conv features\n",
    "        conv = self.cnn(input)\n",
    "        b, c, h, w = conv.size()\n",
    "        assert h == 1, \"the height of conv must be 1\"\n",
    "        conv = conv.squeeze(2)\n",
    "        conv = conv.permute(2, 0, 1)  # [w, b, c]\n",
    "        # rnn features\n",
    "        output = self.rnn(conv)\n",
    "        output = output.transpose(1,0) #Tbh to bth\n",
    "        return output"
   ]
  },
  {
   "cell_type": "markdown",
   "metadata": {},
   "source": [
    "## The CTC Loss \n",
    "\n",
    "Okay, now that we have our data and model pipeline ready, it is time to define our loss function which in our case is the CTC loss function. We will be using PyTorch's excellent CTC implementation. CTC stands for Connectionist Temporal Classification and was proposed by Alex Graves in his paper [Connectionist Temporal Classification: Labelling Unsegmented Sequence Data with Recurrent Neural Networks](https://www.cs.toronto.edu/~graves/icml_2006.pdf). \n",
    "\n",
    "Honestly, the above work has been a gamechanger for many sequences based tasks like speech and text recognition. For all the sequence-based tasks it is important for the input and output labels to be properly aligned. Proper alignment leads to efficient loss computation between the network predictions and expected output. In segmentation based approaches i.e. when the input word or line has been segmented into its constituent characters, there exists a direct one-to-one mapping between the segmented images of characters and the output labels.  However, as you might imagine obtaining such segmentations for each character can be a very tedious and time-consuming task. Thus, CTC based transcription layers have become the de-facto choice for OCRs and speech recognition module since it allows loss computation without explicit mapping between the input and output. The CTC layer takes the output from the LSTMs and computes a score with all possible alignments of the target label. The OCR is then trained to predict a sequence which maximizes the sum of all such scores.\n",
    "\n",
    "If you want more thorough details regarding the CTC layer I would suggest you go through the following blogs and lecture video\n",
    "\n",
    "* [CMU Deep Learning Course Lecture 14](https://www.youtube.com/watch?v=c86gfVGcvh4&t=670s)\n",
    "* [Sequence Labelling with CTC](https://distill.pub/2017/ctc)"
   ]
  },
  {
   "cell_type": "code",
   "execution_count": 22,
   "metadata": {},
   "outputs": [],
   "source": [
    "class CustomCTCLoss(torch.nn.Module):\n",
    "    # T x B x H => Softmax on dimension 2\n",
    "    def __init__(self, dim=2):\n",
    "        super().__init__()\n",
    "        self.dim = dim\n",
    "        self.ctc_loss = torch.nn.CTCLoss(reduction='mean', zero_infinity=True)\n",
    "\n",
    "    def forward(self, logits, labels,\n",
    "            prediction_sizes, target_sizes):\n",
    "        EPS = 1e-7\n",
    "        loss = self.ctc_loss(logits, labels, prediction_sizes, target_sizes)\n",
    "        loss = self.sanitize(loss)\n",
    "        return self.debug(loss, logits, labels, prediction_sizes, target_sizes)\n",
    "    \n",
    "    def sanitize(self, loss):\n",
    "        EPS = 1e-7\n",
    "        if abs(loss.item() - float('inf')) < EPS:\n",
    "            return torch.zeros_like(loss)\n",
    "        if math.isnan(loss.item()):\n",
    "            return torch.zeros_like(loss)\n",
    "        return loss\n",
    "\n",
    "    def debug(self, loss, logits, labels,\n",
    "            prediction_sizes, target_sizes):\n",
    "        if math.isnan(loss.item()):\n",
    "            print(\"Loss:\", loss)\n",
    "            print(\"logits:\", logits)\n",
    "            print(\"labels:\", labels)\n",
    "            print(\"prediction_sizes:\", prediction_sizes)\n",
    "            print(\"target_sizes:\", target_sizes)\n",
    "            raise Exception(\"NaN loss obtained. But why?\")\n",
    "        return loss"
   ]
  },
  {
   "cell_type": "markdown",
   "metadata": {},
   "source": [
    "## The Training Loop\n",
    "\n",
    "The above code snippet builds a wrapper around pytorch's CTC loss function. Basically, what it does is that it computes the loss and passes it through an additional method called `debug`, which checks for instances when the loss becomes Nan. \n",
    "\n",
    "Shout out to [Jerin Philip](https://jerinphilip.github.io/) for this code.\n",
    "\n",
    "Now, let us come to the training loop. The below code might look a bit cumbersome but it provides a nice abstraction which is quite intuitive and easy to use. The below code is based on [pytorch lighning](https://github.com/PyTorchLightning/pytorch-lightning)'s bolier plate template with few modifications of my own. :P\n",
    "\n",
    "I will give a basic overview of what it does. Feel free to inspect each method using python debugger. So, the `OCRTrainer` class takes in the training and validation data. It also takes in the loss function, optimizer and the number of epoch it needs to train the model. The train and validation loader method returns the data loader for the train and validation data. the `run_batch` method does one forward pass for a batch of image-label pairs. It returns the loss as well as the character and word accuracy. Next, we have the step functions which does the backpropagation, calculates the gradient and updates the parameters for each batch of data. Besides we also have the `training_end` and `validation_end` methods that calculate the mean loss and accuracy for each batch after the completion of one single epoch\n",
    "\n",
    "All, the methods defined are quite simple and I hope you will get the hang of it in no time."
   ]
  },
  {
   "cell_type": "code",
   "execution_count": 23,
   "metadata": {},
   "outputs": [],
   "source": [
    "class OCRTrainer(object):\n",
    "    def __init__(self, opt):\n",
    "        super(OCRTrainer, self).__init__()\n",
    "        self.data_train = opt['data_train']\n",
    "        self.data_val = opt['data_val']\n",
    "        self.model = opt['model']\n",
    "        self.criterion = opt['criterion']\n",
    "        self.optimizer = opt['optimizer']\n",
    "        self.schedule = opt['schedule']\n",
    "        self.converter = OCRLabelConverter(opt['alphabet'])\n",
    "        self.evaluator = Eval()\n",
    "        print('Scheduling is {}'.format(self.schedule))\n",
    "        self.scheduler = CosineAnnealingLR(self.optimizer, T_max=opt['epochs'])\n",
    "        self.batch_size = opt['batch_size']\n",
    "        self.count = opt['epoch']\n",
    "        self.epochs = opt['epochs']\n",
    "        self.cuda = opt['cuda']\n",
    "        self.collate_fn = opt['collate_fn']\n",
    "        self.init_meters()\n",
    "\n",
    "    def init_meters(self):\n",
    "        self.avgTrainLoss = AverageMeter(\"Train loss\")\n",
    "        self.avgTrainCharAccuracy = AverageMeter(\"Train Character Accuracy\")\n",
    "        self.avgTrainWordAccuracy = AverageMeter(\"Train Word Accuracy\")\n",
    "        self.avgValLoss = AverageMeter(\"Validation loss\")\n",
    "        self.avgValCharAccuracy = AverageMeter(\"Validation Character Accuracy\")\n",
    "        self.avgValWordAccuracy = AverageMeter(\"Validation Word Accuracy\")\n",
    "\n",
    "    def forward(self, x):\n",
    "        logits = self.model(x)\n",
    "        return logits.transpose(1, 0)\n",
    "\n",
    "    def loss_fn(self, logits, targets, pred_sizes, target_sizes):\n",
    "        loss = self.criterion(logits, targets, pred_sizes, target_sizes)\n",
    "        return loss\n",
    "\n",
    "    def step(self):\n",
    "        self.max_grad_norm = 0.05\n",
    "        clip_grad_norm_(self.model.parameters(), self.max_grad_norm)\n",
    "        self.optimizer.step()\n",
    "    \n",
    "    def schedule_lr(self):\n",
    "        if self.schedule:\n",
    "            self.scheduler.step()\n",
    "\n",
    "    def _run_batch(self, batch, report_accuracy=False, validation=False):\n",
    "        input_, targets = batch['img'], batch['label']\n",
    "        targets, lengths = self.converter.encode(targets)\n",
    "        logits = self.forward(input_)\n",
    "        logits = logits.contiguous().cpu()\n",
    "        logits = torch.nn.functional.log_softmax(logits, 2)\n",
    "        T, B, H = logits.size()\n",
    "        pred_sizes = torch.LongTensor([T for i in range(B)])\n",
    "        targets= targets.view(-1).contiguous()\n",
    "        loss = self.loss_fn(logits, targets, pred_sizes, lengths)\n",
    "        if report_accuracy:\n",
    "            probs, preds = logits.max(2)\n",
    "            preds = preds.transpose(1, 0).contiguous().view(-1)\n",
    "            sim_preds = self.converter.decode(preds.data, pred_sizes.data, raw=False)\n",
    "            ca = np.mean((list(map(self.evaluator.char_accuracy, list(zip(sim_preds, batch['label']))))))\n",
    "            wa = np.mean((list(map(self.evaluator.word_accuracy, list(zip(sim_preds, batch['label']))))))\n",
    "        return loss, ca, wa\n",
    "\n",
    "    def run_epoch(self, validation=False):\n",
    "        if not validation:\n",
    "            loader = self.train_dataloader()\n",
    "            pbar = tqdm(loader, desc='Epoch: [%d]/[%d] Training'%(self.count, \n",
    "                self.epochs), leave=True)\n",
    "            self.model.train()\n",
    "        else:\n",
    "            loader = self.val_dataloader()\n",
    "            pbar = tqdm(loader, desc='Validating', leave=True)\n",
    "            self.model.eval()\n",
    "        outputs = []\n",
    "        for batch_nb, batch in enumerate(pbar):\n",
    "            if not validation:\n",
    "                output = self.training_step(batch)\n",
    "            else:\n",
    "                output = self.validation_step(batch)\n",
    "            pbar.set_postfix(output)\n",
    "            outputs.append(output)\n",
    "        self.schedule_lr()\n",
    "        if not validation:\n",
    "            result = self.train_end(outputs)\n",
    "        else:\n",
    "            result = self.validation_end(outputs)\n",
    "        return result\n",
    "\n",
    "    def training_step(self, batch):\n",
    "        loss, ca, wa = self._run_batch(batch, report_accuracy=True)\n",
    "        self.optimizer.zero_grad()\n",
    "        loss.backward()\n",
    "        self.step()\n",
    "        output = OrderedDict({\n",
    "            'loss': abs(loss.item()),\n",
    "            'train_ca': ca.item(),\n",
    "            'train_wa': wa.item()\n",
    "            })\n",
    "        return output\n",
    "\n",
    "    def validation_step(self, batch):\n",
    "        loss, ca, wa = self._run_batch(batch, report_accuracy=True, validation=True)\n",
    "        output = OrderedDict({\n",
    "            'val_loss': abs(loss.item()),\n",
    "            'val_ca': ca.item(),\n",
    "            'val_wa': wa.item()\n",
    "            })\n",
    "        return output\n",
    "\n",
    "    def train_dataloader(self):\n",
    "        # logging.info('training data loader called')\n",
    "        loader = torch.utils.data.DataLoader(self.data_train,\n",
    "                batch_size=self.batch_size,\n",
    "                collate_fn=self.collate_fn,\n",
    "                shuffle=True)\n",
    "        return loader\n",
    "        \n",
    "    def val_dataloader(self):\n",
    "        # logging.info('val data loader called')\n",
    "        loader = torch.utils.data.DataLoader(self.data_val,\n",
    "                batch_size=self.batch_size,\n",
    "                collate_fn=self.collate_fn)\n",
    "        return loader\n",
    "\n",
    "    def train_end(self, outputs):\n",
    "        for output in outputs:\n",
    "            self.avgTrainLoss.add(output['loss'])\n",
    "            self.avgTrainCharAccuracy.add(output['train_ca'])\n",
    "            self.avgTrainWordAccuracy.add(output['train_wa'])\n",
    "\n",
    "        train_loss_mean = abs(self.avgTrainLoss.compute())\n",
    "        train_ca_mean = self.avgTrainCharAccuracy.compute()\n",
    "        train_wa_mean = self.avgTrainWordAccuracy.compute()\n",
    "\n",
    "        result = {'train_loss': train_loss_mean, 'train_ca': train_ca_mean,\n",
    "        'train_wa': train_wa_mean}\n",
    "        # result = {'progress_bar': tqdm_dict, 'log': tqdm_dict, 'val_loss': train_loss_mean}\n",
    "        return result\n",
    "\n",
    "    def validation_end(self, outputs):\n",
    "        for output in outputs:\n",
    "            self.avgValLoss.add(output['val_loss'])\n",
    "            self.avgValCharAccuracy.add(output['val_ca'])\n",
    "            self.avgValWordAccuracy.add(output['val_wa'])\n",
    "\n",
    "        val_loss_mean = abs(self.avgValLoss.compute())\n",
    "        val_ca_mean = self.avgValCharAccuracy.compute()\n",
    "        val_wa_mean = self.avgValWordAccuracy.compute()\n",
    "\n",
    "        result = {'val_loss': val_loss_mean, 'val_ca': val_ca_mean,\n",
    "        'val_wa': val_wa_mean}\n",
    "        return result"
   ]
  },
  {
   "cell_type": "markdown",
   "metadata": {},
   "source": [
    "## Putting Everything Together\n",
    "\n",
    "And, finally, we have the `Learner` class. It implements a couple of more methods like the `save` and `load` model. It also tracks the losses and saves them in a `csv` file. This comes in handy if we want to analyze the behaviour of our training and validation loops. It initializes our `OCRTrainer` module with the necessary hyperparameters and later calls the `fit` method which runs the training loop.\n",
    "\n",
    "Besides these methods, we have a bunch of helper methods like the `OCRLabel_converter`, `Eval` and `Averagemeter`. I am not including them in this notebook, instead, I have written them in utils.py file and I am importing them from there. In case you want to take a peek, feel free to tinker with the utils.py file. All the necessary documentation is provided in the file itself."
   ]
  },
  {
   "cell_type": "code",
   "execution_count": 24,
   "metadata": {},
   "outputs": [],
   "source": [
    "class Learner(object):\n",
    "    def __init__(self, model, optimizer, savepath=None, resume=False):\n",
    "        self.model = model\n",
    "        self.optimizer = optimizer\n",
    "        self.savepath = os.path.join(savepath, 'best.ckpt')\n",
    "        self.cuda = torch.cuda.is_available() \n",
    "        self.cuda_count = torch.cuda.device_count()\n",
    "        if self.cuda:\n",
    "            self.model = self.model.cuda()\n",
    "        self.epoch = 0\n",
    "        if self.cuda_count > 1:\n",
    "            print(\"Let's use\", torch.cuda.device_count(), \"GPUs!\")\n",
    "            self.model = nn.DataParallel(self.model)\n",
    "        self.best_score = None\n",
    "        if resume and os.path.exists(self.savepath):\n",
    "            self.checkpoint = torch.load(self.savepath)\n",
    "            self.epoch = self.checkpoint['epoch']\n",
    "            self.best_score=self.checkpoint['best']\n",
    "            self.load()\n",
    "        else:\n",
    "            print('checkpoint does not exist')\n",
    "\n",
    "    def fit(self, opt):\n",
    "        opt['cuda'] = self.cuda\n",
    "        opt['model'] = self.model\n",
    "        opt['optimizer'] = self.optimizer\n",
    "        logging.basicConfig(filename=\"%s/%s.csv\" %(opt['log_dir'], opt['name']), level=logging.INFO)\n",
    "        self.saver = EarlyStopping(self.savepath, patience=15, verbose=True, best_score=self.best_score)\n",
    "        opt['epoch'] = self.epoch\n",
    "        trainer = OCRTrainer(opt)\n",
    "        \n",
    "        for epoch in range(opt['epoch'], opt['epochs']):\n",
    "            train_result = trainer.run_epoch()\n",
    "            val_result = trainer.run_epoch(validation=True)\n",
    "            trainer.count = epoch\n",
    "            info = '%d, %.6f, %.6f, %.6f, %.6f, %.6f, %.6f'%(epoch, train_result['train_loss'], \n",
    "                val_result['val_loss'], train_result['train_ca'],  val_result['val_ca'],\n",
    "                train_result['train_wa'], val_result['val_wa'])\n",
    "            logging.info(info)\n",
    "            self.val_loss = val_result['val_loss']\n",
    "            print(self.val_loss)\n",
    "            if self.savepath:\n",
    "                self.save(epoch)\n",
    "            if self.saver.early_stop:\n",
    "                print(\"Early stopping\")\n",
    "                break\n",
    "\n",
    "    def load(self):\n",
    "        print('Loading checkpoint at {} trained for {} epochs'.format(self.savepath, self.checkpoint['epoch']))\n",
    "        #self.model.load_state_dict(self.checkpoint['state_dict'])\n",
    "        self.model.load_state_dict(self.checkpoint['state_dict'], strict=False)\n",
    "        if 'opt_state_dict' in self.checkpoint.keys():\n",
    "            print('Loading optimizer')\n",
    "            #self.optimizer.load_state_dict(self.checkpoint['opt_state_dict'])\n",
    "            self.optimizer.load_state_dict(self.checkpoint['opt_state_dict'], strict=False)\n",
    "\n",
    "    def save(self, epoch):\n",
    "        self.saver(self.val_loss, epoch, self.model, self.optimizer)"
   ]
  },
  {
   "cell_type": "markdown",
   "metadata": {},
   "source": [
    "### Defining the hyperparameters\n",
    "\n",
    "Okay, now that we have set the premise, its time to unfold the drama. We begin by defining our vocabulary i.e. the alphabets which serve as the output classes for our model.\n",
    "We define a suitable name for this experiment which will also serve as the folder name where the checkpoints and log files will be stored. We also define the hyper-parameters like the batch size, learning rate, image height, number of channels etc.\n",
    "\n",
    "Then we initialize our Dataset class and split the data into train and validation. We then proceed to initialize our Model and CTCLoss and finally call the `learner.fit` function.\n",
    "\n",
    "Once the training is over we can find the saved model in the `checkpoints/name` folder. We may load the model and evaluate its performance on the test data or finetune it on some other data."
   ]
  },
  {
   "cell_type": "code",
   "execution_count": 20,
   "metadata": {},
   "outputs": [],
   "source": [
    "!export CUDA_VISIBLE_DEVICE=3"
   ]
  },
  {
   "cell_type": "code",
   "execution_count": 14,
   "metadata": {},
   "outputs": [
    {
     "name": "stdout",
     "output_type": "stream",
     "text": [
      "0\n"
     ]
    }
   ],
   "source": [
    "print(torch.cuda.current_device())"
   ]
  },
  {
   "cell_type": "code",
   "execution_count": 21,
   "metadata": {},
   "outputs": [
    {
     "data": {
      "text/plain": [
       "0"
      ]
     },
     "execution_count": 21,
     "metadata": {},
     "output_type": "execute_result"
    }
   ],
   "source": [
    "torch.cuda.current_device()"
   ]
  },
  {
   "cell_type": "code",
   "execution_count": 17,
   "metadata": {},
   "outputs": [
    {
     "data": {
      "text/plain": [
       "'NVIDIA GeForce GTX 1080 Ti'"
      ]
     },
     "execution_count": 17,
     "metadata": {},
     "output_type": "execute_result"
    }
   ],
   "source": [
    "torch.cuda.get_device_name(0)"
   ]
  },
  {
   "cell_type": "code",
   "execution_count": 41,
   "metadata": {},
   "outputs": [
    {
     "name": "stdout",
     "output_type": "stream",
     "text": [
      "Traininig Data Size:133\n",
      "Val Data Size:34\n",
      "Let's use 4 GPUs!\n",
      "checkpoint does not exist\n",
      "None\n",
      "Scheduling is False\n"
     ]
    },
    {
     "name": "stderr",
     "output_type": "stream",
     "text": [
      "Epoch: [0]/[100] Training: 100%|████| 5/5 [00:01<00:00,  2.80it/s, loss=4.15, train_ca=0, train_wa=0]\n",
      "Validating: 100%|███████████████████| 2/2 [00:00<00:00,  4.34it/s, val_loss=3.96, val_ca=0, val_wa=0]\n"
     ]
    },
    {
     "name": "stdout",
     "output_type": "stream",
     "text": [
      "3.9845218658447266\n",
      "Validation loss decreased (inf --> 3.984522).  Saving model ...\n"
     ]
    },
    {
     "name": "stderr",
     "output_type": "stream",
     "text": [
      "Epoch: [0]/[100] Training: 100%|████| 5/5 [00:01<00:00,  2.94it/s, loss=3.48, train_ca=0, train_wa=0]\n",
      "Validating: 100%|███████████████████| 2/2 [00:00<00:00,  5.61it/s, val_loss=3.64, val_ca=0, val_wa=0]\n"
     ]
    },
    {
     "name": "stdout",
     "output_type": "stream",
     "text": [
      "3.8066088557243347\n",
      "Validation loss decreased (3.984522 --> 3.806609).  Saving model ...\n"
     ]
    },
    {
     "name": "stderr",
     "output_type": "stream",
     "text": [
      "Epoch: [1]/[100] Training: 100%|████| 5/5 [00:01<00:00,  2.96it/s, loss=3.48, train_ca=0, train_wa=0]\n",
      "Validating: 100%|███████████████████| 2/2 [00:00<00:00,  5.91it/s, val_loss=3.47, val_ca=0, val_wa=0]\n"
     ]
    },
    {
     "name": "stdout",
     "output_type": "stream",
     "text": [
      "3.686949094136556\n",
      "Validation loss decreased (3.806609 --> 3.686949).  Saving model ...\n"
     ]
    },
    {
     "name": "stderr",
     "output_type": "stream",
     "text": [
      "Epoch: [2]/[100] Training: 100%|████| 5/5 [00:01<00:00,  2.80it/s, loss=3.36, train_ca=0, train_wa=0]\n",
      "Validating: 100%|███████████████████| 2/2 [00:00<00:00,  5.45it/s, val_loss=3.38, val_ca=0, val_wa=0]\n"
     ]
    },
    {
     "name": "stdout",
     "output_type": "stream",
     "text": [
      "3.610337108373642\n",
      "Validation loss decreased (3.686949 --> 3.610337).  Saving model ...\n"
     ]
    },
    {
     "name": "stderr",
     "output_type": "stream",
     "text": [
      "Epoch: [3]/[100] Training: 100%|█████| 5/5 [00:01<00:00,  3.00it/s, loss=3.4, train_ca=0, train_wa=0]\n",
      "Validating: 100%|███████████████████| 2/2 [00:00<00:00,  5.24it/s, val_loss=3.34, val_ca=0, val_wa=0]\n"
     ]
    },
    {
     "name": "stdout",
     "output_type": "stream",
     "text": [
      "3.5571404695510864\n",
      "Validation loss decreased (3.610337 --> 3.557140).  Saving model ...\n"
     ]
    },
    {
     "name": "stderr",
     "output_type": "stream",
     "text": [
      "Epoch: [4]/[100] Training: 100%|████| 5/5 [00:01<00:00,  2.78it/s, loss=3.12, train_ca=0, train_wa=0]\n",
      "Validating: 100%|███████████████████| 2/2 [00:00<00:00,  3.84it/s, val_loss=3.33, val_ca=0, val_wa=0]\n"
     ]
    },
    {
     "name": "stdout",
     "output_type": "stream",
     "text": [
      "3.515223721663157\n",
      "Validation loss decreased (3.557140 --> 3.515224).  Saving model ...\n"
     ]
    },
    {
     "name": "stderr",
     "output_type": "stream",
     "text": [
      "Epoch: [5]/[100] Training: 100%|████| 5/5 [00:01<00:00,  2.87it/s, loss=3.35, train_ca=0, train_wa=0]\n",
      "Validating: 100%|███████████████████| 2/2 [00:00<00:00,  5.05it/s, val_loss=3.17, val_ca=0, val_wa=0]\n"
     ]
    },
    {
     "name": "stdout",
     "output_type": "stream",
     "text": [
      "3.470026424952916\n",
      "Validation loss decreased (3.515224 --> 3.470026).  Saving model ...\n"
     ]
    },
    {
     "name": "stderr",
     "output_type": "stream",
     "text": [
      "Epoch: [6]/[100] Training: 100%|█████| 5/5 [00:01<00:00,  3.01it/s, loss=3.1, train_ca=0, train_wa=0]\n",
      "Validating: 100%|████████████████████| 2/2 [00:00<00:00,  4.52it/s, val_loss=3.1, val_ca=0, val_wa=0]\n"
     ]
    },
    {
     "name": "stdout",
     "output_type": "stream",
     "text": [
      "3.42876198887825\n",
      "Validation loss decreased (3.470026 --> 3.428762).  Saving model ...\n"
     ]
    },
    {
     "name": "stderr",
     "output_type": "stream",
     "text": [
      "Epoch: [7]/[100] Training: 100%|████| 5/5 [00:01<00:00,  3.09it/s, loss=3.11, train_ca=0, train_wa=0]\n",
      "Validating: 100%|██████████████████| 2/2 [00:00<00:00,  6.32it/s, val_loss=3.01, val_ca=10, val_wa=0]\n"
     ]
    },
    {
     "name": "stdout",
     "output_type": "stream",
     "text": [
      "3.3903280893961587\n",
      "Validation loss decreased (3.428762 --> 3.390328).  Saving model ...\n"
     ]
    },
    {
     "name": "stderr",
     "output_type": "stream",
     "text": [
      "Epoch: [8]/[100] Training: 100%|████| 5/5 [00:01<00:00,  3.16it/s, loss=3.49, train_ca=0, train_wa=0]\n",
      "Validating: 100%|██████████████████| 2/2 [00:00<00:00,  5.70it/s, val_loss=2.93, val_ca=10, val_wa=0]\n"
     ]
    },
    {
     "name": "stdout",
     "output_type": "stream",
     "text": [
      "3.3547375440597533\n",
      "Validation loss decreased (3.390328 --> 3.354738).  Saving model ...\n"
     ]
    },
    {
     "name": "stderr",
     "output_type": "stream",
     "text": [
      "Epoch: [9]/[100] Training: 100%|█| 5/5 [00:01<00:00,  2.85it/s, loss=3.15, train_ca=2.22, train_wa=0]\n",
      "Validating: 100%|███████████████████| 2/2 [00:00<00:00,  5.02it/s, val_loss=2.97, val_ca=5, val_wa=0]\n"
     ]
    },
    {
     "name": "stdout",
     "output_type": "stream",
     "text": [
      "3.3260637521743774\n",
      "Validation loss decreased (3.354738 --> 3.326064).  Saving model ...\n"
     ]
    },
    {
     "name": "stderr",
     "output_type": "stream",
     "text": [
      "Epoch: [10]/[100] Training: 100%|███| 5/5 [00:01<00:00,  2.88it/s, loss=3.33, train_ca=6, train_wa=0]\n",
      "Validating: 100%|██████████████████| 2/2 [00:00<00:00,  5.14it/s, val_loss=2.92, val_ca=10, val_wa=0]\n"
     ]
    },
    {
     "name": "stdout",
     "output_type": "stream",
     "text": [
      "3.2986901899178824\n",
      "Validation loss decreased (3.326064 --> 3.298690).  Saving model ...\n"
     ]
    },
    {
     "name": "stderr",
     "output_type": "stream",
     "text": [
      "Epoch: [11]/[100] Training: 100%|█| 5/5 [00:01<00:00,  3.23it/s, loss=3.1, train_ca=2.22, train_wa=0]\n",
      "Validating: 100%|██████████████████| 2/2 [00:00<00:00,  8.50it/s, val_loss=2.83, val_ca=20, val_wa=0]\n"
     ]
    },
    {
     "name": "stdout",
     "output_type": "stream",
     "text": [
      "3.2710830248319187\n",
      "Validation loss decreased (3.298690 --> 3.271083).  Saving model ...\n"
     ]
    },
    {
     "name": "stderr",
     "output_type": "stream",
     "text": [
      "Epoch: [12]/[100] Training: 100%|██| 5/5 [00:01<00:00,  3.17it/s, loss=2.88, train_ca=10, train_wa=0]\n",
      "Validating: 100%|██████████████████| 2/2 [00:00<00:00,  4.76it/s, val_loss=2.86, val_ca=20, val_wa=0]\n"
     ]
    },
    {
     "name": "stdout",
     "output_type": "stream",
     "text": [
      "3.247870070593698\n",
      "Validation loss decreased (3.271083 --> 3.247870).  Saving model ...\n"
     ]
    },
    {
     "name": "stderr",
     "output_type": "stream",
     "text": [
      "Epoch: [13]/[100] Training: 100%|█| 5/5 [00:01<00:00,  2.60it/s, loss=3.14, train_ca=6.5, train_wa=0]\n",
      "Validating: 100%|██████████████████| 2/2 [00:00<00:00,  6.12it/s, val_loss=2.87, val_ca=10, val_wa=0]\n"
     ]
    },
    {
     "name": "stdout",
     "output_type": "stream",
     "text": [
      "3.227910614013672\n",
      "Validation loss decreased (3.247870 --> 3.227911).  Saving model ...\n"
     ]
    },
    {
     "name": "stderr",
     "output_type": "stream",
     "text": [
      "Epoch: [14]/[100] Training: 100%|██████| 5/5 [00:01<00:00,  2.96it/s, loss=3, train_ca=0, train_wa=0]\n",
      "Validating: 100%|██████████████████| 2/2 [00:00<00:00,  4.91it/s, val_loss=2.72, val_ca=20, val_wa=0]\n"
     ]
    },
    {
     "name": "stdout",
     "output_type": "stream",
     "text": [
      "3.205030232667923\n",
      "Validation loss decreased (3.227911 --> 3.205030).  Saving model ...\n"
     ]
    },
    {
     "name": "stderr",
     "output_type": "stream",
     "text": [
      "Epoch: [15]/[100] Training: 100%|███| 5/5 [00:01<00:00,  2.83it/s, loss=2.93, train_ca=6, train_wa=0]\n",
      "Validating: 100%|███████████████████| 2/2 [00:00<00:00,  5.98it/s, val_loss=2.77, val_ca=0, val_wa=0]\n"
     ]
    },
    {
     "name": "stdout",
     "output_type": "stream",
     "text": [
      "3.1859824306824627\n",
      "Validation loss decreased (3.205030 --> 3.185982).  Saving model ...\n"
     ]
    },
    {
     "name": "stderr",
     "output_type": "stream",
     "text": [
      "Epoch: [16]/[100] Training: 100%|███| 5/5 [00:01<00:00,  2.87it/s, loss=3.08, train_ca=6, train_wa=0]\n",
      "Validating: 100%|██████████████████| 2/2 [00:00<00:00,  5.69it/s, val_loss=2.86, val_ca=10, val_wa=0]\n"
     ]
    },
    {
     "name": "stdout",
     "output_type": "stream",
     "text": [
      "3.172395255830553\n",
      "Validation loss decreased (3.185982 --> 3.172395).  Saving model ...\n"
     ]
    },
    {
     "name": "stderr",
     "output_type": "stream",
     "text": [
      "Epoch: [17]/[100] Training: 100%|███| 5/5 [00:01<00:00,  3.04it/s, loss=3.03, train_ca=4, train_wa=0]\n",
      "Validating: 100%|██████████████████| 2/2 [00:00<00:00,  4.99it/s, val_loss=2.96, val_ca=10, val_wa=0]\n"
     ]
    },
    {
     "name": "stdout",
     "output_type": "stream",
     "text": [
      "3.1660813093185425\n",
      "Validation loss decreased (3.172395 --> 3.166081).  Saving model ...\n"
     ]
    },
    {
     "name": "stderr",
     "output_type": "stream",
     "text": [
      "Epoch: [18]/[100] Training: 100%|██| 5/5 [00:01<00:00,  3.09it/s, loss=2.81, train_ca=10, train_wa=0]\n",
      "Validating: 100%|██████████████████| 2/2 [00:00<00:00,  5.20it/s, val_loss=2.65, val_ca=15, val_wa=0]\n"
     ]
    },
    {
     "name": "stdout",
     "output_type": "stream",
     "text": [
      "3.147527742385864\n",
      "Validation loss decreased (3.166081 --> 3.147528).  Saving model ...\n"
     ]
    },
    {
     "name": "stderr",
     "output_type": "stream",
     "text": [
      "Epoch: [19]/[100] Training: 100%|███| 5/5 [00:01<00:00,  2.95it/s, loss=2.86, train_ca=0, train_wa=0]\n",
      "Validating: 100%|██████████████████| 2/2 [00:00<00:00,  4.66it/s, val_loss=2.59, val_ca=20, val_wa=0]\n"
     ]
    },
    {
     "name": "stdout",
     "output_type": "stream",
     "text": [
      "3.1289158094496954\n",
      "Validation loss decreased (3.147528 --> 3.128916).  Saving model ...\n"
     ]
    },
    {
     "name": "stderr",
     "output_type": "stream",
     "text": [
      "Epoch: [20]/[100] Training: 100%|███| 5/5 [00:02<00:00,  2.06it/s, loss=2.77, train_ca=4, train_wa=0]\n",
      "Validating: 100%|███████████████████| 2/2 [00:00<00:00,  4.41it/s, val_loss=2.59, val_ca=0, val_wa=0]\n"
     ]
    },
    {
     "name": "stdout",
     "output_type": "stream",
     "text": [
      "3.112345668402585\n",
      "Validation loss decreased (3.128916 --> 3.112346).  Saving model ...\n"
     ]
    },
    {
     "name": "stderr",
     "output_type": "stream",
     "text": [
      "Epoch: [21]/[100] Training: 100%|███| 5/5 [00:01<00:00,  2.70it/s, loss=2.81, train_ca=6, train_wa=0]\n",
      "Validating: 100%|███████████████████| 2/2 [00:00<00:00,  4.58it/s, val_loss=3.07, val_ca=5, val_wa=0]\n"
     ]
    },
    {
     "name": "stdout",
     "output_type": "stream",
     "text": [
      "3.111403765885726\n",
      "Validation loss decreased (3.112346 --> 3.111404).  Saving model ...\n"
     ]
    },
    {
     "name": "stderr",
     "output_type": "stream",
     "text": [
      "Epoch: [22]/[100] Training: 100%|█| 5/5 [00:02<00:00,  2.43it/s, loss=3.12, train_ca=6.94, train_wa=0\n",
      "Validating: 100%|██████████████████| 2/2 [00:00<00:00,  6.96it/s, val_loss=2.51, val_ca=30, val_wa=0]\n"
     ]
    },
    {
     "name": "stdout",
     "output_type": "stream",
     "text": [
      "3.0934045910835266\n",
      "Validation loss decreased (3.111404 --> 3.093405).  Saving model ...\n"
     ]
    },
    {
     "name": "stderr",
     "output_type": "stream",
     "text": [
      "Epoch: [23]/[100] Training: 100%|█████| 5/5 [00:01<00:00,  4.47it/s, loss=3, train_ca=16, train_wa=0]\n",
      "Validating: 100%|██████████████████| 2/2 [00:00<00:00,  4.94it/s, val_loss=2.57, val_ca=15, val_wa=0]\n"
     ]
    },
    {
     "name": "stdout",
     "output_type": "stream",
     "text": [
      "3.0782246160507203\n",
      "Validation loss decreased (3.093405 --> 3.078225).  Saving model ...\n"
     ]
    },
    {
     "name": "stderr",
     "output_type": "stream",
     "text": [
      "Epoch: [24]/[100] Training: 100%|█| 5/5 [00:01<00:00,  2.90it/s, loss=2.73, train_ca=10.5, train_wa=0\n",
      "Validating: 100%|██████████████████| 2/2 [00:00<00:00,  5.86it/s, val_loss=2.46, val_ca=30, val_wa=0]\n"
     ]
    },
    {
     "name": "stdout",
     "output_type": "stream",
     "text": [
      "3.061640601891738\n",
      "Validation loss decreased (3.078225 --> 3.061641).  Saving model ...\n"
     ]
    },
    {
     "name": "stderr",
     "output_type": "stream",
     "text": [
      "Epoch: [25]/[100] Training: 100%|█| 5/5 [00:01<00:00,  2.79it/s, loss=2.96, train_ca=16.9, train_wa=0\n",
      "Validating: 100%|██████████████████| 2/2 [00:00<00:00,  4.53it/s, val_loss=2.44, val_ca=30, val_wa=0]\n"
     ]
    },
    {
     "name": "stdout",
     "output_type": "stream",
     "text": [
      "3.0464906206837408\n",
      "Validation loss decreased (3.061641 --> 3.046491).  Saving model ...\n"
     ]
    },
    {
     "name": "stderr",
     "output_type": "stream",
     "text": [
      "Epoch: [26]/[100] Training: 100%|█| 5/5 [00:01<00:00,  2.74it/s, loss=2.98, train_ca=10.7, train_wa=0\n",
      "Validating: 100%|██████████████████| 2/2 [00:00<00:00,  6.01it/s, val_loss=2.52, val_ca=20, val_wa=0]\n"
     ]
    },
    {
     "name": "stdout",
     "output_type": "stream",
     "text": [
      "3.0333381465503146\n",
      "Validation loss decreased (3.046491 --> 3.033338).  Saving model ...\n"
     ]
    },
    {
     "name": "stderr",
     "output_type": "stream",
     "text": [
      "Epoch: [27]/[100] Training: 100%|█| 5/5 [00:01<00:00,  3.53it/s, loss=2.73, train_ca=12.2, train_wa=0\n",
      "Validating: 100%|██████████████████| 2/2 [00:00<00:00,  5.68it/s, val_loss=2.53, val_ca=10, val_wa=0]\n"
     ]
    },
    {
     "name": "stdout",
     "output_type": "stream",
     "text": [
      "3.0212037522217323\n",
      "Validation loss decreased (3.033338 --> 3.021204).  Saving model ...\n"
     ]
    },
    {
     "name": "stderr",
     "output_type": "stream",
     "text": [
      "Epoch: [28]/[100] Training: 100%|█| 5/5 [00:01<00:00,  2.78it/s, loss=2.65, train_ca=12.7, train_wa=0\n",
      "Validating: 100%|██████████████████| 2/2 [00:00<00:00,  4.70it/s, val_loss=2.44, val_ca=20, val_wa=0]\n"
     ]
    },
    {
     "name": "stdout",
     "output_type": "stream",
     "text": [
      "3.008693250020345\n",
      "Validation loss decreased (3.021204 --> 3.008693).  Saving model ...\n"
     ]
    },
    {
     "name": "stderr",
     "output_type": "stream",
     "text": [
      "Epoch: [29]/[100] Training: 100%|████| 5/5 [00:02<00:00,  2.03it/s, loss=3.2, train_ca=7, train_wa=0]\n",
      "Validating: 100%|██████████████████| 2/2 [00:00<00:00,  5.27it/s, val_loss=2.43, val_ca=30, val_wa=0]\n"
     ]
    },
    {
     "name": "stdout",
     "output_type": "stream",
     "text": [
      "2.9964017445041287\n",
      "Validation loss decreased (3.008693 --> 2.996402).  Saving model ...\n"
     ]
    },
    {
     "name": "stderr",
     "output_type": "stream",
     "text": [
      "Epoch: [30]/[100] Training: 100%|██| 5/5 [00:01<00:00,  3.01it/s, loss=2.91, train_ca=14, train_wa=0]\n",
      "Validating: 100%|██████████████████| 2/2 [00:00<00:00,  5.24it/s, val_loss=2.52, val_ca=20, val_wa=0]\n"
     ]
    },
    {
     "name": "stdout",
     "output_type": "stream",
     "text": [
      "2.9854953847825527\n",
      "Validation loss decreased (2.996402 --> 2.985495).  Saving model ...\n"
     ]
    },
    {
     "name": "stderr",
     "output_type": "stream",
     "text": [
      "Epoch: [31]/[100] Training: 100%|██| 5/5 [00:01<00:00,  2.97it/s, loss=3.03, train_ca=10, train_wa=0]\n",
      "Validating: 100%|██████████████████| 2/2 [00:00<00:00,  5.81it/s, val_loss=2.54, val_ca=15, val_wa=0]\n"
     ]
    },
    {
     "name": "stdout",
     "output_type": "stream",
     "text": [
      "2.9757250041672676\n",
      "Validation loss decreased (2.985495 --> 2.975725).  Saving model ...\n"
     ]
    },
    {
     "name": "stderr",
     "output_type": "stream",
     "text": [
      "Epoch: [32]/[100] Training: 100%|██| 5/5 [00:01<00:00,  3.48it/s, loss=2.55, train_ca=17, train_wa=0]\n",
      "Validating: 100%|██████████████████| 2/2 [00:00<00:00,  6.02it/s, val_loss=2.49, val_ca=30, val_wa=0]\n"
     ]
    },
    {
     "name": "stdout",
     "output_type": "stream",
     "text": [
      "2.966277886839474\n",
      "Validation loss decreased (2.975725 --> 2.966278).  Saving model ...\n"
     ]
    },
    {
     "name": "stderr",
     "output_type": "stream",
     "text": [
      "Epoch: [33]/[100] Training: 100%|█| 5/5 [00:01<00:00,  2.78it/s, loss=2.69, train_ca=16.9, train_wa=0\n",
      "Validating: 100%|██████████████████| 2/2 [00:00<00:00,  5.43it/s, val_loss=2.46, val_ca=20, val_wa=0]\n"
     ]
    },
    {
     "name": "stdout",
     "output_type": "stream",
     "text": [
      "2.956596211024693\n",
      "Validation loss decreased (2.966278 --> 2.956596).  Saving model ...\n"
     ]
    },
    {
     "name": "stderr",
     "output_type": "stream",
     "text": [
      "Epoch: [34]/[100] Training: 100%|█| 5/5 [00:01<00:00,  3.04it/s, loss=2.59, train_ca=10.9, train_wa=0\n",
      "Validating: 100%|██████████████████| 2/2 [00:00<00:00,  5.08it/s, val_loss=2.49, val_ca=20, val_wa=0]\n"
     ]
    },
    {
     "name": "stdout",
     "output_type": "stream",
     "text": [
      "2.947490115960439\n",
      "Validation loss decreased (2.956596 --> 2.947490).  Saving model ...\n"
     ]
    },
    {
     "name": "stderr",
     "output_type": "stream",
     "text": [
      "Epoch: [35]/[100] Training: 100%|█| 5/5 [00:01<00:00,  3.39it/s, loss=2.72, train_ca=14.9, train_wa=0\n",
      "Validating: 100%|██████████████████| 2/2 [00:00<00:00,  4.76it/s, val_loss=2.54, val_ca=15, val_wa=0]\n"
     ]
    },
    {
     "name": "stdout",
     "output_type": "stream",
     "text": [
      "2.940011001921989\n",
      "Validation loss decreased (2.947490 --> 2.940011).  Saving model ...\n"
     ]
    },
    {
     "name": "stderr",
     "output_type": "stream",
     "text": [
      "Epoch: [36]/[100] Training: 100%|█| 5/5 [00:01<00:00,  3.21it/s, loss=2.46, train_ca=29.5, train_wa=0\n",
      "Validating: 100%|██████████████████| 2/2 [00:00<00:00,  9.60it/s, val_loss=2.41, val_ca=35, val_wa=0]\n"
     ]
    },
    {
     "name": "stdout",
     "output_type": "stream",
     "text": [
      "2.9365674257278442\n",
      "Validation loss decreased (2.940011 --> 2.936567).  Saving model ...\n"
     ]
    },
    {
     "name": "stderr",
     "output_type": "stream",
     "text": [
      "Epoch: [37]/[100] Training: 100%|██| 5/5 [00:00<00:00,  5.64it/s, loss=2.84, train_ca=12, train_wa=0]\n",
      "Validating: 100%|██████████████████| 2/2 [00:00<00:00,  5.93it/s, val_loss=3.63, val_ca=20, val_wa=0]\n"
     ]
    },
    {
     "name": "stdout",
     "output_type": "stream",
     "text": [
      "2.952351680168739\n",
      "EarlyStopping counter: (-2.936567 1 out of 15)\n"
     ]
    },
    {
     "name": "stderr",
     "output_type": "stream",
     "text": [
      "Epoch: [38]/[100] Training: 100%|█| 5/5 [00:00<00:00,  5.42it/s, loss=2.78, train_ca=18.5, train_wa=0\n",
      "Validating: 100%|██████████████████| 2/2 [00:00<00:00, 11.02it/s, val_loss=2.57, val_ca=10, val_wa=0]\n"
     ]
    },
    {
     "name": "stdout",
     "output_type": "stream",
     "text": [
      "2.9461358368396757\n",
      "EarlyStopping counter: (-2.936567 2 out of 15)\n"
     ]
    },
    {
     "name": "stderr",
     "output_type": "stream",
     "text": [
      "Epoch: [39]/[100] Training: 100%|███| 5/5 [00:01<00:00,  4.05it/s, loss=2.5, train_ca=10, train_wa=0]\n",
      "Validating: 100%|██████████████████| 2/2 [00:00<00:00,  4.22it/s, val_loss=2.49, val_ca=25, val_wa=0]\n"
     ]
    },
    {
     "name": "stdout",
     "output_type": "stream",
     "text": [
      "2.9389704233262597\n",
      "EarlyStopping counter: (-2.936567 3 out of 15)\n"
     ]
    },
    {
     "name": "stderr",
     "output_type": "stream",
     "text": [
      "Epoch: [40]/[100] Training: 100%|█| 5/5 [00:01<00:00,  2.63it/s, loss=3.07, train_ca=12.5, train_wa=0\n",
      "Validating: 100%|██████████████████| 2/2 [00:00<00:00,  4.28it/s, val_loss=2.53, val_ca=10, val_wa=0]\n"
     ]
    },
    {
     "name": "stdout",
     "output_type": "stream",
     "text": [
      "2.9321804500761486\n",
      "Validation loss decreased (2.936567 --> 2.932180).  Saving model ...\n"
     ]
    },
    {
     "name": "stderr",
     "output_type": "stream",
     "text": [
      "Epoch: [41]/[100] Training: 100%|█| 5/5 [00:01<00:00,  2.70it/s, loss=2.63, train_ca=13.4, train_wa=0\n",
      "Validating: 100%|██████████████████| 2/2 [00:00<00:00,  4.72it/s, val_loss=2.44, val_ca=25, val_wa=0]\n"
     ]
    },
    {
     "name": "stdout",
     "output_type": "stream",
     "text": [
      "2.92473649146945\n",
      "Validation loss decreased (2.932180 --> 2.924736).  Saving model ...\n"
     ]
    },
    {
     "name": "stderr",
     "output_type": "stream",
     "text": [
      "Epoch: [42]/[100] Training: 100%|█| 5/5 [00:01<00:00,  2.97it/s, loss=2.72, train_ca=14.2, train_wa=0\n",
      "Validating: 100%|███████████████████| 2/2 [00:00<00:00,  5.11it/s, val_loss=2.5, val_ca=10, val_wa=0]\n"
     ]
    },
    {
     "name": "stdout",
     "output_type": "stream",
     "text": [
      "2.9190395203503696\n",
      "Validation loss decreased (2.924736 --> 2.919040).  Saving model ...\n"
     ]
    },
    {
     "name": "stderr",
     "output_type": "stream",
     "text": [
      "Epoch: [43]/[100] Training: 100%|█| 5/5 [00:01<00:00,  4.82it/s, loss=3.06, train_ca=10.2, train_wa=0\n",
      "Validating: 100%|██████████████████| 2/2 [00:00<00:00,  4.12it/s, val_loss=2.39, val_ca=35, val_wa=0]\n"
     ]
    },
    {
     "name": "stdout",
     "output_type": "stream",
     "text": [
      "2.911583113670349\n",
      "Validation loss decreased (2.919040 --> 2.911583).  Saving model ...\n"
     ]
    },
    {
     "name": "stderr",
     "output_type": "stream",
     "text": [
      "Epoch: [44]/[100] Training: 100%|█| 5/5 [00:01<00:00,  2.77it/s, loss=2.55, train_ca=19.8, train_wa=0\n",
      "Validating: 100%|██████████████████| 2/2 [00:00<00:00,  4.93it/s, val_loss=2.45, val_ca=30, val_wa=0]\n"
     ]
    },
    {
     "name": "stdout",
     "output_type": "stream",
     "text": [
      "2.9057814893515213\n",
      "Validation loss decreased (2.911583 --> 2.905781).  Saving model ...\n"
     ]
    },
    {
     "name": "stderr",
     "output_type": "stream",
     "text": [
      "Epoch: [45]/[100] Training: 100%|█| 5/5 [00:01<00:00,  2.67it/s, loss=2.67, train_ca=18.2, train_wa=0\n",
      "Validating: 100%|███████████████████| 2/2 [00:00<00:00,  4.64it/s, val_loss=2.6, val_ca=20, val_wa=0]\n"
     ]
    },
    {
     "name": "stdout",
     "output_type": "stream",
     "text": [
      "2.9026044987617654\n",
      "Validation loss decreased (2.905781 --> 2.902604).  Saving model ...\n"
     ]
    },
    {
     "name": "stderr",
     "output_type": "stream",
     "text": [
      "Epoch: [46]/[100] Training: 100%|█| 5/5 [00:01<00:00,  3.16it/s, loss=2.66, train_ca=18.9, train_wa=0\n",
      "Validating: 100%|██████████████████| 2/2 [00:00<00:00,  3.99it/s, val_loss=2.31, val_ca=35, val_wa=0]\n"
     ]
    },
    {
     "name": "stdout",
     "output_type": "stream",
     "text": [
      "2.895330421626568\n",
      "Validation loss decreased (2.902604 --> 2.895330).  Saving model ...\n"
     ]
    },
    {
     "name": "stderr",
     "output_type": "stream",
     "text": [
      "Epoch: [47]/[100] Training: 100%|█| 5/5 [00:01<00:00,  2.97it/s, loss=2.58, train_ca=18.9, train_wa=0\n",
      "Validating: 100%|██████████████████| 2/2 [00:00<00:00,  5.84it/s, val_loss=2.52, val_ca=25, val_wa=0]\n"
     ]
    },
    {
     "name": "stdout",
     "output_type": "stream",
     "text": [
      "2.890797254990558\n",
      "Validation loss decreased (2.895330 --> 2.890797).  Saving model ...\n"
     ]
    },
    {
     "name": "stderr",
     "output_type": "stream",
     "text": [
      "Epoch: [48]/[100] Training: 100%|█| 5/5 [00:01<00:00,  2.79it/s, loss=2.49, train_ca=21.1, train_wa=0\n",
      "Validating: 100%|███████████████████| 2/2 [00:00<00:00,  4.29it/s, val_loss=2.3, val_ca=35, val_wa=0]\n"
     ]
    },
    {
     "name": "stdout",
     "output_type": "stream",
     "text": [
      "2.8842303586006164\n",
      "Validation loss decreased (2.890797 --> 2.884230).  Saving model ...\n"
     ]
    },
    {
     "name": "stderr",
     "output_type": "stream",
     "text": [
      "Epoch: [49]/[100] Training: 100%|█| 5/5 [00:01<00:00,  2.72it/s, loss=2.74, train_ca=22.6, train_wa=0\n",
      "Validating: 100%|███████████████████| 2/2 [00:00<00:00,  4.85it/s, val_loss=2.3, val_ca=30, val_wa=0]\n"
     ]
    },
    {
     "name": "stdout",
     "output_type": "stream",
     "text": [
      "2.878284952219795\n",
      "Validation loss decreased (2.884230 --> 2.878285).  Saving model ...\n"
     ]
    },
    {
     "name": "stderr",
     "output_type": "stream",
     "text": [
      "Epoch: [50]/[100] Training: 100%|█| 5/5 [00:01<00:00,  2.67it/s, loss=2.28, train_ca=22.9, train_wa=0\n",
      "Validating: 100%|██████████████████| 2/2 [00:00<00:00,  5.55it/s, val_loss=2.33, val_ca=30, val_wa=0]\n"
     ]
    },
    {
     "name": "stdout",
     "output_type": "stream",
     "text": [
      "2.8723723865472355\n",
      "Validation loss decreased (2.878285 --> 2.872372).  Saving model ...\n"
     ]
    },
    {
     "name": "stderr",
     "output_type": "stream",
     "text": [
      "Epoch: [51]/[100] Training: 100%|█| 5/5 [00:01<00:00,  2.79it/s, loss=2.52, train_ca=23.7, train_wa=0\n",
      "Validating: 100%|███████████████████| 2/2 [00:00<00:00,  4.34it/s, val_loss=2.5, val_ca=20, val_wa=0]\n"
     ]
    },
    {
     "name": "stdout",
     "output_type": "stream",
     "text": [
      "2.868478104753314\n",
      "Validation loss decreased (2.872372 --> 2.868478).  Saving model ...\n"
     ]
    },
    {
     "name": "stderr",
     "output_type": "stream",
     "text": [
      "Epoch: [52]/[100] Training: 100%|█| 5/5 [00:01<00:00,  2.81it/s, loss=2.63, train_ca=23.9, train_wa=0\n",
      "Validating: 100%|██████████████████| 2/2 [00:00<00:00,  5.12it/s, val_loss=2.29, val_ca=30, val_wa=0]\n"
     ]
    },
    {
     "name": "stdout",
     "output_type": "stream",
     "text": [
      "2.862730114548295\n",
      "Validation loss decreased (2.868478 --> 2.862730).  Saving model ...\n"
     ]
    },
    {
     "name": "stderr",
     "output_type": "stream",
     "text": [
      "Epoch: [53]/[100] Training: 100%|███| 5/5 [00:01<00:00,  3.86it/s, loss=2.6, train_ca=24, train_wa=0]\n",
      "Validating: 100%|██████████████████| 2/2 [00:00<00:00, 10.41it/s, val_loss=2.26, val_ca=35, val_wa=0]\n"
     ]
    },
    {
     "name": "stdout",
     "output_type": "stream",
     "text": [
      "2.8571828213605013\n",
      "Validation loss decreased (2.862730 --> 2.857183).  Saving model ...\n"
     ]
    },
    {
     "name": "stderr",
     "output_type": "stream",
     "text": [
      "Epoch: [54]/[100] Training: 100%|██| 5/5 [00:00<00:00,  5.57it/s, loss=2.23, train_ca=22, train_wa=0]\n",
      "Validating: 100%|██████████████████| 2/2 [00:00<00:00, 10.37it/s, val_loss=2.32, val_ca=30, val_wa=0]\n"
     ]
    },
    {
     "name": "stdout",
     "output_type": "stream",
     "text": [
      "2.852705325399126\n",
      "Validation loss decreased (2.857183 --> 2.852705).  Saving model ...\n"
     ]
    },
    {
     "name": "stderr",
     "output_type": "stream",
     "text": [
      "Epoch: [55]/[100] Training: 100%|██| 5/5 [00:01<00:00,  3.21it/s, loss=2.21, train_ca=28, train_wa=0]\n",
      "Validating: 100%|██████████████████| 2/2 [00:00<00:00,  4.59it/s, val_loss=2.38, val_ca=30, val_wa=0]\n"
     ]
    },
    {
     "name": "stdout",
     "output_type": "stream",
     "text": [
      "2.848802349023652\n",
      "Validation loss decreased (2.852705 --> 2.848802).  Saving model ...\n"
     ]
    },
    {
     "name": "stderr",
     "output_type": "stream",
     "text": [
      "Epoch: [56]/[100] Training: 100%|█| 5/5 [00:02<00:00,  2.44it/s, loss=2.67, train_ca=19.4, train_wa=0\n",
      "Validating: 100%|██████████████████| 2/2 [00:00<00:00,  4.13it/s, val_loss=2.41, val_ca=30, val_wa=0]\n"
     ]
    },
    {
     "name": "stdout",
     "output_type": "stream",
     "text": [
      "2.8468779777658395\n",
      "Validation loss decreased (2.848802 --> 2.846878).  Saving model ...\n"
     ]
    },
    {
     "name": "stderr",
     "output_type": "stream",
     "text": [
      "Epoch: [57]/[100] Training: 100%|█| 5/5 [00:01<00:00,  2.82it/s, loss=2.35, train_ca=26.9, train_wa=0\n",
      "Validating: 100%|██████████████████| 2/2 [00:00<00:00,  5.82it/s, val_loss=2.15, val_ca=30, val_wa=0]\n"
     ]
    },
    {
     "name": "stdout",
     "output_type": "stream",
     "text": [
      "2.841705467741368\n",
      "Validation loss decreased (2.846878 --> 2.841705).  Saving model ...\n"
     ]
    },
    {
     "name": "stderr",
     "output_type": "stream",
     "text": [
      "Epoch: [58]/[100] Training: 100%|█| 5/5 [00:01<00:00,  3.47it/s, loss=2.34, train_ca=16.2, train_wa=0\n",
      "Validating: 100%|██████████████████| 2/2 [00:00<00:00,  4.94it/s, val_loss=2.16, val_ca=30, val_wa=0]\n"
     ]
    },
    {
     "name": "stdout",
     "output_type": "stream",
     "text": [
      "2.8363887508710226\n",
      "Validation loss decreased (2.841705 --> 2.836389).  Saving model ...\n"
     ]
    },
    {
     "name": "stderr",
     "output_type": "stream",
     "text": [
      "Epoch: [59]/[100] Training: 100%|███| 5/5 [00:01<00:00,  3.05it/s, loss=2.6, train_ca=24, train_wa=0]\n",
      "Validating: 100%|██████████████████| 2/2 [00:00<00:00,  6.10it/s, val_loss=2.09, val_ca=30, val_wa=0]\n"
     ]
    },
    {
     "name": "stdout",
     "output_type": "stream",
     "text": [
      "2.831232018158084\n",
      "Validation loss decreased (2.836389 --> 2.831232).  Saving model ...\n"
     ]
    },
    {
     "name": "stderr",
     "output_type": "stream",
     "text": [
      "Epoch: [60]/[100] Training: 100%|█| 5/5 [00:01<00:00,  3.17it/s, loss=2.4, train_ca=33.7, train_wa=0]\n",
      "Validating: 100%|██████████████████| 2/2 [00:00<00:00,  5.17it/s, val_loss=2.52, val_ca=20, val_wa=0]\n"
     ]
    },
    {
     "name": "stdout",
     "output_type": "stream",
     "text": [
      "2.829497016245319\n",
      "Validation loss decreased (2.831232 --> 2.829497).  Saving model ...\n"
     ]
    },
    {
     "name": "stderr",
     "output_type": "stream",
     "text": [
      "Epoch: [61]/[100] Training: 100%|█| 5/5 [00:01<00:00,  3.24it/s, loss=2.33, train_ca=24.7, train_wa=0\n",
      "Validating: 100%|██████████████████| 2/2 [00:00<00:00,  5.74it/s, val_loss=2.41, val_ca=15, val_wa=0]\n"
     ]
    },
    {
     "name": "stdout",
     "output_type": "stream",
     "text": [
      "2.8269065656359236\n",
      "Validation loss decreased (2.829497 --> 2.826907).  Saving model ...\n"
     ]
    },
    {
     "name": "stderr",
     "output_type": "stream",
     "text": [
      "Epoch: [62]/[100] Training: 100%|█| 5/5 [00:01<00:00,  2.91it/s, loss=2.29, train_ca=29.4, train_wa=0\n",
      "Validating: 100%|██████████████████| 2/2 [00:00<00:00,  4.37it/s, val_loss=2.16, val_ca=35, val_wa=0]\n"
     ]
    },
    {
     "name": "stdout",
     "output_type": "stream",
     "text": [
      "2.8226359020918608\n",
      "Validation loss decreased (2.826907 --> 2.822636).  Saving model ...\n"
     ]
    },
    {
     "name": "stderr",
     "output_type": "stream",
     "text": [
      "Epoch: [63]/[100] Training: 100%|█| 5/5 [00:01<00:00,  2.91it/s, loss=2.53, train_ca=14.4, train_wa=0\n",
      "Validating: 100%|██████████████████| 2/2 [00:00<00:00,  5.14it/s, val_loss=2.16, val_ca=30, val_wa=0]\n"
     ]
    },
    {
     "name": "stdout",
     "output_type": "stream",
     "text": [
      "2.8185869161899273\n",
      "Validation loss decreased (2.822636 --> 2.818587).  Saving model ...\n"
     ]
    },
    {
     "name": "stderr",
     "output_type": "stream",
     "text": [
      "Epoch: [64]/[100] Training: 100%|██| 5/5 [00:01<00:00,  2.74it/s, loss=1.95, train_ca=40, train_wa=0]\n",
      "Validating: 100%|███████████████████| 2/2 [00:00<00:00,  5.01it/s, val_loss=2.3, val_ca=30, val_wa=0]\n"
     ]
    },
    {
     "name": "stdout",
     "output_type": "stream",
     "text": [
      "2.8158372423865576\n",
      "Validation loss decreased (2.818587 --> 2.815837).  Saving model ...\n"
     ]
    },
    {
     "name": "stderr",
     "output_type": "stream",
     "text": [
      "Epoch: [65]/[100] Training: 100%|██| 5/5 [00:01<00:00,  3.30it/s, loss=2.38, train_ca=19, train_wa=0]\n",
      "Validating: 100%|██████████████████| 2/2 [00:00<00:00,  6.42it/s, val_loss=2.55, val_ca=15, val_wa=0]\n"
     ]
    },
    {
     "name": "stdout",
     "output_type": "stream",
     "text": [
      "2.8162844803795886\n",
      "EarlyStopping counter: (-2.815837 1 out of 15)\n"
     ]
    },
    {
     "name": "stderr",
     "output_type": "stream",
     "text": [
      "Epoch: [66]/[100] Training: 100%|█| 5/5 [00:00<00:00,  5.19it/s, loss=2.31, train_ca=31.2, train_wa=0\n",
      "Validating: 100%|██████████████████| 2/2 [00:00<00:00,  9.87it/s, val_loss=2.19, val_ca=35, val_wa=0]\n"
     ]
    },
    {
     "name": "stdout",
     "output_type": "stream",
     "text": [
      "2.81322583731483\n",
      "Validation loss decreased (2.815837 --> 2.813226).  Saving model ...\n"
     ]
    },
    {
     "name": "stderr",
     "output_type": "stream",
     "text": [
      "Epoch: [67]/[100] Training: 100%|█| 5/5 [00:01<00:00,  3.02it/s, loss=2.16, train_ca=27.7, train_wa=0\n",
      "Validating: 100%|██████████████████| 2/2 [00:00<00:00,  4.39it/s, val_loss=2.26, val_ca=30, val_wa=0]\n"
     ]
    },
    {
     "name": "stdout",
     "output_type": "stream",
     "text": [
      "2.8106913290162017\n",
      "Validation loss decreased (2.813226 --> 2.810691).  Saving model ...\n"
     ]
    },
    {
     "name": "stderr",
     "output_type": "stream",
     "text": [
      "Epoch: [68]/[100] Training: 100%|█| 5/5 [00:01<00:00,  2.82it/s, loss=2.41, train_ca=24.5, train_wa=0\n",
      "Validating: 100%|██████████████████| 2/2 [00:00<00:00,  4.78it/s, val_loss=2.17, val_ca=35, val_wa=0]\n"
     ]
    },
    {
     "name": "stdout",
     "output_type": "stream",
     "text": [
      "2.8075036321367537\n",
      "Validation loss decreased (2.810691 --> 2.807504).  Saving model ...\n"
     ]
    },
    {
     "name": "stderr",
     "output_type": "stream",
     "text": [
      "Epoch: [69]/[100] Training: 100%|█| 5/5 [00:01<00:00,  3.23it/s, loss=2.4, train_ca=25.6, train_wa=0]\n",
      "Validating: 100%|██████████████████| 2/2 [00:00<00:00,  5.51it/s, val_loss=2.98, val_ca=30, val_wa=0]\n"
     ]
    },
    {
     "name": "stdout",
     "output_type": "stream",
     "text": [
      "2.8111456884464747\n",
      "EarlyStopping counter: (-2.807504 1 out of 15)\n"
     ]
    },
    {
     "name": "stderr",
     "output_type": "stream",
     "text": [
      "Epoch: [70]/[100] Training: 100%|█| 5/5 [00:01<00:00,  2.70it/s, loss=2.46, train_ca=24.1, train_wa=0\n",
      "Validating: 100%|██████████████████| 2/2 [00:00<00:00,  4.04it/s, val_loss=2.58, val_ca=20, val_wa=0]\n"
     ]
    },
    {
     "name": "stdout",
     "output_type": "stream",
     "text": [
      "2.8117955740955143\n",
      "EarlyStopping counter: (-2.807504 2 out of 15)\n"
     ]
    },
    {
     "name": "stderr",
     "output_type": "stream",
     "text": [
      "Epoch: [71]/[100] Training: 100%|█| 5/5 [00:01<00:00,  2.83it/s, loss=2.61, train_ca=17.6, train_wa=0\n",
      "Validating: 100%|██████████████████| 2/2 [00:00<00:00,  6.01it/s, val_loss=3.09, val_ca=25, val_wa=0]\n"
     ]
    },
    {
     "name": "stdout",
     "output_type": "stream",
     "text": [
      "2.8169475189627033\n",
      "EarlyStopping counter: (-2.807504 3 out of 15)\n"
     ]
    },
    {
     "name": "stderr",
     "output_type": "stream",
     "text": [
      "Epoch: [72]/[100] Training: 100%|█| 5/5 [00:01<00:00,  4.63it/s, loss=2.82, train_ca=21.2, train_wa=0\n",
      "Validating: 100%|██████████████████| 2/2 [00:00<00:00, 10.19it/s, val_loss=2.21, val_ca=25, val_wa=0]\n"
     ]
    },
    {
     "name": "stdout",
     "output_type": "stream",
     "text": [
      "2.81395419868263\n",
      "EarlyStopping counter: (-2.807504 4 out of 15)\n"
     ]
    },
    {
     "name": "stderr",
     "output_type": "stream",
     "text": [
      "Epoch: [73]/[100] Training: 100%|██| 5/5 [00:01<00:00,  2.79it/s, loss=1.88, train_ca=40, train_wa=0]\n",
      "Validating: 100%|██████████████████| 2/2 [00:00<00:00,  4.62it/s, val_loss=2.45, val_ca=30, val_wa=0]\n"
     ]
    },
    {
     "name": "stdout",
     "output_type": "stream",
     "text": [
      "2.814247964223226\n",
      "EarlyStopping counter: (-2.807504 5 out of 15)\n"
     ]
    },
    {
     "name": "stderr",
     "output_type": "stream",
     "text": [
      "Epoch: [74]/[100] Training: 100%|█| 5/5 [00:01<00:00,  2.91it/s, loss=2.1, train_ca=32.5, train_wa=0]\n",
      "Validating: 100%|██████████████████| 2/2 [00:00<00:00,  5.68it/s, val_loss=2.42, val_ca=30, val_wa=0]\n"
     ]
    },
    {
     "name": "stdout",
     "output_type": "stream",
     "text": [
      "2.8129044535912966\n",
      "EarlyStopping counter: (-2.807504 6 out of 15)\n"
     ]
    },
    {
     "name": "stderr",
     "output_type": "stream",
     "text": [
      "Epoch: [75]/[100] Training: 100%|█| 5/5 [00:01<00:00,  2.72it/s, loss=2.27, train_ca=21.1, train_wa=0\n",
      "Validating: 100%|███████████████████| 2/2 [00:00<00:00,  5.39it/s, val_loss=2.2, val_ca=25, val_wa=0]\n"
     ]
    },
    {
     "name": "stdout",
     "output_type": "stream",
     "text": [
      "2.810792134953784\n",
      "EarlyStopping counter: (-2.807504 7 out of 15)\n"
     ]
    },
    {
     "name": "stderr",
     "output_type": "stream",
     "text": [
      "Epoch: [76]/[100] Training: 100%|██| 5/5 [00:01<00:00,  2.89it/s, loss=2.21, train_ca=31, train_wa=0]\n",
      "Validating: 100%|██████████████████| 2/2 [00:00<00:00,  5.10it/s, val_loss=2.49, val_ca=15, val_wa=0]\n"
     ]
    },
    {
     "name": "stdout",
     "output_type": "stream",
     "text": [
      "2.8108089673213468\n",
      "EarlyStopping counter: (-2.807504 8 out of 15)\n"
     ]
    },
    {
     "name": "stderr",
     "output_type": "stream",
     "text": [
      "Epoch: [77]/[100] Training: 100%|█| 5/5 [00:01<00:00,  2.92it/s, loss=2.17, train_ca=27.1, train_wa=0\n",
      "Validating: 100%|██████████████████| 2/2 [00:00<00:00,  5.25it/s, val_loss=2.15, val_ca=25, val_wa=0]\n"
     ]
    },
    {
     "name": "stdout",
     "output_type": "stream",
     "text": [
      "2.808016313782221\n",
      "EarlyStopping counter: (-2.807504 9 out of 15)\n"
     ]
    },
    {
     "name": "stderr",
     "output_type": "stream",
     "text": [
      "Epoch: [78]/[100] Training: 100%|█| 5/5 [00:01<00:00,  3.00it/s, loss=2.63, train_ca=10.6, train_wa=0\n",
      "Validating: 100%|██████████████████| 2/2 [00:00<00:00,  5.18it/s, val_loss=2.38, val_ca=30, val_wa=0]\n"
     ]
    },
    {
     "name": "stdout",
     "output_type": "stream",
     "text": [
      "2.8071474596858024\n",
      "Validation loss decreased (2.807504 --> 2.807147).  Saving model ...\n"
     ]
    },
    {
     "name": "stderr",
     "output_type": "stream",
     "text": [
      "Epoch: [79]/[100] Training: 100%|██| 5/5 [00:01<00:00,  2.99it/s, loss=2.21, train_ca=18, train_wa=0]\n",
      "Validating: 100%|███████████████████| 2/2 [00:00<00:00,  5.53it/s, val_loss=2.3, val_ca=30, val_wa=0]\n"
     ]
    },
    {
     "name": "stdout",
     "output_type": "stream",
     "text": [
      "2.8061016533109875\n",
      "Validation loss decreased (2.807147 --> 2.806102).  Saving model ...\n"
     ]
    },
    {
     "name": "stderr",
     "output_type": "stream",
     "text": [
      "Epoch: [80]/[100] Training: 100%|█| 5/5 [00:01<00:00,  3.75it/s, loss=1.98, train_ca=30.4, train_wa=0\n",
      "Validating: 100%|██████████████████| 2/2 [00:00<00:00,  6.29it/s, val_loss=2.32, val_ca=30, val_wa=0]\n"
     ]
    },
    {
     "name": "stdout",
     "output_type": "stream",
     "text": [
      "2.805336760311592\n",
      "Validation loss decreased (2.806102 --> 2.805337).  Saving model ...\n"
     ]
    },
    {
     "name": "stderr",
     "output_type": "stream",
     "text": [
      "Epoch: [81]/[100] Training: 100%|█| 5/5 [00:01<00:00,  2.98it/s, loss=2.02, train_ca=24.4, train_wa=0\n",
      "Validating: 100%|██████████████████| 2/2 [00:00<00:00,  5.43it/s, val_loss=2.73, val_ca=15, val_wa=0]\n"
     ]
    },
    {
     "name": "stdout",
     "output_type": "stream",
     "text": [
      "2.806997972798635\n",
      "EarlyStopping counter: (-2.805337 1 out of 15)\n"
     ]
    },
    {
     "name": "stderr",
     "output_type": "stream",
     "text": [
      "Epoch: [82]/[100] Training: 100%|█| 5/5 [00:01<00:00,  3.09it/s, loss=2.59, train_ca=18.1, train_wa=0\n",
      "Validating: 100%|██████████████████| 2/2 [00:00<00:00,  5.27it/s, val_loss=2.24, val_ca=25, val_wa=0]\n"
     ]
    },
    {
     "name": "stdout",
     "output_type": "stream",
     "text": [
      "2.8058727326847257\n",
      "EarlyStopping counter: (-2.805337 2 out of 15)\n"
     ]
    },
    {
     "name": "stderr",
     "output_type": "stream",
     "text": [
      "Epoch: [83]/[100] Training: 100%|█| 5/5 [00:01<00:00,  3.15it/s, loss=2.26, train_ca=38.2, train_wa=0\n",
      "Validating: 100%|██████████████████| 2/2 [00:00<00:00,  6.72it/s, val_loss=2.23, val_ca=15, val_wa=0]\n"
     ]
    },
    {
     "name": "stdout",
     "output_type": "stream",
     "text": [
      "2.8050126678803387\n",
      "Validation loss decreased (2.805337 --> 2.805013).  Saving model ...\n"
     ]
    },
    {
     "name": "stderr",
     "output_type": "stream",
     "text": [
      "Epoch: [84]/[100] Training: 100%|███| 5/5 [00:01<00:00,  2.90it/s, loss=1.8, train_ca=34, train_wa=0]\n",
      "Validating: 100%|██████████████████| 2/2 [00:00<00:00,  5.54it/s, val_loss=2.34, val_ca=25, val_wa=0]\n"
     ]
    },
    {
     "name": "stdout",
     "output_type": "stream",
     "text": [
      "2.804637019024339\n",
      "Validation loss decreased (2.805013 --> 2.804637).  Saving model ...\n"
     ]
    },
    {
     "name": "stderr",
     "output_type": "stream",
     "text": [
      "Epoch: [85]/[100] Training: 100%|█| 5/5 [00:01<00:00,  3.46it/s, loss=2.15, train_ca=30.5, train_wa=0\n",
      "Validating: 100%|██████████████████| 2/2 [00:00<00:00,  9.60it/s, val_loss=2.49, val_ca=30, val_wa=0]\n"
     ]
    },
    {
     "name": "stdout",
     "output_type": "stream",
     "text": [
      "2.805183953252332\n",
      "EarlyStopping counter: (-2.804637 1 out of 15)\n"
     ]
    },
    {
     "name": "stderr",
     "output_type": "stream",
     "text": [
      "Epoch: [86]/[100] Training: 100%|█| 5/5 [00:00<00:00,  5.85it/s, loss=1.93, train_ca=28.9, train_wa=0\n",
      "Validating: 100%|██████████████████| 2/2 [00:00<00:00, 10.22it/s, val_loss=2.27, val_ca=15, val_wa=0]\n"
     ]
    },
    {
     "name": "stdout",
     "output_type": "stream",
     "text": [
      "2.804784586483782\n",
      "EarlyStopping counter: (-2.804637 2 out of 15)\n"
     ]
    },
    {
     "name": "stderr",
     "output_type": "stream",
     "text": [
      "Epoch: [87]/[100] Training: 100%|██| 5/5 [00:00<00:00,  5.89it/s, loss=1.94, train_ca=33, train_wa=0]\n",
      "Validating: 100%|██████████████████| 2/2 [00:00<00:00,  5.48it/s, val_loss=2.77, val_ca=15, val_wa=0]\n"
     ]
    },
    {
     "name": "stdout",
     "output_type": "stream",
     "text": [
      "2.807643059934123\n",
      "EarlyStopping counter: (-2.804637 3 out of 15)\n"
     ]
    },
    {
     "name": "stderr",
     "output_type": "stream",
     "text": [
      "Epoch: [88]/[100] Training: 100%|█| 5/5 [00:00<00:00,  5.60it/s, loss=1.92, train_ca=32.4, train_wa=0\n",
      "Validating: 100%|███████████████████| 2/2 [00:00<00:00, 10.77it/s, val_loss=2.4, val_ca=25, val_wa=0]\n"
     ]
    },
    {
     "name": "stdout",
     "output_type": "stream",
     "text": [
      "2.80796840455797\n",
      "EarlyStopping counter: (-2.804637 4 out of 15)\n"
     ]
    },
    {
     "name": "stderr",
     "output_type": "stream",
     "text": [
      "Epoch: [89]/[100] Training: 100%|█| 5/5 [00:01<00:00,  4.87it/s, loss=1.86, train_ca=29.5, train_wa=0\n",
      "Validating: 100%|███████████████████| 2/2 [00:00<00:00,  5.38it/s, val_loss=2.3, val_ca=25, val_wa=0]\n"
     ]
    },
    {
     "name": "stdout",
     "output_type": "stream",
     "text": [
      "2.8079818316868375\n",
      "EarlyStopping counter: (-2.804637 5 out of 15)\n"
     ]
    },
    {
     "name": "stderr",
     "output_type": "stream",
     "text": [
      "Epoch: [90]/[100] Training: 100%|█| 5/5 [00:01<00:00,  2.99it/s, loss=2.05, train_ca=26.9, train_wa=0\n",
      "Validating: 100%|██████████████████| 2/2 [00:00<00:00,  4.45it/s, val_loss=2.53, val_ca=20, val_wa=0]\n"
     ]
    },
    {
     "name": "stdout",
     "output_type": "stream",
     "text": [
      "2.8090775323950727\n",
      "EarlyStopping counter: (-2.804637 6 out of 15)\n"
     ]
    },
    {
     "name": "stderr",
     "output_type": "stream",
     "text": [
      "Epoch: [91]/[100] Training: 100%|█| 5/5 [00:01<00:00,  3.11it/s, loss=2.01, train_ca=39.5, train_wa=0\n",
      "Validating: 100%|██████████████████| 2/2 [00:00<00:00,  6.40it/s, val_loss=2.44, val_ca=20, val_wa=0]\n"
     ]
    },
    {
     "name": "stdout",
     "output_type": "stream",
     "text": [
      "2.8098679537414224\n",
      "EarlyStopping counter: (-2.804637 7 out of 15)\n"
     ]
    },
    {
     "name": "stderr",
     "output_type": "stream",
     "text": [
      "Epoch: [92]/[100] Training: 100%|██| 5/5 [00:01<00:00,  3.38it/s, loss=1.92, train_ca=40, train_wa=0]\n",
      "Validating: 100%|██████████████████| 2/2 [00:00<00:00,  5.60it/s, val_loss=3.12, val_ca=20, val_wa=0]\n"
     ]
    },
    {
     "name": "stdout",
     "output_type": "stream",
     "text": [
      "2.814972168587624\n",
      "EarlyStopping counter: (-2.804637 8 out of 15)\n"
     ]
    },
    {
     "name": "stderr",
     "output_type": "stream",
     "text": [
      "Epoch: [93]/[100] Training: 100%|█| 5/5 [00:01<00:00,  2.95it/s, loss=1.83, train_ca=28.2, train_wa=0\n",
      "Validating: 100%|██████████████████| 2/2 [00:00<00:00,  4.93it/s, val_loss=2.49, val_ca=25, val_wa=0]\n"
     ]
    },
    {
     "name": "stdout",
     "output_type": "stream",
     "text": [
      "2.816919860086943\n",
      "EarlyStopping counter: (-2.804637 9 out of 15)\n"
     ]
    },
    {
     "name": "stderr",
     "output_type": "stream",
     "text": [
      "Epoch: [94]/[100] Training: 100%|█| 5/5 [00:01<00:00,  2.98it/s, loss=1.98, train_ca=35.6, train_wa=0\n",
      "Validating: 100%|██████████████████| 2/2 [00:00<00:00,  4.23it/s, val_loss=3.06, val_ca=20, val_wa=0]\n"
     ]
    },
    {
     "name": "stdout",
     "output_type": "stream",
     "text": [
      "2.8212209368745484\n",
      "EarlyStopping counter: (-2.804637 10 out of 15)\n"
     ]
    },
    {
     "name": "stderr",
     "output_type": "stream",
     "text": [
      "Epoch: [95]/[100] Training: 100%|█| 5/5 [00:01<00:00,  3.00it/s, loss=2.51, train_ca=30.9, train_wa=0\n",
      "Validating: 100%|██████████████████| 2/2 [00:00<00:00,  4.27it/s, val_loss=2.38, val_ca=30, val_wa=0]\n"
     ]
    },
    {
     "name": "stdout",
     "output_type": "stream",
     "text": [
      "2.8223965278605827\n",
      "EarlyStopping counter: (-2.804637 11 out of 15)\n"
     ]
    },
    {
     "name": "stderr",
     "output_type": "stream",
     "text": [
      "Epoch: [96]/[100] Training: 100%|█| 5/5 [00:00<00:00,  5.36it/s, loss=1.73, train_ca=36.9, train_wa=0\n",
      "Validating: 100%|██████████████████| 2/2 [00:00<00:00, 11.01it/s, val_loss=2.43, val_ca=30, val_wa=0]\n"
     ]
    },
    {
     "name": "stdout",
     "output_type": "stream",
     "text": [
      "2.8232224583625793\n",
      "EarlyStopping counter: (-2.804637 12 out of 15)\n"
     ]
    },
    {
     "name": "stderr",
     "output_type": "stream",
     "text": [
      "Epoch: [97]/[100] Training: 100%|█| 5/5 [00:00<00:00,  5.70it/s, loss=1.77, train_ca=42.7, train_wa=0\n",
      "Validating: 100%|██████████████████| 2/2 [00:00<00:00,  5.93it/s, val_loss=2.44, val_ca=20, val_wa=0]\n"
     ]
    },
    {
     "name": "stdout",
     "output_type": "stream",
     "text": [
      "2.8246427557685156\n",
      "EarlyStopping counter: (-2.804637 13 out of 15)\n"
     ]
    },
    {
     "name": "stderr",
     "output_type": "stream",
     "text": [
      "Epoch: [98]/[100] Training: 100%|█| 5/5 [00:02<00:00,  2.46it/s, loss=1.79, train_ca=33.1, train_wa=0\n",
      "Validating: 100%|██████████████████| 2/2 [00:00<00:00,  5.00it/s, val_loss=2.52, val_ca=30, val_wa=0]"
     ]
    },
    {
     "name": "stdout",
     "output_type": "stream",
     "text": [
      "2.826535950899124\n",
      "EarlyStopping counter: (-2.804637 14 out of 15)\n"
     ]
    },
    {
     "name": "stderr",
     "output_type": "stream",
     "text": [
      "\n"
     ]
    }
   ],
   "source": [
    "alphabet = \"\"\"Only thewigsofrcvdampbkuq.$A-210xT5'MDL,RYHJ\"ISPWENj&BC93VGFKz();#:!7U64Q8?+*ZX/%\"\"\"\n",
    "#alphabet = \"\"\"ABCDEFGHIJKLMNOPQRSTUVWXYZ0123456789\"\"\"\n",
    "args = {\n",
    "    'name':'exp1',\n",
    "    'path':'/home/guscarrian@GU.GU.SE/LT2326-ML/A1/Adapting-OCR/carplates_dataset/LP-characters',\n",
    "    'imgdir': 'train_images',\n",
    "    'annotations_dir': 'annotations',\n",
    "    'image_size': (32, 168), #added\n",
    "    'imgH':32,\n",
    "    'nChannels':1,\n",
    "    'nHidden':256,\n",
    "    'nClasses':len(alphabet),\n",
    "    'lr':0.001,\n",
    "    'epochs':100, #150 #original 4\n",
    "    'batch_size':32, #128 #original 32\n",
    "    'save_dir':'../checkpoints/',\n",
    "    'log_dir':'../logs',\n",
    "    'resume':False,\n",
    "    'cuda':False,\n",
    "    'schedule':False\n",
    "}\n",
    "\n",
    "data = CarPlatesDataset(args)\n",
    "args['collate_fn'] = SynthCollator()\n",
    "train_split = int(0.8*len(data))\n",
    "val_split = len(data) - train_split\n",
    "args['data_train'], args['data_val'] = random_split(data, (train_split, val_split))\n",
    "print('Traininig Data Size:{}\\nVal Data Size:{}'.format(\n",
    "    len(args['data_train']), len(args['data_val'])))\n",
    "args['alphabet'] = alphabet\n",
    "model = CRNN(args)\n",
    "args['criterion'] = CustomCTCLoss()\n",
    "savepath = os.path.join(args['save_dir'], args['name'])\n",
    "gmkdir(savepath)\n",
    "gmkdir(args['log_dir'])\n",
    "optimizer = torch.optim.Adam(model.parameters(), lr=args['lr'])\n",
    "learner = Learner(model, optimizer, savepath=savepath, resume=args['resume'])\n",
    "learner.fit(args)"
   ]
  },
  {
   "cell_type": "markdown",
   "metadata": {},
   "source": [
    "## Evaluation and testing"
   ]
  },
  {
   "cell_type": "code",
   "execution_count": 10,
   "metadata": {},
   "outputs": [],
   "source": [
    "import matplotlib.pyplot as plt\n",
    "from torchvision.utils import make_grid"
   ]
  },
  {
   "cell_type": "code",
   "execution_count": 37,
   "metadata": {},
   "outputs": [],
   "source": [
    "device = torch.device(\"cuda:0\" if torch.cuda.is_available() else \"cpu\")\n",
    "def get_accuracy(args):\n",
    "    loader = torch.utils.data.DataLoader(args['data'],\n",
    "                batch_size=args['batch_size'],\n",
    "                collate_fn=args['collate_fn'])\n",
    "    model = args['model']\n",
    "    model.eval()\n",
    "    converter = OCRLabelConverter(args['alphabet'])\n",
    "    evaluator = Eval()\n",
    "    labels, predictions, images = [], [], []\n",
    "    for iteration, batch in enumerate(tqdm(loader)):\n",
    "        input_, targets = batch['img'].to(device), batch['label']\n",
    "        images.extend(input_.squeeze().detach())\n",
    "        labels.extend(targets)\n",
    "        targets, lengths = converter.encode(targets)\n",
    "        logits = model(input_).transpose(1, 0)\n",
    "        logits = torch.nn.functional.log_softmax(logits, 2)\n",
    "        logits = logits.contiguous().cpu()\n",
    "        T, B, H = logits.size()\n",
    "        pred_sizes = torch.LongTensor([T for i in range(B)])\n",
    "        probs, pos = logits.max(2)\n",
    "        pos = pos.transpose(1, 0).contiguous().view(-1)\n",
    "        sim_preds = converter.decode(pos.data, pred_sizes.data, raw=False)\n",
    "        predictions.extend(sim_preds)\n",
    "        \n",
    "#     make_grid(images[:10], nrow=2)\n",
    "    fig=plt.figure(figsize=(8, 8))\n",
    "    columns = 4\n",
    "    rows = 5\n",
    "    pairs = list(zip(images, predictions))\n",
    "    indices = np.random.permutation(len(pairs))\n",
    "    for i in range(1, columns*rows +1):\n",
    "        img = images[indices[i]]\n",
    "        img = (img - img.min())/(img.max() - img.min())\n",
    "        img = img.cpu().numpy() * 255.0\n",
    "        img = img.astype(np.uint8)\n",
    "        #img = np.array(img * 255.0, dtype=np.uint8)\n",
    "        fig.add_subplot(rows, columns, i)\n",
    "        plt.title(predictions[indices[i]])\n",
    "        plt.axis('off')\n",
    "        plt.imshow(img)\n",
    "    plt.show()\n",
    "    ca = np.mean((list(map(evaluator.char_accuracy, list(zip(predictions, labels))))))\n",
    "    wa = np.mean((list(map(evaluator.word_accuracy_line, list(zip(predictions, labels))))))\n",
    "    recall = recall_score(labels, predictions, average='macro', zero_division=0)\n",
    "    precision = precision_score(labels, predictions, average='macro', zero_division=0)\n",
    "    return ca, wa, recall, precision, labels, predictions\n",
    "    #return ca, wa\n",
    "\n"
   ]
  },
  {
   "cell_type": "code",
   "execution_count": 42,
   "metadata": {
    "scrolled": true
   },
   "outputs": [
    {
     "name": "stdout",
     "output_type": "stream",
     "text": [
      "Loading model ../checkpoints/exp1/best.ckpt\n"
     ]
    },
    {
     "name": "stderr",
     "output_type": "stream",
     "text": [
      "100%|██████████████████████████████████████████████████████████████████| 2/2 [00:02<00:00,  1.23s/it]\n"
     ]
    },
    {
     "data": {
      "image/png": "[encoded data removed]",
      "text/plain": [
       "<Figure size 800x800 with 20 Axes>"
      ]
     },
     "metadata": {},
     "output_type": "display_data"
    },
    {
     "name": "stdout",
     "output_type": "stream",
     "text": [
      "Character Accuracy: 17.15\n",
      "Word Accuracy: 0.00\n",
      " \n",
      "Labels: ['DLLCAB123X', 'MH20BY3665', '46Z8892MH', 'MH14DT8831', 'MH20B4Y546', 'KL60N5344', 'MK20TC189B', 'MH02CB4545', 'KL06H5834', 'KL38F5008', 'KL43B2344', 'MH02BK9793', 'KL09AL9540', 'KA19TR0220102011', 'MH155TC54', 'KL7BZ99', 'HP896786', '36L1579', 'MH20CS1941', 'KL01CC50', 'KL10AWW814', 'HR26CF5868', 'MH04EE2299', 'HR26TC7099', 'GJ05443', 'KL55R2473', 'DL3CBF3907', 'FLUSSH', 'ASM14', 'KL10AV6342', 'MH01AR5274', 'MH14EH5189', 'GJ05JD9759', 'MH14TCF460', 'HR26BR9044', 'TN38M6G162', 'MH13BN4348', 'MH15BD8877', 'MH20EE045', 'TN07BU5427', 'KL454455', 'MH20DV2362']\n",
      " \n",
      "Predictions: ['KL', 'MH0TBX', 'TN03CV', 'MH24EC', 'H03BS', 'HR29C', 'TN04TC', 'HP03BS', 'KL09MV', 'HR16CA', 'HR0CBT', 'KR26A', 'KL0C', 'KL01A', 'MH14C', 'KLN2A', 'HR2', 'TN1A', 'HR06BS', 'HR26CK', 'TL9A', 'TN09BH', 'MH24CT', 'MH14C', 'GR01A', 'MH14CA', 'MH2EB', 'KL01BAB', 'MH02CS', 'KL1A', 'TN19A', 'HR06CT', 'KL01BL', 'MH14TC', 'KL1BA', 'HR26A', 'MH01TC', 'HR2F', 'TN9XT', 'MH0AR', 'TL14C', 'MH04CT']\n"
     ]
    }
   ],
   "source": [
    "args['imgdir'] = 'test_images'\n",
    "args['data'] = CarPlatesDataset(args)\n",
    "resume_file = os.path.join(args['save_dir'], args['name'], 'best.ckpt')\n",
    "if os.path.isfile(resume_file):\n",
    "    print('Loading model %s'%resume_file)\n",
    "    checkpoint = torch.load(resume_file)\n",
    "    #model.load_state_dict(checkpoint['state_dict'])\n",
    "    model.load_state_dict(checkpoint['state_dict'], strict=False)\n",
    "    args['model'] = model\n",
    "    #ca, wa = get_accuracy(args)\n",
    "    ca, wa, recall, precision, labels, predictions = get_accuracy(args)\n",
    "    print(\"Character Accuracy: %.2f\\nWord Accuracy: %.2f\"%(ca, wa))\n",
    "    print(\" \")\n",
    "    #print(\"Recall: \", recall)\n",
    "    #print(\"Precision: \", precision)\n",
    "    print(\"Labels:\", labels)\n",
    "    print(\" \")\n",
    "    print(\"Predictions:\", predictions)\n",
    "    \n",
    "else:\n",
    "    print(\"=> no checkpoint found at '{}'\".format(os.path.join(args['save_dir'], args['name'])))\n",
    "    print('Exiting')"
   ]
  },
  {
   "cell_type": "code",
   "execution_count": null,
   "metadata": {},
   "outputs": [],
   "source": []
  }
 ],
 "metadata": {
  "kernelspec": {
   "display_name": "Python 3 (ipykernel)",
   "language": "python",
   "name": "python3"
  },
  "language_info": {
   "codemirror_mode": {
    "name": "ipython",
    "version": 3
   },
   "file_extension": ".py",
   "mimetype": "text/x-python",
   "name": "python",
   "nbconvert_exporter": "python",
   "pygments_lexer": "ipython3",
   "version": "3.11.6"
  }
 },
 "nbformat": 4,
 "nbformat_minor": 4
}
