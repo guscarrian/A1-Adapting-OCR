{
 "cells": [
  {
   "cell_type": "markdown",
   "metadata": {},
   "source": [
    "# "
   ]
  },
  {
   "cell_type": "markdown",
   "metadata": {},
   "source": [
    "# Building an OCR from scratch\n",
    "\n",
    "So in this tutorial, I will give you a basic code walkthrough for building a simple OCR. OCR as might know stands for optical character recognition or in layman terms it means text recognition. Text recognition is one of the classic problems in computer vision and is still relevant today. One of the most important applications of text recognition is the digitization of old manuscripts. Physical copies of books and manuscripts are prone to degradations. With time, the printed characters start to fade. On simple way to preserve such documents is to make a digital copy of it and store it in the cloud or local hard drive which would ensure their continuance. Similarly, text recognition can also be used for licence plate recognition and can also be used in forensics in terms of handwriting recognition. \n",
    "\n",
    "Okay, now that I have given you enough motivation as to why OCR is important, let me show you how you can build one. \n",
    "So first things first, I'll start with listing down some of the essential packages that you would need to build your first OCR. We will be working with PyTorch as it is one of the most efficient deep learning libraries present. The other packages are as follows:\n",
    "\n",
    "* Pytorch 1.5\n",
    "* Matplotlib\n",
    "* Tqdm\n",
    "* textdistance\n",
    "* lmdb\n",
    "\n",
    "You can install them either via a pip or conda. I will also be providing a requirements.txt file which you can find in my Github repo. Do a simple `pip install -r requirements` and you are set to go.\n",
    "\n",
    "## Setting up the Data\n",
    "\n",
    "We will start our project by importing the libraries. But before that we need data. Now, you are free to use any text image data you might like and for that, you might need to build your own data loader. However, in the interest of keeping things simple, we will be using a neat little package called `trdg`, which is a synthetic image generator for OCR. You can find all the relevant information regarding this package on its [github repository](https://github.com/Belval/TextRecognitionDataGenerator). You can generate printed as well as hand-written text images and infuse them with different kinds of noise and degradation. In this project, I have used trdg to generate printed word images of a single font. You can use any font you like. Just download a `.ttf` file for your font and while generating the word images be sure to specify the `-ft` parameter as your font file. \n",
    "\n",
    "You can generate the word images for training using the following commands:\n",
    "\n",
    "`trdg -i words.txt -c 20000 --output_dir data/train -ft your/fontfile`\n",
    "\n",
    "ATENTION: Run this one instead `trdg -i words.txt -c 20000 --output_dir data/train -fd fonts/`\n",
    "\n",
    "Here, `-c` refers to the number of word images you want to generate. `words.txt` file contains our input word vocabulary while `--output_dir` and `-ft` refer to the output and font file respectively. You can similarly generate the test word images for evaluating the performance of your OCR. However, ensure that words for training and testing are mutually exclusive to each other."
   ]
  },
  {
   "cell_type": "markdown",
   "metadata": {},
   "source": [
    "Okay, now that we have generated the word images, let us display a few images using matlplotlib\n",
    "%# TODO diplay images from folder"
   ]
  },
  {
   "cell_type": "markdown",
   "metadata": {},
   "source": [
    "Now lets start importing the libraries that we would need to build our OCR"
   ]
  },
  {
   "cell_type": "code",
   "execution_count": 1,
   "metadata": {},
   "outputs": [],
   "source": [
    "import os\n",
    "import sys\n",
    "import pdb\n",
    "import six\n",
    "import random\n",
    "import lmdb\n",
    "from PIL import Image\n",
    "import numpy as np\n",
    "import math\n",
    "from collections import OrderedDict\n",
    "from itertools import chain\n",
    "import logging\n",
    "\n",
    "\n",
    "import torch\n",
    "import torch.nn as nn\n",
    "import torch.nn.functional as F\n",
    "from torch.utils.data import Dataset\n",
    "from torch.utils.data import sampler\n",
    "import torchvision.transforms as transforms\n",
    "from torch.optim.lr_scheduler import CosineAnnealingLR, StepLR\n",
    "from torch.nn.utils.clip_grad import clip_grad_norm_\n",
    "from torch.utils.data import random_split\n",
    "sys.path.insert(0, '../')\n",
    "from src.utils.utils import AverageMeter, Eval, OCRLabelConverter\n",
    "from src.utils.utils import EarlyStopping, gmkdir\n",
    "from src.optim.optimizer import STLR\n",
    "from src.utils.utils import gaussian\n",
    "from tqdm import *\n",
    "\n",
    "# added\n",
    "import xmltodict"
   ]
  },
  {
   "cell_type": "code",
   "execution_count": 2,
   "metadata": {},
   "outputs": [
    {
     "name": "stdout",
     "output_type": "stream",
     "text": [
      "\n",
      "     active environment : None\n",
      "       user config file : /home/guscarrian@GU.GU.SE/.condarc\n",
      " populated config files : \n",
      "          conda version : 4.12.0\n",
      "    conda-build version : not installed\n",
      "         python version : 3.9.7.final.0\n",
      "       virtual packages : __cuda=12.2=0\n",
      "                          __linux=6.4.11=0\n",
      "                          __glibc=2.37=0\n",
      "                          __unix=0=0\n",
      "                          __archspec=1=x86_64\n",
      "       base environment : /usr/local/miniconda3  (read only)\n",
      "      conda av data dir : /usr/local/miniconda3/etc/conda\n",
      "  conda av metadata url : None\n",
      "           channel URLs : https://repo.anaconda.com/pkgs/main/linux-64\n",
      "                          https://repo.anaconda.com/pkgs/main/noarch\n",
      "                          https://repo.anaconda.com/pkgs/r/linux-64\n",
      "                          https://repo.anaconda.com/pkgs/r/noarch\n",
      "          package cache : /usr/local/miniconda3/pkgs\n",
      "                          /home/guscarrian@GU.GU.SE/.conda/pkgs\n",
      "       envs directories : /home/guscarrian@GU.GU.SE/.conda/envs\n",
      "                          /usr/local/miniconda3/envs\n",
      "               platform : linux-64\n",
      "             user-agent : conda/4.12.0 requests/2.27.1 CPython/3.9.7 Linux/6.4.11-200.fc38.x86_64 fedora/38 glibc/2.37\n",
      "                UID:GID : 557048:100513\n",
      "             netrc file : None\n",
      "           offline mode : False\n",
      "\n"
     ]
    }
   ],
   "source": [
    "!conda info"
   ]
  },
  {
   "cell_type": "markdown",
   "metadata": {},
   "source": [
    "Next, let us create our data pipe-line. We do this by inheriting the PyTorch Dataset class. The Dataset class has few methods that we need to adhere to like the `__len__` and `__getitem__` method. The `__len__` method returns the number of items in our dataset while `__getitem_` returns the data item for the index passed. You can find more information on PyTorch Dataset class on PyTorch's official documentation page. \n",
    "\n",
    "You will observe that we first convert each image into grayscale and convert it into a tensor. This is followed by normalizing the images so that our input data lies within a range of [-1, 1]. We pass all such transformations into a list and later call the transforms to compose function provided by PyTorch. The transform Compose function applies each transformation in the pre-defined order."
   ]
  },
  {
   "cell_type": "code",
   "execution_count": 23,
   "metadata": {},
   "outputs": [],
   "source": [
    "# Directories where the car plates images and annotations are stored:\n",
    "img_dir = '/home/guscarrian@GU.GU.SE/LT2326-ML/A1/Adapting-OCR/carplates_dataset/LP-characters/images'\n",
    "ann_dir = '/home/guscarrian@GU.GU.SE/LT2326-ML/A1/Adapting-OCR/carplates_dataset/LP-characters/annotations'\n",
    "\n",
    "# Using os.listdir to get the lists of the image and annotation files:\n",
    "img_files = sorted(os.listdir(img_dir))\n",
    "ann_files = sorted(os.listdir(ann_dir))\n",
    "\n",
    "# Creating full paths with os.path.join:\n",
    "images = [os.path.join(img_dir, file) for file in img_files]\n",
    "annotations = [os.path.join(ann_dir, file) for file in ann_files]"
   ]
  },
  {
   "cell_type": "code",
   "execution_count": 9,
   "metadata": {},
   "outputs": [],
   "source": [
    "# Dividing the car plates dataset into training (80%) and test (20%) sets:\n",
    "images_train, images_test, annotations_train, annotations_test = train_test_split(images, annotations, test_size=0.2, random_state=42)\n",
    "\n",
    "# Creating a CarPlatesDataset object for the training and test sets:\n",
    "train_dataset = CarPlatesDataset(images_train, annotations_train, transform=...)\n",
    "test_dataset = CarPlatesDataset(images_test, annotations_test, transform=...)"
   ]
  },
  {
   "cell_type": "code",
   "execution_count": 2,
   "metadata": {},
   "outputs": [
    {
     "ename": "NameError",
     "evalue": "name 'dataset_original' is not defined",
     "output_type": "error",
     "traceback": [
      "\u001b[0;31m---------------------------------------------------------------------------\u001b[0m",
      "\u001b[0;31mNameError\u001b[0m                                 Traceback (most recent call last)",
      "Cell \u001b[0;32mIn[2], line 1\u001b[0m\n\u001b[0;32m----> 1\u001b[0m \u001b[43mdataset_original\u001b[49m\u001b[38;5;241m.\u001b[39m\u001b[38;5;21m__getitem__\u001b[39m(\u001b[38;5;241m1\u001b[39m)\n",
      "\u001b[0;31mNameError\u001b[0m: name 'dataset_original' is not defined"
     ]
    }
   ],
   "source": [
    "dataset_original.__getitem__(1)"
   ]
  },
  {
   "cell_type": "code",
   "execution_count": 6,
   "metadata": {},
   "outputs": [],
   "source": []
  },
  {
   "cell_type": "code",
   "execution_count": 2,
   "metadata": {},
   "outputs": [],
   "source": [
    "# New dataloader - CarPlatesDataset\n",
    "# Both __init__ and __len__ methods remain the same\n",
    "class CarPlatesDataset(Dataset):\n",
    "    \n",
    "    def __init__(self, opt):\n",
    "        super(CarPlatesDataset, self).__init__()\n",
    "        self.path = os.path.join(opt['path'], opt['imgdir'])\n",
    "        self.images = os.listdir(self.path)\n",
    "        self.annotations_dir = os.path.join(opt['path'], opt['annotations_dir']) #added\n",
    "        self.nSamples = len(self.images)\n",
    "        f = lambda x: os.path.join(self.path, x)\n",
    "        self.imagepaths = list(map(f, self.images))\n",
    "       \ttransform_list =  [transforms.Grayscale(1),\n",
    "                           #transforms.Resize(self.image_size), #added\n",
    "                           transforms.Resize((opt['image_size'][0], opt['image_size'][1])), #added\n",
    "                           #transforms.Resize((opt['H'], opt['W'])),\n",
    "                           transforms.ToTensor(), \n",
    "                           transforms.Normalize((0.5,), (0.5,))]\n",
    "        self.transform = transforms.Compose(transform_list)\n",
    "        self.collate_fn = SynthCollator()\n",
    "\n",
    "    def __len__(self):\n",
    "        return self.nSamples\n",
    "\n",
    "    def __getitem__(self, index):\n",
    "        assert index <= len(self), 'index range error'\n",
    "        imagepath = self.imagepaths[index]\n",
    "        imagefile = os.path.basename(imagepath)\n",
    "        imagefile = imagefile.split('.')[0]\n",
    "\n",
    "        img = Image.open(imagepath)\n",
    "        if self.transform is not None:\n",
    "            img = self.transform(img)\n",
    "\n",
    "        # 'annotations' is the path to the XML files. \n",
    "        # We open the file, read it and convert the data into a dictionary.\n",
    "        # Then we go through each 'object' in the xml data, extract the 'name' field, and add it to a list (labels). \n",
    "        # We combine the labels from the list into a single string and, finally, return a dictionary with the image, index, and label.\n",
    "        annotations = os.path.join(self.annotations_dir, imagefile + '.xml')\n",
    "        labels = []\n",
    "        try:\n",
    "            with open(annotations, 'r') as file:\n",
    "                data_dict = xmltodict.parse(file.read())\n",
    "            for item in data_dict['annotation']['object']:\n",
    "                name = item['name']\n",
    "                labels.append(name)\n",
    "        except (xmltodict.expat.ExpatError, FileNotFoundError):\n",
    "            print(f\"Error while parsing {annotations}.\")\n",
    "\n",
    "        label = ''.join(labels)\n",
    "        \n",
    "        item = {'img': img, 'idx': index, 'label': label}\n",
    "        return item"
   ]
  },
  {
   "cell_type": "code",
   "execution_count": 6,
   "metadata": {},
   "outputs": [],
   "source": [
    "dataset = CarPlatesDataset(args)"
   ]
  },
  {
   "cell_type": "code",
   "execution_count": 7,
   "metadata": {
    "scrolled": true
   },
   "outputs": [
    {
     "data": {
      "text/plain": [
       "{'img': tensor([[[-0.0431, -0.0824, -0.1686,  ..., -0.8902, -0.8980, -0.8980],\n",
       "          [-0.0431, -0.0353, -0.0275,  ..., -0.7961, -0.7569, -0.7098],\n",
       "          [-0.1294, -0.1059, -0.1059,  ..., -0.1765, -0.1529, -0.1294],\n",
       "          ...,\n",
       "          [-0.9686, -0.9765, -0.9686,  ..., -0.9686, -0.9686, -0.9686],\n",
       "          [-0.9686, -0.9686, -0.9686,  ..., -0.9608, -0.9608, -0.9686],\n",
       "          [-0.9608, -0.9686, -0.9686,  ..., -0.9608, -0.9608, -0.9765]]]),\n",
       " 'idx': 1,\n",
       " 'label': 'MH2OBN3525'}"
      ]
     },
     "execution_count": 7,
     "metadata": {},
     "output_type": "execute_result"
    }
   ],
   "source": [
    "dataset.__getitem__(1)"
   ]
  },
  {
   "cell_type": "code",
   "execution_count": 9,
   "metadata": {},
   "outputs": [],
   "source": [
    "alphabet = \"\"\"Only thewigsofrcvdampbkuq.$A-210xT5'MDL,RYHJ\"ISPWENj&BC93VGFKz();#:!7U64Q8?+*ZX/%\"\"\"\n",
    "args = {\n",
    "    'name':'exp1',\n",
    "    'path':'/home/guscarrian@GU.GU.SE/LT2326-ML/A1/Adapting-OCR/carplates_dataset/LP-characters',\n",
    "    'imgdir': 'train_images',\n",
    "    'annotations_dir': 'annotations',\n",
    "    'imgH':32,\n",
    "    'nChannels':1,\n",
    "    'nHidden':256,\n",
    "    'nClasses':len(alphabet),\n",
    "    'lr':0.001,\n",
    "    'epochs':4,\n",
    "    'batch_size':32,\n",
    "    'save_dir':'../checkpoints/',\n",
    "    'log_dir':'../logs',\n",
    "    'resume':False,\n",
    "    'cuda':False,\n",
    "    'schedule':False\n",
    "}"
   ]
  },
  {
   "cell_type": "markdown",
   "metadata": {},
   "source": [
    "Next, since we are going to train our model using the mini-batch gradient descent, it is essential that each image in the batch is of the same shape and size. For this, we have defined the `SynthCollator` class which initially finds the image with maximum width in the batch and then proceeds to pad all images to have the same width. "
   ]
  },
  {
   "cell_type": "code",
   "execution_count": 3,
   "metadata": {},
   "outputs": [],
   "source": [
    "class SynthCollator(object):\n",
    "    \n",
    "    def __call__(self, batch):\n",
    "        width = [item['img'].shape[2] for item in batch]\n",
    "        indexes = [item['idx'] for item in batch]\n",
    "        imgs = torch.ones([len(batch), batch[0]['img'].shape[0], batch[0]['img'].shape[1], \n",
    "                           max(width)], dtype=torch.float32)\n",
    "        for idx, item in enumerate(batch):\n",
    "            try:\n",
    "                imgs[idx, :, :, 0:item['img'].shape[2]] = item['img']\n",
    "            except:\n",
    "                print(imgs.shape)\n",
    "        item = {'img': imgs, 'idx':indexes}\n",
    "        if 'label' in batch[0].keys():\n",
    "            labels = [item['label'] for item in batch]\n",
    "            item['label'] = labels\n",
    "        return item"
   ]
  },
  {
   "cell_type": "markdown",
   "metadata": {},
   "source": [
    "## Defining our Model\n",
    "\n",
    "Now we proceed to define our model. We use the CNN-LSTM based architecture which was proposed by Shi et.al. in their excellent paper [An End-to-End Trainable Neural Network for Image-based Sequence Recognition and Its Application to Scene Text Recognition](https://arxiv.org/pdf/1507.05717.pdf). The authors used it for scene-text recognition and showed via extensive experimentation that they were able to achieve significant gains in accuracy compared to all other existing methods at that time.\n",
    "\n",
    "\n",
    "<img src=\"images/crnn.png\" alt=\"drawing\" width=\"400\"/>\n",
    "\n",
    "The figure above shows the architecture used in the paper. The authors used a 7 layered Convolution network with BatchNorm and ReLU. This was followed by a stacked RNN network consisting of two Bidirectional LSTM layers. The convolution layers acted as a feature extractor while the LSTMs layers act as sequence classifiers. The LSTM layers output the probability associated with each output class at each time step\n",
    "Further details can be found in their paper and I strongly suggest you go through it for a better understanding.\n",
    "\n",
    "The below code snippet is taken from this [github repository](https://github.com/meijieru/crnn.pytorch) which provides a Pytorch implementation of their code.\n"
   ]
  },
  {
   "cell_type": "code",
   "execution_count": 4,
   "metadata": {},
   "outputs": [],
   "source": [
    "class BidirectionalLSTM(nn.Module):\n",
    "\n",
    "    def __init__(self, nIn, nHidden, nOut):\n",
    "        super(BidirectionalLSTM, self).__init__()\n",
    "        self.rnn = nn.LSTM(nIn, nHidden, bidirectional=True)\n",
    "        self.embedding = nn.Linear(nHidden * 2, nOut)\n",
    "    def forward(self, input):\n",
    "        self.rnn.flatten_parameters()\n",
    "        recurrent, _ = self.rnn(input)\n",
    "        T, b, h = recurrent.size()\n",
    "        t_rec = recurrent.view(T * b, h)\n",
    "        output = self.embedding(t_rec)  # [T * b, nOut]\n",
    "        output = output.view(T, b, -1)\n",
    "        return output\n",
    "\n",
    "class CRNN(nn.Module):\n",
    "\n",
    "    def __init__(self, opt, leakyRelu=False):\n",
    "        super(CRNN, self).__init__()\n",
    "\n",
    "        assert opt['imgH'] % 16 == 0, 'imgH has to be a multiple of 16'\n",
    "\n",
    "        ks = [3, 3, 3, 3, 3, 3, 2]\n",
    "        ps = [1, 1, 1, 1, 1, 1, 0]\n",
    "        ss = [1, 1, 1, 1, 1, 1, 1]\n",
    "        nm = [64, 128, 256, 256, 512, 512, 512]\n",
    "\n",
    "        cnn = nn.Sequential()\n",
    "\n",
    "        def convRelu(i, batchNormalization=False):\n",
    "            nIn = opt['nChannels'] if i == 0 else nm[i - 1]\n",
    "            nOut = nm[i]\n",
    "            cnn.add_module('conv{0}'.format(i),\n",
    "                           nn.Conv2d(nIn, nOut, ks[i], ss[i], ps[i]))\n",
    "            if batchNormalization:\n",
    "                cnn.add_module('batchnorm{0}'.format(i), nn.BatchNorm2d(nOut))\n",
    "            if leakyRelu:\n",
    "                cnn.add_module('relu{0}'.format(i),\n",
    "                               nn.LeakyReLU(0.2, inplace=True))\n",
    "            else:\n",
    "                cnn.add_module('relu{0}'.format(i), nn.ReLU(True))\n",
    "\n",
    "        convRelu(0)\n",
    "        cnn.add_module('pooling{0}'.format(0), nn.MaxPool2d(2, 2))  # 64x16x64\n",
    "        convRelu(1)\n",
    "        cnn.add_module('pooling{0}'.format(1), nn.MaxPool2d(2, 2))  # 128x8x32\n",
    "        convRelu(2, True)\n",
    "        convRelu(3)\n",
    "        cnn.add_module('pooling{0}'.format(2),\n",
    "                       nn.MaxPool2d((2, 2), (2, 1), (0, 1)))  # 256x4x16\n",
    "        convRelu(4, True)\n",
    "        convRelu(5)\n",
    "        cnn.add_module('pooling{0}'.format(3),\n",
    "                       nn.MaxPool2d((2, 2), (2, 1), (0, 1)))  # 512x2x16\n",
    "        convRelu(6, True)  # 512x1x16\n",
    "        self.cnn = cnn\n",
    "        self.rnn = nn.Sequential()\n",
    "        self.rnn = nn.Sequential(\n",
    "            BidirectionalLSTM(opt['nHidden']*2, opt['nHidden'], opt['nHidden']),\n",
    "            BidirectionalLSTM(opt['nHidden'], opt['nHidden'], opt['nClasses']))\n",
    "\n",
    "\n",
    "    def forward(self, input):\n",
    "        # conv features\n",
    "        conv = self.cnn(input)\n",
    "        b, c, h, w = conv.size()\n",
    "        assert h == 1, \"the height of conv must be 1\"\n",
    "        conv = conv.squeeze(2)\n",
    "        conv = conv.permute(2, 0, 1)  # [w, b, c]\n",
    "        # rnn features\n",
    "        output = self.rnn(conv)\n",
    "        output = output.transpose(1,0) #Tbh to bth\n",
    "        return output"
   ]
  },
  {
   "cell_type": "markdown",
   "metadata": {},
   "source": [
    "## The CTC Loss \n",
    "\n",
    "Okay, now that we have our data and model pipeline ready, it is time to define our loss function which in our case is the CTC loss function. We will be using PyTorch's excellent CTC implementation. CTC stands for Connectionist Temporal Classification and was proposed by Alex Graves in his paper [Connectionist Temporal Classification: Labelling Unsegmented Sequence Data with Recurrent Neural Networks](https://www.cs.toronto.edu/~graves/icml_2006.pdf). \n",
    "\n",
    "Honestly, the above work has been a gamechanger for many sequences based tasks like speech and text recognition. For all the sequence-based tasks it is important for the input and output labels to be properly aligned. Proper alignment leads to efficient loss computation between the network predictions and expected output. In segmentation based approaches i.e. when the input word or line has been segmented into its constituent characters, there exists a direct one-to-one mapping between the segmented images of characters and the output labels.  However, as you might imagine obtaining such segmentations for each character can be a very tedious and time-consuming task. Thus, CTC based transcription layers have become the de-facto choice for OCRs and speech recognition module since it allows loss computation without explicit mapping between the input and output. The CTC layer takes the output from the LSTMs and computes a score with all possible alignments of the target label. The OCR is then trained to predict a sequence which maximizes the sum of all such scores.\n",
    "\n",
    "If you want more thorough details regarding the CTC layer I would suggest you go through the following blogs and lecture video\n",
    "\n",
    "* [CMU Deep Learning Course Lecture 14](https://www.youtube.com/watch?v=c86gfVGcvh4&t=670s)\n",
    "* [Sequence Labelling with CTC](https://distill.pub/2017/ctc)"
   ]
  },
  {
   "cell_type": "code",
   "execution_count": 5,
   "metadata": {},
   "outputs": [],
   "source": [
    "class CustomCTCLoss(torch.nn.Module):\n",
    "    # T x B x H => Softmax on dimension 2\n",
    "    def __init__(self, dim=2):\n",
    "        super().__init__()\n",
    "        self.dim = dim\n",
    "        self.ctc_loss = torch.nn.CTCLoss(reduction='mean', zero_infinity=True)\n",
    "\n",
    "    def forward(self, logits, labels,\n",
    "            prediction_sizes, target_sizes):\n",
    "        EPS = 1e-7\n",
    "        loss = self.ctc_loss(logits, labels, prediction_sizes, target_sizes)\n",
    "        loss = self.sanitize(loss)\n",
    "        return self.debug(loss, logits, labels, prediction_sizes, target_sizes)\n",
    "    \n",
    "    def sanitize(self, loss):\n",
    "        EPS = 1e-7\n",
    "        if abs(loss.item() - float('inf')) < EPS:\n",
    "            return torch.zeros_like(loss)\n",
    "        if math.isnan(loss.item()):\n",
    "            return torch.zeros_like(loss)\n",
    "        return loss\n",
    "\n",
    "    def debug(self, loss, logits, labels,\n",
    "            prediction_sizes, target_sizes):\n",
    "        if math.isnan(loss.item()):\n",
    "            print(\"Loss:\", loss)\n",
    "            print(\"logits:\", logits)\n",
    "            print(\"labels:\", labels)\n",
    "            print(\"prediction_sizes:\", prediction_sizes)\n",
    "            print(\"target_sizes:\", target_sizes)\n",
    "            raise Exception(\"NaN loss obtained. But why?\")\n",
    "        return loss"
   ]
  },
  {
   "cell_type": "markdown",
   "metadata": {},
   "source": [
    "## The Training Loop\n",
    "\n",
    "The above code snippet builds a wrapper around pytorch's CTC loss function. Basically, what it does is that it computes the loss and passes it through an additional method called `debug`, which checks for instances when the loss becomes Nan. \n",
    "\n",
    "Shout out to [Jerin Philip](https://jerinphilip.github.io/) for this code.\n",
    "\n",
    "Now, let us come to the training loop. The below code might look a bit cumbersome but it provides a nice abstraction which is quite intuitive and easy to use. The below code is based on [pytorch lighning](https://github.com/PyTorchLightning/pytorch-lightning)'s bolier plate template with few modifications of my own. :P\n",
    "\n",
    "I will give a basic overview of what it does. Feel free to inspect each method using python debugger. So, the `OCRTrainer` class takes in the training and validation data. It also takes in the loss function, optimizer and the number of epoch it needs to train the model. The train and validation loader method returns the data loader for the train and validation data. the `run_batch` method does one forward pass for a batch of image-label pairs. It returns the loss as well as the character and word accuracy. Next, we have the step functions which does the backpropagation, calculates the gradient and updates the parameters for each batch of data. Besides we also have the `training_end` and `validation_end` methods that calculate the mean loss and accuracy for each batch after the completion of one single epoch\n",
    "\n",
    "All, the methods defined are quite simple and I hope you will get the hang of it in no time."
   ]
  },
  {
   "cell_type": "code",
   "execution_count": 6,
   "metadata": {},
   "outputs": [],
   "source": [
    "class OCRTrainer(object):\n",
    "    def __init__(self, opt):\n",
    "        super(OCRTrainer, self).__init__()\n",
    "        self.data_train = opt['data_train']\n",
    "        self.data_val = opt['data_val']\n",
    "        self.model = opt['model']\n",
    "        self.criterion = opt['criterion']\n",
    "        self.optimizer = opt['optimizer']\n",
    "        self.schedule = opt['schedule']\n",
    "        self.converter = OCRLabelConverter(opt['alphabet'])\n",
    "        self.evaluator = Eval()\n",
    "        print('Scheduling is {}'.format(self.schedule))\n",
    "        self.scheduler = CosineAnnealingLR(self.optimizer, T_max=opt['epochs'])\n",
    "        self.batch_size = opt['batch_size']\n",
    "        self.count = opt['epoch']\n",
    "        self.epochs = opt['epochs']\n",
    "        self.cuda = opt['cuda']\n",
    "        self.collate_fn = opt['collate_fn']\n",
    "        self.init_meters()\n",
    "\n",
    "    def init_meters(self):\n",
    "        self.avgTrainLoss = AverageMeter(\"Train loss\")\n",
    "        self.avgTrainCharAccuracy = AverageMeter(\"Train Character Accuracy\")\n",
    "        self.avgTrainWordAccuracy = AverageMeter(\"Train Word Accuracy\")\n",
    "        self.avgValLoss = AverageMeter(\"Validation loss\")\n",
    "        self.avgValCharAccuracy = AverageMeter(\"Validation Character Accuracy\")\n",
    "        self.avgValWordAccuracy = AverageMeter(\"Validation Word Accuracy\")\n",
    "\n",
    "    def forward(self, x):\n",
    "        logits = self.model(x)\n",
    "        return logits.transpose(1, 0)\n",
    "\n",
    "    def loss_fn(self, logits, targets, pred_sizes, target_sizes):\n",
    "        loss = self.criterion(logits, targets, pred_sizes, target_sizes)\n",
    "        return loss\n",
    "\n",
    "    def step(self):\n",
    "        self.max_grad_norm = 0.05\n",
    "        clip_grad_norm_(self.model.parameters(), self.max_grad_norm)\n",
    "        self.optimizer.step()\n",
    "    \n",
    "    def schedule_lr(self):\n",
    "        if self.schedule:\n",
    "            self.scheduler.step()\n",
    "\n",
    "    def _run_batch(self, batch, report_accuracy=False, validation=False):\n",
    "        input_, targets = batch['img'], batch['label']\n",
    "        targets, lengths = self.converter.encode(targets)\n",
    "        logits = self.forward(input_)\n",
    "        logits = logits.contiguous().cpu()\n",
    "        logits = torch.nn.functional.log_softmax(logits, 2)\n",
    "        T, B, H = logits.size()\n",
    "        pred_sizes = torch.LongTensor([T for i in range(B)])\n",
    "        targets= targets.view(-1).contiguous()\n",
    "        loss = self.loss_fn(logits, targets, pred_sizes, lengths)\n",
    "        if report_accuracy:\n",
    "            probs, preds = logits.max(2)\n",
    "            preds = preds.transpose(1, 0).contiguous().view(-1)\n",
    "            sim_preds = self.converter.decode(preds.data, pred_sizes.data, raw=False)\n",
    "            ca = np.mean((list(map(self.evaluator.char_accuracy, list(zip(sim_preds, batch['label']))))))\n",
    "            wa = np.mean((list(map(self.evaluator.word_accuracy, list(zip(sim_preds, batch['label']))))))\n",
    "        return loss, ca, wa\n",
    "\n",
    "    def run_epoch(self, validation=False):\n",
    "        if not validation:\n",
    "            loader = self.train_dataloader()\n",
    "            pbar = tqdm(loader, desc='Epoch: [%d]/[%d] Training'%(self.count, \n",
    "                self.epochs), leave=True)\n",
    "            self.model.train()\n",
    "        else:\n",
    "            loader = self.val_dataloader()\n",
    "            pbar = tqdm(loader, desc='Validating', leave=True)\n",
    "            self.model.eval()\n",
    "        outputs = []\n",
    "        for batch_nb, batch in enumerate(pbar):\n",
    "            if not validation:\n",
    "                output = self.training_step(batch)\n",
    "            else:\n",
    "                output = self.validation_step(batch)\n",
    "            pbar.set_postfix(output)\n",
    "            outputs.append(output)\n",
    "        self.schedule_lr()\n",
    "        if not validation:\n",
    "            result = self.train_end(outputs)\n",
    "        else:\n",
    "            result = self.validation_end(outputs)\n",
    "        return result\n",
    "\n",
    "    def training_step(self, batch):\n",
    "        loss, ca, wa = self._run_batch(batch, report_accuracy=True)\n",
    "        self.optimizer.zero_grad()\n",
    "        loss.backward()\n",
    "        self.step()\n",
    "        output = OrderedDict({\n",
    "            'loss': abs(loss.item()),\n",
    "            'train_ca': ca.item(),\n",
    "            'train_wa': wa.item()\n",
    "            })\n",
    "        return output\n",
    "\n",
    "    def validation_step(self, batch):\n",
    "        loss, ca, wa = self._run_batch(batch, report_accuracy=True, validation=True)\n",
    "        output = OrderedDict({\n",
    "            'val_loss': abs(loss.item()),\n",
    "            'val_ca': ca.item(),\n",
    "            'val_wa': wa.item()\n",
    "            })\n",
    "        return output\n",
    "\n",
    "    def train_dataloader(self):\n",
    "        # logging.info('training data loader called')\n",
    "        loader = torch.utils.data.DataLoader(self.data_train,\n",
    "                batch_size=self.batch_size,\n",
    "                collate_fn=self.collate_fn,\n",
    "                shuffle=True)\n",
    "        return loader\n",
    "        \n",
    "    def val_dataloader(self):\n",
    "        # logging.info('val data loader called')\n",
    "        loader = torch.utils.data.DataLoader(self.data_val,\n",
    "                batch_size=self.batch_size,\n",
    "                collate_fn=self.collate_fn)\n",
    "        return loader\n",
    "\n",
    "    def train_end(self, outputs):\n",
    "        for output in outputs:\n",
    "            self.avgTrainLoss.add(output['loss'])\n",
    "            self.avgTrainCharAccuracy.add(output['train_ca'])\n",
    "            self.avgTrainWordAccuracy.add(output['train_wa'])\n",
    "\n",
    "        train_loss_mean = abs(self.avgTrainLoss.compute())\n",
    "        train_ca_mean = self.avgTrainCharAccuracy.compute()\n",
    "        train_wa_mean = self.avgTrainWordAccuracy.compute()\n",
    "\n",
    "        result = {'train_loss': train_loss_mean, 'train_ca': train_ca_mean,\n",
    "        'train_wa': train_wa_mean}\n",
    "        # result = {'progress_bar': tqdm_dict, 'log': tqdm_dict, 'val_loss': train_loss_mean}\n",
    "        return result\n",
    "\n",
    "    def validation_end(self, outputs):\n",
    "        for output in outputs:\n",
    "            self.avgValLoss.add(output['val_loss'])\n",
    "            self.avgValCharAccuracy.add(output['val_ca'])\n",
    "            self.avgValWordAccuracy.add(output['val_wa'])\n",
    "\n",
    "        val_loss_mean = abs(self.avgValLoss.compute())\n",
    "        val_ca_mean = self.avgValCharAccuracy.compute()\n",
    "        val_wa_mean = self.avgValWordAccuracy.compute()\n",
    "\n",
    "        result = {'val_loss': val_loss_mean, 'val_ca': val_ca_mean,\n",
    "        'val_wa': val_wa_mean}\n",
    "        return result"
   ]
  },
  {
   "cell_type": "markdown",
   "metadata": {},
   "source": [
    "## Putting Everything Together\n",
    "\n",
    "And, finally, we have the `Learner` class. It implements a couple of more methods like the `save` and `load` model. It also tracks the losses and saves them in a `csv` file. This comes in handy if we want to analyze the behaviour of our training and validation loops. It initializes our `OCRTrainer` module with the necessary hyperparameters and later calls the `fit` method which runs the training loop.\n",
    "\n",
    "Besides these methods, we have a bunch of helper methods like the `OCRLabel_converter`, `Eval` and `Averagemeter`. I am not including them in this notebook, instead, I have written them in utils.py file and I am importing them from there. In case you want to take a peek, feel free to tinker with the utils.py file. All the necessary documentation is provided in the file itself."
   ]
  },
  {
   "cell_type": "code",
   "execution_count": 7,
   "metadata": {},
   "outputs": [],
   "source": [
    "class Learner(object):\n",
    "    def __init__(self, model, optimizer, savepath=None, resume=False):\n",
    "        self.model = model\n",
    "        self.optimizer = optimizer\n",
    "        self.savepath = os.path.join(savepath, 'best.ckpt')\n",
    "        self.cuda = torch.cuda.is_available() \n",
    "        self.cuda_count = torch.cuda.device_count()\n",
    "        if self.cuda:\n",
    "            self.model = self.model.cuda()\n",
    "        self.epoch = 0\n",
    "        if self.cuda_count > 1:\n",
    "            print(\"Let's use\", torch.cuda.device_count(), \"GPUs!\")\n",
    "            self.model = nn.DataParallel(self.model)\n",
    "        self.best_score = None\n",
    "        if resume and os.path.exists(self.savepath):\n",
    "            self.checkpoint = torch.load(self.savepath)\n",
    "            self.epoch = self.checkpoint['epoch']\n",
    "            self.best_score=self.checkpoint['best']\n",
    "            self.load()\n",
    "        else:\n",
    "            print('checkpoint does not exist')\n",
    "\n",
    "    def fit(self, opt):\n",
    "        opt['cuda'] = self.cuda\n",
    "        opt['model'] = self.model\n",
    "        opt['optimizer'] = self.optimizer\n",
    "        logging.basicConfig(filename=\"%s/%s.csv\" %(opt['log_dir'], opt['name']), level=logging.INFO)\n",
    "        self.saver = EarlyStopping(self.savepath, patience=15, verbose=True, best_score=self.best_score)\n",
    "        opt['epoch'] = self.epoch\n",
    "        trainer = OCRTrainer(opt)\n",
    "        \n",
    "        for epoch in range(opt['epoch'], opt['epochs']):\n",
    "            train_result = trainer.run_epoch()\n",
    "            val_result = trainer.run_epoch(validation=True)\n",
    "            trainer.count = epoch\n",
    "            info = '%d, %.6f, %.6f, %.6f, %.6f, %.6f, %.6f'%(epoch, train_result['train_loss'], \n",
    "                val_result['val_loss'], train_result['train_ca'],  val_result['val_ca'],\n",
    "                train_result['train_wa'], val_result['val_wa'])\n",
    "            logging.info(info)\n",
    "            self.val_loss = val_result['val_loss']\n",
    "            print(self.val_loss)\n",
    "            if self.savepath:\n",
    "                self.save(epoch)\n",
    "            if self.saver.early_stop:\n",
    "                print(\"Early stopping\")\n",
    "                break\n",
    "\n",
    "    def load(self):\n",
    "        print('Loading checkpoint at {} trained for {} epochs'.format(self.savepath, self.checkpoint['epoch']))\n",
    "        #self.model.load_state_dict(self.checkpoint['state_dict'])\n",
    "        self.model.load_state_dict(self.checkpoint['state_dict'], strict=False)\n",
    "        if 'opt_state_dict' in self.checkpoint.keys():\n",
    "            print('Loading optimizer')\n",
    "            #self.optimizer.load_state_dict(self.checkpoint['opt_state_dict'])\n",
    "            self.optimizer.load_state_dict(self.checkpoint['opt_state_dict'], strict=False)\n",
    "\n",
    "    def save(self, epoch):\n",
    "        self.saver(self.val_loss, epoch, self.model, self.optimizer)"
   ]
  },
  {
   "cell_type": "markdown",
   "metadata": {},
   "source": [
    "### Defining the hyperparameters\n",
    "\n",
    "Okay, now that we have set the premise, its time to unfold the drama. We begin by defining our vocabulary i.e. the alphabets which serve as the output classes for our model.\n",
    "We define a suitable name for this experiment which will also serve as the folder name where the checkpoints and log files will be stored. We also define the hyper-parameters like the batch size, learning rate, image height, number of channels etc.\n",
    "\n",
    "Then we initialize our Dataset class and split the data into train and validation. We then proceed to initialize our Model and CTCLoss and finally call the `learner.fit` function.\n",
    "\n",
    "Once the training is over we can find the saved model in the `checkpoints/name` folder. We may load the model and evaluate its performance on the test data or finetune it on some other data."
   ]
  },
  {
   "cell_type": "code",
   "execution_count": 13,
   "metadata": {},
   "outputs": [
    {
     "name": "stdout",
     "output_type": "stream",
     "text": [
      "env: CUDA_VISIBLE_DEVICE=3\n"
     ]
    }
   ],
   "source": [
    "%env CUDA_VISIBLE_DEVICE = 3"
   ]
  },
  {
   "cell_type": "code",
   "execution_count": 14,
   "metadata": {},
   "outputs": [
    {
     "name": "stdout",
     "output_type": "stream",
     "text": [
      "0\n"
     ]
    }
   ],
   "source": [
    "print(torch.cuda.current_device())"
   ]
  },
  {
   "cell_type": "code",
   "execution_count": 16,
   "metadata": {},
   "outputs": [
    {
     "data": {
      "text/plain": [
       "0"
      ]
     },
     "execution_count": 16,
     "metadata": {},
     "output_type": "execute_result"
    }
   ],
   "source": [
    "torch.cuda.current_device()"
   ]
  },
  {
   "cell_type": "code",
   "execution_count": 17,
   "metadata": {},
   "outputs": [
    {
     "data": {
      "text/plain": [
       "'NVIDIA GeForce GTX 1080 Ti'"
      ]
     },
     "execution_count": 17,
     "metadata": {},
     "output_type": "execute_result"
    }
   ],
   "source": [
    "torch.cuda.get_device_name(0)"
   ]
  },
  {
   "cell_type": "code",
   "execution_count": null,
   "metadata": {},
   "outputs": [],
   "source": [
    "# original alphabet and args:\n",
    "alphabet = \"\"\"Only thewigsofrcvdampbkuq.$A-210xT5'MDL,RYHJ\"ISPWENj&BC93VGFKz();#:!7U64Q8?+*ZX/%\"\"\"\n",
    "args = {\n",
    "    'name':'exp1',\n",
    "    'path':'../data',\n",
    "    'imgdir': 'train',\n",
    "    'imgH':32,\n",
    "    'nChannels':1,\n",
    "    'nHidden':256,\n",
    "    'nClasses':len(alphabet),\n",
    "    'lr':0.001,\n",
    "    'epochs':4,\n",
    "    'batch_size':32,\n",
    "    'save_dir':'../checkpoints/',\n",
    "    'log_dir':'../logs',\n",
    "    'resume':False,\n",
    "    'cuda':False,\n",
    "    'schedule':False\n",
    "    \n",
    "}"
   ]
  },
  {
   "cell_type": "code",
   "execution_count": 9,
   "metadata": {},
   "outputs": [
    {
     "name": "stdout",
     "output_type": "stream",
     "text": [
      "Traininig Data Size:133\n",
      "Val Data Size:34\n",
      "Let's use 4 GPUs!\n",
      "checkpoint does not exist\n",
      "None\n",
      "Scheduling is False\n"
     ]
    },
    {
     "name": "stderr",
     "output_type": "stream",
     "text": [
      "Epoch: [0]/[150] Training: 100%|████| 2/2 [00:10<00:00,  5.03s/it, loss=14.8, train_ca=0, train_wa=0]\n",
      "Validating: 100%|███████████████████| 1/1 [00:00<00:00,  5.05it/s, val_loss=16.2, val_ca=0, val_wa=0]\n"
     ]
    },
    {
     "name": "stdout",
     "output_type": "stream",
     "text": [
      "16.17490577697754\n",
      "Validation loss decreased (inf --> 16.174906).  Saving model ...\n"
     ]
    },
    {
     "name": "stderr",
     "output_type": "stream",
     "text": [
      "Epoch: [0]/[150] Training: 100%|████| 2/2 [00:00<00:00,  3.37it/s, loss=6.16, train_ca=0, train_wa=0]\n",
      "Validating: 100%|███████████████████| 1/1 [00:00<00:00,  5.23it/s, val_loss=4.65, val_ca=0, val_wa=0]\n"
     ]
    },
    {
     "name": "stdout",
     "output_type": "stream",
     "text": [
      "10.414025783538818\n",
      "Validation loss decreased (16.174906 --> 10.414026).  Saving model ...\n"
     ]
    },
    {
     "name": "stderr",
     "output_type": "stream",
     "text": [
      "Epoch: [1]/[150] Training: 100%|█████| 2/2 [00:00<00:00,  2.78it/s, loss=4.1, train_ca=0, train_wa=0]\n",
      "Validating: 100%|███████████████████| 1/1 [00:00<00:00,  4.03it/s, val_loss=3.88, val_ca=0, val_wa=0]\n"
     ]
    },
    {
     "name": "stdout",
     "output_type": "stream",
     "text": [
      "8.237610340118408\n",
      "Validation loss decreased (10.414026 --> 8.237610).  Saving model ...\n"
     ]
    },
    {
     "name": "stderr",
     "output_type": "stream",
     "text": [
      "Epoch: [2]/[150] Training: 100%|████| 2/2 [00:00<00:00,  2.95it/s, loss=3.61, train_ca=0, train_wa=0]\n",
      "Validating: 100%|███████████████████| 1/1 [00:00<00:00,  5.38it/s, val_loss=3.62, val_ca=0, val_wa=0]\n"
     ]
    },
    {
     "name": "stdout",
     "output_type": "stream",
     "text": [
      "7.083249151706696\n",
      "Validation loss decreased (8.237610 --> 7.083249).  Saving model ...\n"
     ]
    },
    {
     "name": "stderr",
     "output_type": "stream",
     "text": [
      "Epoch: [3]/[150] Training: 100%|████| 2/2 [00:00<00:00,  3.09it/s, loss=3.83, train_ca=0, train_wa=0]\n",
      "Validating: 100%|███████████████████| 1/1 [00:00<00:00,  5.51it/s, val_loss=3.65, val_ca=0, val_wa=0]\n"
     ]
    },
    {
     "name": "stdout",
     "output_type": "stream",
     "text": [
      "6.395938539505005\n",
      "Validation loss decreased (7.083249 --> 6.395939).  Saving model ...\n"
     ]
    },
    {
     "name": "stderr",
     "output_type": "stream",
     "text": [
      "Epoch: [4]/[150] Training: 100%|█████| 2/2 [00:00<00:00,  3.15it/s, loss=3.7, train_ca=0, train_wa=0]\n",
      "Validating: 100%|███████████████████| 1/1 [00:00<00:00,  5.13it/s, val_loss=3.48, val_ca=0, val_wa=0]\n"
     ]
    },
    {
     "name": "stdout",
     "output_type": "stream",
     "text": [
      "5.909117738405864\n",
      "Validation loss decreased (6.395939 --> 5.909118).  Saving model ...\n"
     ]
    },
    {
     "name": "stderr",
     "output_type": "stream",
     "text": [
      "Epoch: [5]/[150] Training: 100%|████| 2/2 [00:01<00:00,  1.98it/s, loss=3.64, train_ca=0, train_wa=0]\n",
      "Validating: 100%|████████████████████| 1/1 [00:00<00:00,  3.42it/s, val_loss=3.5, val_ca=0, val_wa=0]\n"
     ]
    },
    {
     "name": "stdout",
     "output_type": "stream",
     "text": [
      "5.564677681241717\n",
      "Validation loss decreased (5.909118 --> 5.564678).  Saving model ...\n"
     ]
    },
    {
     "name": "stderr",
     "output_type": "stream",
     "text": [
      "Epoch: [6]/[150] Training: 100%|█████| 2/2 [00:01<00:00,  1.75it/s, loss=3.4, train_ca=0, train_wa=0]\n",
      "Validating: 100%|███████████████████| 1/1 [00:00<00:00,  3.08it/s, val_loss=3.47, val_ca=0, val_wa=0]\n"
     ]
    },
    {
     "name": "stdout",
     "output_type": "stream",
     "text": [
      "5.302781522274017\n",
      "Validation loss decreased (5.564678 --> 5.302782).  Saving model ...\n"
     ]
    },
    {
     "name": "stderr",
     "output_type": "stream",
     "text": [
      "Epoch: [7]/[150] Training: 100%|████| 2/2 [00:01<00:00,  1.89it/s, loss=3.39, train_ca=0, train_wa=0]\n",
      "Validating: 100%|████████████████████| 1/1 [00:00<00:00,  3.09it/s, val_loss=3.5, val_ca=0, val_wa=0]\n"
     ]
    },
    {
     "name": "stdout",
     "output_type": "stream",
     "text": [
      "5.102954493628608\n",
      "Validation loss decreased (5.302782 --> 5.102954).  Saving model ...\n"
     ]
    },
    {
     "name": "stderr",
     "output_type": "stream",
     "text": [
      "Epoch: [8]/[150] Training: 100%|█████| 2/2 [00:01<00:00,  1.80it/s, loss=3.4, train_ca=0, train_wa=0]\n",
      "Validating: 100%|███████████████████| 1/1 [00:00<00:00,  3.05it/s, val_loss=3.47, val_ca=0, val_wa=0]\n"
     ]
    },
    {
     "name": "stdout",
     "output_type": "stream",
     "text": [
      "4.940143203735351\n",
      "Validation loss decreased (5.102954 --> 4.940143).  Saving model ...\n"
     ]
    },
    {
     "name": "stderr",
     "output_type": "stream",
     "text": [
      "Epoch: [9]/[150] Training: 100%|████| 2/2 [00:01<00:00,  1.67it/s, loss=3.46, train_ca=0, train_wa=0]\n",
      "Validating: 100%|███████████████████| 1/1 [00:00<00:00,  2.94it/s, val_loss=3.42, val_ca=0, val_wa=0]\n"
     ]
    },
    {
     "name": "stdout",
     "output_type": "stream",
     "text": [
      "4.8020563992587\n",
      "Validation loss decreased (4.940143 --> 4.802056).  Saving model ...\n"
     ]
    },
    {
     "name": "stderr",
     "output_type": "stream",
     "text": [
      "Epoch: [10]/[150] Training: 100%|███| 2/2 [00:01<00:00,  1.73it/s, loss=3.37, train_ca=0, train_wa=0]\n",
      "Validating: 100%|████████████████████| 1/1 [00:00<00:00,  2.90it/s, val_loss=3.4, val_ca=0, val_wa=0]\n"
     ]
    },
    {
     "name": "stdout",
     "output_type": "stream",
     "text": [
      "4.685556451479594\n",
      "Validation loss decreased (4.802056 --> 4.685556).  Saving model ...\n"
     ]
    },
    {
     "name": "stderr",
     "output_type": "stream",
     "text": [
      "Epoch: [11]/[150] Training: 100%|███| 2/2 [00:01<00:00,  1.81it/s, loss=3.54, train_ca=0, train_wa=0]\n",
      "Validating: 100%|███████████████████| 1/1 [00:00<00:00,  2.94it/s, val_loss=3.39, val_ca=0, val_wa=0]\n"
     ]
    },
    {
     "name": "stdout",
     "output_type": "stream",
     "text": [
      "4.58592623930711\n",
      "Validation loss decreased (4.685556 --> 4.585926).  Saving model ...\n"
     ]
    },
    {
     "name": "stderr",
     "output_type": "stream",
     "text": [
      "Epoch: [12]/[150] Training: 100%|███| 2/2 [00:01<00:00,  1.82it/s, loss=3.45, train_ca=0, train_wa=0]\n",
      "Validating: 100%|███████████████████| 1/1 [00:00<00:00,  2.88it/s, val_loss=3.39, val_ca=0, val_wa=0]\n"
     ]
    },
    {
     "name": "stdout",
     "output_type": "stream",
     "text": [
      "4.500537395477295\n",
      "Validation loss decreased (4.585926 --> 4.500537).  Saving model ...\n"
     ]
    },
    {
     "name": "stderr",
     "output_type": "stream",
     "text": [
      "Epoch: [13]/[150] Training: 100%|███| 2/2 [00:01<00:00,  1.72it/s, loss=3.28, train_ca=0, train_wa=0]\n",
      "Validating: 100%|███████████████████| 1/1 [00:00<00:00,  2.69it/s, val_loss=3.38, val_ca=0, val_wa=0]\n"
     ]
    },
    {
     "name": "stdout",
     "output_type": "stream",
     "text": [
      "4.425675789515178\n",
      "Validation loss decreased (4.500537 --> 4.425676).  Saving model ...\n"
     ]
    },
    {
     "name": "stderr",
     "output_type": "stream",
     "text": [
      "Epoch: [14]/[150] Training: 100%|███| 2/2 [00:01<00:00,  1.62it/s, loss=3.41, train_ca=0, train_wa=0]\n",
      "Validating: 100%|███████████████████| 1/1 [00:00<00:00,  3.12it/s, val_loss=3.37, val_ca=0, val_wa=0]\n"
     ]
    },
    {
     "name": "stdout",
     "output_type": "stream",
     "text": [
      "4.359540328383446\n",
      "Validation loss decreased (4.425676 --> 4.359540).  Saving model ...\n"
     ]
    },
    {
     "name": "stderr",
     "output_type": "stream",
     "text": [
      "Epoch: [15]/[150] Training: 100%|███| 2/2 [00:01<00:00,  1.98it/s, loss=3.18, train_ca=0, train_wa=0]\n",
      "Validating: 100%|███████████████████| 1/1 [00:00<00:00,  2.98it/s, val_loss=3.35, val_ca=0, val_wa=0]\n"
     ]
    },
    {
     "name": "stdout",
     "output_type": "stream",
     "text": [
      "4.299879102145924\n",
      "Validation loss decreased (4.359540 --> 4.299879).  Saving model ...\n"
     ]
    },
    {
     "name": "stderr",
     "output_type": "stream",
     "text": [
      "Epoch: [16]/[150] Training: 100%|███| 2/2 [00:01<00:00,  1.21it/s, loss=3.51, train_ca=0, train_wa=0]\n",
      "Validating: 100%|███████████████████| 1/1 [00:01<00:00,  1.26s/it, val_loss=3.31, val_ca=0, val_wa=0]\n"
     ]
    },
    {
     "name": "stdout",
     "output_type": "stream",
     "text": [
      "4.244879656367832\n",
      "Validation loss decreased (4.299879 --> 4.244880).  Saving model ...\n"
     ]
    },
    {
     "name": "stderr",
     "output_type": "stream",
     "text": [
      "Epoch: [17]/[150] Training: 100%|███| 2/2 [00:00<00:00,  3.08it/s, loss=3.25, train_ca=0, train_wa=0]\n",
      "Validating: 100%|███████████████████| 1/1 [00:00<00:00,  5.12it/s, val_loss=3.29, val_ca=0, val_wa=0]\n"
     ]
    },
    {
     "name": "stdout",
     "output_type": "stream",
     "text": [
      "4.19487086095308\n",
      "Validation loss decreased (4.244880 --> 4.194871).  Saving model ...\n"
     ]
    },
    {
     "name": "stderr",
     "output_type": "stream",
     "text": [
      "Epoch: [18]/[150] Training: 100%|████| 2/2 [00:00<00:00,  3.09it/s, loss=3.3, train_ca=0, train_wa=0]\n",
      "Validating: 100%|███████████████████| 1/1 [00:00<00:00,  5.30it/s, val_loss=3.27, val_ca=0, val_wa=0]\n"
     ]
    },
    {
     "name": "stdout",
     "output_type": "stream",
     "text": [
      "4.148607099056244\n",
      "Validation loss decreased (4.194871 --> 4.148607).  Saving model ...\n"
     ]
    },
    {
     "name": "stderr",
     "output_type": "stream",
     "text": [
      "Epoch: [19]/[150] Training: 100%|███| 2/2 [00:00<00:00,  3.16it/s, loss=3.34, train_ca=0, train_wa=0]\n",
      "Validating: 100%|███████████████████| 1/1 [00:00<00:00,  4.93it/s, val_loss=3.25, val_ca=0, val_wa=0]\n"
     ]
    },
    {
     "name": "stdout",
     "output_type": "stream",
     "text": [
      "4.105870882670085\n",
      "Validation loss decreased (4.148607 --> 4.105871).  Saving model ...\n"
     ]
    },
    {
     "name": "stderr",
     "output_type": "stream",
     "text": [
      "Epoch: [20]/[150] Training: 100%|███| 2/2 [00:00<00:00,  2.91it/s, loss=3.28, train_ca=0, train_wa=0]\n",
      "Validating: 100%|███████████████████| 1/1 [00:00<00:00,  5.72it/s, val_loss=3.23, val_ca=0, val_wa=0]\n"
     ]
    },
    {
     "name": "stdout",
     "output_type": "stream",
     "text": [
      "4.0662678480148315\n",
      "Validation loss decreased (4.105871 --> 4.066268).  Saving model ...\n"
     ]
    },
    {
     "name": "stderr",
     "output_type": "stream",
     "text": [
      "Epoch: [21]/[150] Training: 100%|███| 2/2 [00:00<00:00,  3.46it/s, loss=3.36, train_ca=0, train_wa=0]\n",
      "Validating: 100%|███████████████████| 1/1 [00:00<00:00,  5.96it/s, val_loss=3.21, val_ca=0, val_wa=0]\n"
     ]
    },
    {
     "name": "stdout",
     "output_type": "stream",
     "text": [
      "4.029252663902614\n",
      "Validation loss decreased (4.066268 --> 4.029253).  Saving model ...\n"
     ]
    },
    {
     "name": "stderr",
     "output_type": "stream",
     "text": [
      "Epoch: [22]/[150] Training: 100%|███| 2/2 [00:00<00:00,  3.29it/s, loss=3.21, train_ca=0, train_wa=0]\n",
      "Validating: 100%|███████████████████| 1/1 [00:00<00:00,  5.82it/s, val_loss=3.19, val_ca=0, val_wa=0]\n"
     ]
    },
    {
     "name": "stdout",
     "output_type": "stream",
     "text": [
      "3.9944714109102883\n",
      "Validation loss decreased (4.029253 --> 3.994471).  Saving model ...\n"
     ]
    },
    {
     "name": "stderr",
     "output_type": "stream",
     "text": [
      "Epoch: [23]/[150] Training: 100%|████| 2/2 [00:00<00:00,  2.05it/s, loss=3.3, train_ca=0, train_wa=0]\n",
      "Validating: 100%|███████████████████| 1/1 [00:00<00:00,  5.10it/s, val_loss=3.18, val_ca=0, val_wa=0]\n"
     ]
    },
    {
     "name": "stdout",
     "output_type": "stream",
     "text": [
      "3.9619878578186034\n",
      "Validation loss decreased (3.994471 --> 3.961988).  Saving model ...\n"
     ]
    },
    {
     "name": "stderr",
     "output_type": "stream",
     "text": [
      "Epoch: [24]/[150] Training: 100%|█| 2/2 [00:01<00:00,  1.90it/s, loss=3.04, train_ca=6.22, train_wa=0\n",
      "Validating: 100%|████████████████| 1/1 [00:00<00:00,  3.31it/s, val_loss=3.15, val_ca=3.71, val_wa=0]\n"
     ]
    },
    {
     "name": "stdout",
     "output_type": "stream",
     "text": [
      "3.930678129196167\n",
      "Validation loss decreased (3.961988 --> 3.930678).  Saving model ...\n"
     ]
    },
    {
     "name": "stderr",
     "output_type": "stream",
     "text": [
      "Epoch: [25]/[150] Training: 100%|███| 2/2 [00:01<00:00,  1.96it/s, loss=2.96, train_ca=4, train_wa=0]\n",
      "Validating: 100%|████████████████| 1/1 [00:00<00:00,  2.72it/s, val_loss=3.13, val_ca=4.63, val_wa=0]\n"
     ]
    },
    {
     "name": "stdout",
     "output_type": "stream",
     "text": [
      "3.901015449453283\n",
      "Validation loss decreased (3.930678 --> 3.901015).  Saving model ...\n"
     ]
    },
    {
     "name": "stderr",
     "output_type": "stream",
     "text": [
      "Epoch: [26]/[150] Training: 100%|███| 2/2 [00:01<00:00,  1.70it/s, loss=3.12, train_ca=6, train_wa=0]\n",
      "Validating: 100%|████████████████| 1/1 [00:00<00:00,  3.03it/s, val_loss=3.13, val_ca=4.77, val_wa=0]\n"
     ]
    },
    {
     "name": "stdout",
     "output_type": "stream",
     "text": [
      "3.8735105991363525\n",
      "Validation loss decreased (3.901015 --> 3.873511).  Saving model ...\n"
     ]
    },
    {
     "name": "stderr",
     "output_type": "stream",
     "text": [
      "Epoch: [27]/[150] Training: 100%|█| 2/2 [00:01<00:00,  1.78it/s, loss=2.97, train_ca=4.5, train_wa=0]\n",
      "Validating: 100%|████████████████| 1/1 [00:00<00:00,  2.99it/s, val_loss=3.14, val_ca=4.77, val_wa=0]\n"
     ]
    },
    {
     "name": "stdout",
     "output_type": "stream",
     "text": [
      "3.8483552603886046\n",
      "Validation loss decreased (3.873511 --> 3.848355).  Saving model ...\n"
     ]
    },
    {
     "name": "stderr",
     "output_type": "stream",
     "text": [
      "Epoch: [28]/[150] Training: 100%|█| 2/2 [00:01<00:00,  1.81it/s, loss=3.09, train_ca=8.22, train_wa=0\n",
      "Validating: 100%|████████████████| 1/1 [00:00<00:00,  2.80it/s, val_loss=3.11, val_ca=4.77, val_wa=0]\n"
     ]
    },
    {
     "name": "stdout",
     "output_type": "stream",
     "text": [
      "3.8238170464833576\n",
      "Validation loss decreased (3.848355 --> 3.823817).  Saving model ...\n"
     ]
    },
    {
     "name": "stderr",
     "output_type": "stream",
     "text": [
      "Epoch: [29]/[150] Training: 100%|█| 2/2 [00:01<00:00,  1.74it/s, loss=3.25, train_ca=3.43, train_wa=0\n",
      "Validating: 100%|████████████████| 1/1 [00:00<00:00,  2.85it/s, val_loss=3.09, val_ca=4.77, val_wa=0]\n"
     ]
    },
    {
     "name": "stdout",
     "output_type": "stream",
     "text": [
      "3.8002733492082164\n",
      "Validation loss decreased (3.823817 --> 3.800273).  Saving model ...\n"
     ]
    },
    {
     "name": "stderr",
     "output_type": "stream",
     "text": [
      "Epoch: [30]/[150] Training: 100%|███| 2/2 [00:01<00:00,  1.70it/s, loss=3.53, train_ca=2, train_wa=0]\n",
      "Validating: 100%|████████████████| 1/1 [00:00<00:00,  2.65it/s, val_loss=3.07, val_ca=4.92, val_wa=0]\n"
     ]
    },
    {
     "name": "stdout",
     "output_type": "stream",
     "text": [
      "3.777435265481472\n",
      "Validation loss decreased (3.800273 --> 3.777435).  Saving model ...\n"
     ]
    },
    {
     "name": "stderr",
     "output_type": "stream",
     "text": [
      "Epoch: [31]/[150] Training: 100%|███| 2/2 [00:01<00:00,  1.71it/s, loss=2.93, train_ca=2, train_wa=0]\n",
      "Validating: 100%|████████████████| 1/1 [00:00<00:00,  3.01it/s, val_loss=3.06, val_ca=6.66, val_wa=0]\n"
     ]
    },
    {
     "name": "stdout",
     "output_type": "stream",
     "text": [
      "3.755648136138916\n",
      "Validation loss decreased (3.777435 --> 3.755648).  Saving model ...\n"
     ]
    },
    {
     "name": "stderr",
     "output_type": "stream",
     "text": [
      "Epoch: [32]/[150] Training: 100%|██| 2/2 [00:01<00:00,  1.56it/s, loss=3.22, train_ca=12, train_wa=0]\n",
      "Validating: 100%|████████████████| 1/1 [00:00<00:00,  2.83it/s, val_loss=3.05, val_ca=6.66, val_wa=0]\n"
     ]
    },
    {
     "name": "stdout",
     "output_type": "stream",
     "text": [
      "3.7349768175798306\n",
      "Validation loss decreased (3.755648 --> 3.734977).  Saving model ...\n"
     ]
    },
    {
     "name": "stderr",
     "output_type": "stream",
     "text": [
      "Epoch: [33]/[150] Training: 100%|████| 2/2 [00:01<00:00,  1.67it/s, loss=3.2, train_ca=4, train_wa=0]\n",
      "Validating: 100%|█████████████████| 1/1 [00:00<00:00,  2.85it/s, val_loss=3.05, val_ca=5.1, val_wa=0]\n"
     ]
    },
    {
     "name": "stdout",
     "output_type": "stream",
     "text": [
      "3.7154489517211915\n",
      "Validation loss decreased (3.734977 --> 3.715449).  Saving model ...\n"
     ]
    },
    {
     "name": "stderr",
     "output_type": "stream",
     "text": [
      "Epoch: [34]/[150] Training: 100%|█| 2/2 [00:01<00:00,  1.66it/s, loss=2.87, train_ca=4.22, train_wa=0\n",
      "Validating: 100%|████████████████| 1/1 [00:00<00:00,  2.74it/s, val_loss=3.06, val_ca=5.61, val_wa=0]\n"
     ]
    },
    {
     "name": "stdout",
     "output_type": "stream",
     "text": [
      "3.6973309450679355\n",
      "Validation loss decreased (3.715449 --> 3.697331).  Saving model ...\n"
     ]
    },
    {
     "name": "stderr",
     "output_type": "stream",
     "text": [
      "Epoch: [35]/[150] Training: 100%|███| 2/2 [00:01<00:00,  1.50it/s, loss=2.85, train_ca=4, train_wa=0]\n",
      "Validating: 100%|████████████████| 1/1 [00:00<00:00,  2.73it/s, val_loss=3.07, val_ca=5.61, val_wa=0]\n"
     ]
    },
    {
     "name": "stdout",
     "output_type": "stream",
     "text": [
      "3.680414193385356\n",
      "Validation loss decreased (3.697331 --> 3.680414).  Saving model ...\n"
     ]
    },
    {
     "name": "stderr",
     "output_type": "stream",
     "text": [
      "Epoch: [36]/[150] Training: 100%|█| 2/2 [00:00<00:00,  2.96it/s, loss=2.83, train_ca=12.7, train_wa=0\n",
      "Validating: 100%|████████████████| 1/1 [00:00<00:00,  5.51it/s, val_loss=3.06, val_ca=6.66, val_wa=0]\n"
     ]
    },
    {
     "name": "stdout",
     "output_type": "stream",
     "text": [
      "3.664174619473909\n",
      "Validation loss decreased (3.680414 --> 3.664175).  Saving model ...\n"
     ]
    },
    {
     "name": "stderr",
     "output_type": "stream",
     "text": [
      "Epoch: [37]/[150] Training: 100%|█| 2/2 [00:00<00:00,  2.74it/s, loss=2.99, train_ca=4.5, train_wa=0]\n",
      "Validating: 100%|████████████████| 1/1 [00:00<00:00,  5.12it/s, val_loss=3.03, val_ca=6.66, val_wa=0]\n"
     ]
    },
    {
     "name": "stdout",
     "output_type": "stream",
     "text": [
      "3.648022009776189\n",
      "Validation loss decreased (3.664175 --> 3.648022).  Saving model ...\n"
     ]
    },
    {
     "name": "stderr",
     "output_type": "stream",
     "text": [
      "Epoch: [38]/[150] Training: 100%|█| 2/2 [00:00<00:00,  2.92it/s, loss=3.63, train_ca=3.43, train_wa=0\n",
      "Validating: 100%|████████████████| 1/1 [00:00<00:00,  5.78it/s, val_loss=3.03, val_ca=6.66, val_wa=0]\n"
     ]
    },
    {
     "name": "stdout",
     "output_type": "stream",
     "text": [
      "3.632508486509323\n",
      "Validation loss decreased (3.648022 --> 3.632508).  Saving model ...\n"
     ]
    },
    {
     "name": "stderr",
     "output_type": "stream",
     "text": [
      "Epoch: [39]/[150] Training: 100%|█| 2/2 [00:00<00:00,  3.28it/s, loss=2.91, train_ca=4.22, train_wa=0\n",
      "Validating: 100%|████████████████| 1/1 [00:00<00:00,  5.28it/s, val_loss=3.03, val_ca=6.66, val_wa=0]\n"
     ]
    },
    {
     "name": "stdout",
     "output_type": "stream",
     "text": [
      "3.617912275035207\n",
      "Validation loss decreased (3.632508 --> 3.617912).  Saving model ...\n"
     ]
    },
    {
     "name": "stderr",
     "output_type": "stream",
     "text": [
      "Epoch: [40]/[150] Training: 100%|█| 2/2 [00:00<00:00,  3.15it/s, loss=2.74, train_ca=10.7, train_wa=0\n",
      "Validating: 100%|████████████████| 1/1 [00:00<00:00,  5.48it/s, val_loss=2.99, val_ca=5.61, val_wa=0]\n"
     ]
    },
    {
     "name": "stdout",
     "output_type": "stream",
     "text": [
      "3.602858060882205\n",
      "Validation loss decreased (3.617912 --> 3.602858).  Saving model ...\n"
     ]
    },
    {
     "name": "stderr",
     "output_type": "stream",
     "text": [
      "Epoch: [41]/[150] Training: 100%|█| 2/2 [00:00<00:00,  2.98it/s, loss=2.98, train_ca=8.22, train_wa=0\n",
      "Validating: 100%|████████████████| 1/1 [00:00<00:00,  5.56it/s, val_loss=2.99, val_ca=6.66, val_wa=0]\n"
     ]
    },
    {
     "name": "stdout",
     "output_type": "stream",
     "text": [
      "3.588514899098596\n",
      "Validation loss decreased (3.602858 --> 3.588515).  Saving model ...\n"
     ]
    },
    {
     "name": "stderr",
     "output_type": "stream",
     "text": [
      "Epoch: [42]/[150] Training: 100%|███| 2/2 [00:01<00:00,  1.62it/s, loss=2.99, train_ca=4, train_wa=0]\n",
      "Validating: 100%|███████████████████| 1/1 [00:00<00:00,  3.20it/s, val_loss=3, val_ca=6.66, val_wa=0]\n"
     ]
    },
    {
     "name": "stdout",
     "output_type": "stream",
     "text": [
      "3.5750660733743147\n",
      "Validation loss decreased (3.588515 --> 3.575066).  Saving model ...\n"
     ]
    },
    {
     "name": "stderr",
     "output_type": "stream",
     "text": [
      "Epoch: [43]/[150] Training: 100%|███| 2/2 [00:01<00:00,  1.82it/s, loss=2.68, train_ca=6, train_wa=0]\n",
      "Validating: 100%|████████████████| 1/1 [00:00<00:00,  2.84it/s, val_loss=3.03, val_ca=6.66, val_wa=0]\n"
     ]
    },
    {
     "name": "stdout",
     "output_type": "stream",
     "text": [
      "3.563023567199707\n",
      "Validation loss decreased (3.575066 --> 3.563024).  Saving model ...\n"
     ]
    },
    {
     "name": "stderr",
     "output_type": "stream",
     "text": [
      "Epoch: [44]/[150] Training: 100%|███| 2/2 [00:01<00:00,  1.75it/s, loss=2.72, train_ca=4, train_wa=0]\n",
      "Validating: 100%|████████████████| 1/1 [00:00<00:00,  3.45it/s, val_loss=2.96, val_ca=4.77, val_wa=0]\n"
     ]
    },
    {
     "name": "stdout",
     "output_type": "stream",
     "text": [
      "3.549999107485232\n",
      "Validation loss decreased (3.563024 --> 3.549999).  Saving model ...\n"
     ]
    },
    {
     "name": "stderr",
     "output_type": "stream",
     "text": [
      "Epoch: [45]/[150] Training: 100%|███| 2/2 [00:01<00:00,  1.58it/s, loss=3.04, train_ca=6, train_wa=0]\n",
      "Validating: 100%|████████████████| 1/1 [00:00<00:00,  3.01it/s, val_loss=2.94, val_ca=5.61, val_wa=0]\n"
     ]
    },
    {
     "name": "stdout",
     "output_type": "stream",
     "text": [
      "3.5370279626643404\n",
      "Validation loss decreased (3.549999 --> 3.537028).  Saving model ...\n"
     ]
    },
    {
     "name": "stderr",
     "output_type": "stream",
     "text": [
      "Epoch: [46]/[150] Training: 100%|███| 2/2 [00:01<00:00,  1.74it/s, loss=2.76, train_ca=8, train_wa=0]\n",
      "Validating: 100%|████████████████| 1/1 [00:00<00:00,  3.30it/s, val_loss=3.02, val_ca=6.66, val_wa=0]\n"
     ]
    },
    {
     "name": "stdout",
     "output_type": "stream",
     "text": [
      "3.5262468506892524\n",
      "Validation loss decreased (3.537028 --> 3.526247).  Saving model ...\n"
     ]
    },
    {
     "name": "stderr",
     "output_type": "stream",
     "text": [
      "Epoch: [47]/[150] Training: 100%|███| 2/2 [00:01<00:00,  1.86it/s, loss=3.02, train_ca=4, train_wa=0]\n",
      "Validating: 100%|████████████████| 1/1 [00:00<00:00,  3.24it/s, val_loss=3.16, val_ca=6.66, val_wa=0]\n"
     ]
    },
    {
     "name": "stdout",
     "output_type": "stream",
     "text": [
      "3.5187501907348633\n",
      "Validation loss decreased (3.526247 --> 3.518750).  Saving model ...\n"
     ]
    },
    {
     "name": "stderr",
     "output_type": "stream",
     "text": [
      "Epoch: [48]/[150] Training: 100%|███| 2/2 [00:01<00:00,  1.84it/s, loss=3.01, train_ca=6, train_wa=0]\n",
      "Validating: 100%|████████████████| 1/1 [00:00<00:00,  2.67it/s, val_loss=2.95, val_ca=6.98, val_wa=0]\n"
     ]
    },
    {
     "name": "stdout",
     "output_type": "stream",
     "text": [
      "3.507303228378296\n",
      "Validation loss decreased (3.518750 --> 3.507303).  Saving model ...\n"
     ]
    },
    {
     "name": "stderr",
     "output_type": "stream",
     "text": [
      "Epoch: [49]/[150] Training: 100%|██| 2/2 [00:01<00:00,  1.85it/s, loss=2.7, train_ca=6.5, train_wa=0]\n",
      "Validating: 100%|████████████████| 1/1 [00:00<00:00,  2.82it/s, val_loss=2.92, val_ca=7.37, val_wa=0]\n"
     ]
    },
    {
     "name": "stdout",
     "output_type": "stream",
     "text": [
      "3.4958021033043956\n",
      "Validation loss decreased (3.507303 --> 3.495802).  Saving model ...\n"
     ]
    },
    {
     "name": "stderr",
     "output_type": "stream",
     "text": [
      "Epoch: [50]/[150] Training: 100%|█| 2/2 [00:01<00:00,  1.84it/s, loss=2.66, train_ca=4.22, train_wa=0\n",
      "Validating: 100%|████████████████| 1/1 [00:00<00:00,  2.96it/s, val_loss=3.02, val_ca=6.11, val_wa=0]\n"
     ]
    },
    {
     "name": "stdout",
     "output_type": "stream",
     "text": [
      "3.4866402653547435\n",
      "Validation loss decreased (3.495802 --> 3.486640).  Saving model ...\n"
     ]
    },
    {
     "name": "stderr",
     "output_type": "stream",
     "text": [
      "Epoch: [51]/[150] Training: 100%|█| 2/2 [00:01<00:00,  1.92it/s, loss=2.82, train_ca=1.82, train_wa=0\n",
      "Validating: 100%|████████████████| 1/1 [00:00<00:00,  2.93it/s, val_loss=2.92, val_ca=6.11, val_wa=0]\n"
     ]
    },
    {
     "name": "stdout",
     "output_type": "stream",
     "text": [
      "3.475982908932668\n",
      "Validation loss decreased (3.486640 --> 3.475983).  Saving model ...\n"
     ]
    },
    {
     "name": "stderr",
     "output_type": "stream",
     "text": [
      "Epoch: [52]/[150] Training: 100%|████| 2/2 [00:01<00:00,  1.60it/s, loss=2.7, train_ca=6, train_wa=0]\n",
      "Validating: 100%|████████████████| 1/1 [00:00<00:00,  2.43it/s, val_loss=2.91, val_ca=6.66, val_wa=0]\n"
     ]
    },
    {
     "name": "stdout",
     "output_type": "stream",
     "text": [
      "3.465414462266145\n",
      "Validation loss decreased (3.475983 --> 3.465414).  Saving model ...\n"
     ]
    },
    {
     "name": "stderr",
     "output_type": "stream",
     "text": [
      "Epoch: [53]/[150] Training: 100%|█| 2/2 [00:01<00:00,  1.65it/s, loss=2.89, train_ca=14.2, train_wa=0\n",
      "Validating: 100%|████████████████| 1/1 [00:00<00:00,  2.67it/s, val_loss=2.89, val_ca=6.66, val_wa=0]\n"
     ]
    },
    {
     "name": "stdout",
     "output_type": "stream",
     "text": [
      "3.454999897696755\n",
      "Validation loss decreased (3.465414 --> 3.455000).  Saving model ...\n"
     ]
    },
    {
     "name": "stderr",
     "output_type": "stream",
     "text": [
      "Epoch: [54]/[150] Training: 100%|███| 2/2 [00:01<00:00,  1.68it/s, loss=2.88, train_ca=4, train_wa=0]\n",
      "Validating: 100%|████████████████| 1/1 [00:00<00:00,  3.84it/s, val_loss=2.87, val_ca=13.9, val_wa=0]\n"
     ]
    },
    {
     "name": "stdout",
     "output_type": "stream",
     "text": [
      "3.4445013276168277\n",
      "Validation loss decreased (3.455000 --> 3.444501).  Saving model ...\n"
     ]
    },
    {
     "name": "stderr",
     "output_type": "stream",
     "text": [
      "Epoch: [55]/[150] Training: 100%|██| 2/2 [00:00<00:00,  3.21it/s, loss=2.78, train_ca=10, train_wa=0]\n",
      "Validating: 100%|████████████████| 1/1 [00:00<00:00,  5.55it/s, val_loss=2.87, val_ca=13.9, val_wa=0]\n"
     ]
    },
    {
     "name": "stdout",
     "output_type": "stream",
     "text": [
      "3.4343795190777695\n",
      "Validation loss decreased (3.444501 --> 3.434380).  Saving model ...\n"
     ]
    },
    {
     "name": "stderr",
     "output_type": "stream",
     "text": [
      "Epoch: [56]/[150] Training: 100%|██| 2/2 [00:00<00:00,  3.03it/s, loss=2.77, train_ca=18, train_wa=0]\n",
      "Validating: 100%|████████████████| 1/1 [00:00<00:00,  5.75it/s, val_loss=2.86, val_ca=13.9, val_wa=0]\n"
     ]
    },
    {
     "name": "stdout",
     "output_type": "stream",
     "text": [
      "3.4245475119557875\n",
      "Validation loss decreased (3.434380 --> 3.424548).  Saving model ...\n"
     ]
    },
    {
     "name": "stderr",
     "output_type": "stream",
     "text": [
      "Epoch: [57]/[150] Training: 100%|██| 2/2 [00:00<00:00,  3.32it/s, loss=2.92, train_ca=10, train_wa=0]\n",
      "Validating: 100%|████████████████| 1/1 [00:00<00:00,  4.89it/s, val_loss=2.86, val_ca=13.1, val_wa=0]\n"
     ]
    },
    {
     "name": "stdout",
     "output_type": "stream",
     "text": [
      "3.415022187313791\n",
      "Validation loss decreased (3.424548 --> 3.415022).  Saving model ...\n"
     ]
    },
    {
     "name": "stderr",
     "output_type": "stream",
     "text": [
      "Epoch: [58]/[150] Training: 100%|██| 2/2 [00:00<00:00,  3.39it/s, loss=2.72, train_ca=10, train_wa=0]\n",
      "Validating: 100%|████████████████| 1/1 [00:00<00:00,  5.71it/s, val_loss=2.86, val_ca=13.9, val_wa=0]\n"
     ]
    },
    {
     "name": "stdout",
     "output_type": "stream",
     "text": [
      "3.40574400027593\n",
      "Validation loss decreased (3.415022 --> 3.405744).  Saving model ...\n"
     ]
    },
    {
     "name": "stderr",
     "output_type": "stream",
     "text": [
      "Epoch: [59]/[150] Training: 100%|█| 2/2 [00:00<00:00,  2.70it/s, loss=2.88, train_ca=8.22, train_wa=0\n",
      "Validating: 100%|████████████████| 1/1 [00:00<00:00,  5.47it/s, val_loss=3.23, val_ca=12.5, val_wa=0]\n"
     ]
    },
    {
     "name": "stdout",
     "output_type": "stream",
     "text": [
      "3.402801302612805\n",
      "Validation loss decreased (3.405744 --> 3.402801).  Saving model ...\n"
     ]
    },
    {
     "name": "stderr",
     "output_type": "stream",
     "text": [
      "Epoch: [60]/[150] Training: 100%|█| 2/2 [00:01<00:00,  1.60it/s, loss=2.56, train_ca=14.4, train_wa=0\n",
      "Validating: 100%|████████████████| 1/1 [00:00<00:00,  2.71it/s, val_loss=2.93, val_ca=12.9, val_wa=0]\n"
     ]
    },
    {
     "name": "stdout",
     "output_type": "stream",
     "text": [
      "3.3951534917277675\n",
      "Validation loss decreased (3.402801 --> 3.395153).  Saving model ...\n"
     ]
    },
    {
     "name": "stderr",
     "output_type": "stream",
     "text": [
      "Epoch: [61]/[150] Training: 100%|███| 2/2 [00:01<00:00,  1.86it/s, loss=2.9, train_ca=14, train_wa=0]\n",
      "Validating: 100%|████████████████| 1/1 [00:00<00:00,  3.26it/s, val_loss=2.97, val_ca=11.4, val_wa=0]\n"
     ]
    },
    {
     "name": "stdout",
     "output_type": "stream",
     "text": [
      "3.3884836719149636\n",
      "Validation loss decreased (3.395153 --> 3.388484).  Saving model ...\n"
     ]
    },
    {
     "name": "stderr",
     "output_type": "stream",
     "text": [
      "Epoch: [62]/[150] Training: 100%|██| 2/2 [00:01<00:00,  1.76it/s, loss=2.57, train_ca=16, train_wa=0]\n",
      "Validating: 100%|████████████████| 1/1 [00:00<00:00,  3.01it/s, val_loss=2.92, val_ca=11.5, val_wa=0]\n"
     ]
    },
    {
     "name": "stdout",
     "output_type": "stream",
     "text": [
      "3.3811375349760056\n",
      "Validation loss decreased (3.388484 --> 3.381138).  Saving model ...\n"
     ]
    },
    {
     "name": "stderr",
     "output_type": "stream",
     "text": [
      "Epoch: [63]/[150] Training: 100%|██| 2/2 [00:01<00:00,  1.64it/s, loss=2.69, train_ca=10, train_wa=0]\n",
      "Validating: 100%|████████████████| 1/1 [00:00<00:00,  3.07it/s, val_loss=2.93, val_ca=11.5, val_wa=0]\n"
     ]
    },
    {
     "name": "stdout",
     "output_type": "stream",
     "text": [
      "3.3742132920485277\n",
      "Validation loss decreased (3.381138 --> 3.374213).  Saving model ...\n"
     ]
    },
    {
     "name": "stderr",
     "output_type": "stream",
     "text": [
      "Epoch: [64]/[150] Training: 100%|█| 2/2 [00:01<00:00,  1.74it/s, loss=2.65, train_ca=14.4, train_wa=0\n",
      "Validating: 100%|████████████████| 1/1 [00:00<00:00,  3.27it/s, val_loss=2.93, val_ca=11.8, val_wa=0]\n"
     ]
    },
    {
     "name": "stdout",
     "output_type": "stream",
     "text": [
      "3.3674476363442163\n",
      "Validation loss decreased (3.374213 --> 3.367448).  Saving model ...\n"
     ]
    },
    {
     "name": "stderr",
     "output_type": "stream",
     "text": [
      "Epoch: [65]/[150] Training: 100%|█| 2/2 [00:01<00:00,  1.87it/s, loss=3.17, train_ca=9.43, train_wa=0\n",
      "Validating: 100%|████████████████| 1/1 [00:00<00:00,  3.19it/s, val_loss=2.89, val_ca=13.9, val_wa=0]\n"
     ]
    },
    {
     "name": "stdout",
     "output_type": "stream",
     "text": [
      "3.360280962132696\n",
      "Validation loss decreased (3.367448 --> 3.360281).  Saving model ...\n"
     ]
    },
    {
     "name": "stderr",
     "output_type": "stream",
     "text": [
      "Epoch: [66]/[150] Training: 100%|██| 2/2 [00:01<00:00,  1.83it/s, loss=2.67, train_ca=14, train_wa=0]\n",
      "Validating: 100%|████████████████| 1/1 [00:00<00:00,  3.12it/s, val_loss=2.94, val_ca=14.2, val_wa=0]\n"
     ]
    },
    {
     "name": "stdout",
     "output_type": "stream",
     "text": [
      "3.354083331192241\n",
      "Validation loss decreased (3.360281 --> 3.354083).  Saving model ...\n"
     ]
    },
    {
     "name": "stderr",
     "output_type": "stream",
     "text": [
      "Epoch: [67]/[150] Training: 100%|█| 2/2 [00:01<00:00,  1.35it/s, loss=2.72, train_ca=12.2, train_wa=0\n",
      "Validating: 100%|████████████████| 1/1 [00:00<00:00,  2.71it/s, val_loss=2.88, val_ca=13.9, val_wa=0]\n"
     ]
    },
    {
     "name": "stdout",
     "output_type": "stream",
     "text": [
      "3.347271950348564\n",
      "Validation loss decreased (3.354083 --> 3.347272).  Saving model ...\n"
     ]
    },
    {
     "name": "stderr",
     "output_type": "stream",
     "text": [
      "Epoch: [68]/[150] Training: 100%|█| 2/2 [00:01<00:00,  1.80it/s, loss=2.67, train_ca=11.9, train_wa=0\n",
      "Validating: 100%|████████████████| 1/1 [00:00<00:00,  3.27it/s, val_loss=2.85, val_ca=12.9, val_wa=0]\n"
     ]
    },
    {
     "name": "stdout",
     "output_type": "stream",
     "text": [
      "3.340203104700361\n",
      "Validation loss decreased (3.347272 --> 3.340203).  Saving model ...\n"
     ]
    },
    {
     "name": "stderr",
     "output_type": "stream",
     "text": [
      "Epoch: [69]/[150] Training: 100%|█| 2/2 [00:01<00:00,  1.85it/s, loss=2.83, train_ca=16.5, train_wa=0\n",
      "Validating: 100%|████████████████| 1/1 [00:00<00:00,  3.00it/s, val_loss=2.85, val_ca=18.2, val_wa=0]\n"
     ]
    },
    {
     "name": "stdout",
     "output_type": "stream",
     "text": [
      "3.333289898617167\n",
      "Validation loss decreased (3.340203 --> 3.333290).  Saving model ...\n"
     ]
    },
    {
     "name": "stderr",
     "output_type": "stream",
     "text": [
      "Epoch: [70]/[150] Training: 100%|█| 2/2 [00:01<00:00,  1.82it/s, loss=2.64, train_ca=20.2, train_wa=0\n",
      "Validating: 100%|████████████████| 1/1 [00:00<00:00,  2.96it/s, val_loss=2.85, val_ca=13.9, val_wa=0]\n"
     ]
    },
    {
     "name": "stdout",
     "output_type": "stream",
     "text": [
      "3.3265831304921045\n",
      "Validation loss decreased (3.333290 --> 3.326583).  Saving model ...\n"
     ]
    },
    {
     "name": "stderr",
     "output_type": "stream",
     "text": [
      "Epoch: [71]/[150] Training: 100%|█| 2/2 [00:01<00:00,  1.79it/s, loss=2.65, train_ca=17.1, train_wa=0\n",
      "Validating: 100%|████████████████| 1/1 [00:00<00:00,  3.26it/s, val_loss=2.85, val_ca=13.9, val_wa=0]\n"
     ]
    },
    {
     "name": "stdout",
     "output_type": "stream",
     "text": [
      "3.320021384382901\n",
      "Validation loss decreased (3.326583 --> 3.320021).  Saving model ...\n"
     ]
    },
    {
     "name": "stderr",
     "output_type": "stream",
     "text": [
      "Epoch: [72]/[150] Training: 100%|█| 2/2 [00:01<00:00,  1.74it/s, loss=2.61, train_ca=12.2, train_wa=0\n",
      "Validating: 100%|████████████████| 1/1 [00:00<00:00,  2.91it/s, val_loss=2.84, val_ca=13.9, val_wa=0]\n"
     ]
    },
    {
     "name": "stdout",
     "output_type": "stream",
     "text": [
      "3.3135127795709147\n",
      "Validation loss decreased (3.320021 --> 3.313513).  Saving model ...\n"
     ]
    },
    {
     "name": "stderr",
     "output_type": "stream",
     "text": [
      "Epoch: [73]/[150] Training: 100%|█| 2/2 [00:01<00:00,  1.80it/s, loss=2.91, train_ca=19.2, train_wa=0\n",
      "Validating: 100%|████████████████| 1/1 [00:00<00:00,  5.26it/s, val_loss=2.84, val_ca=13.9, val_wa=0]\n"
     ]
    },
    {
     "name": "stdout",
     "output_type": "stream",
     "text": [
      "3.307150328954061\n",
      "Validation loss decreased (3.313513 --> 3.307150).  Saving model ...\n"
     ]
    },
    {
     "name": "stderr",
     "output_type": "stream",
     "text": [
      "Epoch: [74]/[150] Training: 100%|██| 2/2 [00:00<00:00,  3.22it/s, loss=2.51, train_ca=21, train_wa=0]\n",
      "Validating: 100%|████████████████| 1/1 [00:00<00:00,  5.92it/s, val_loss=2.82, val_ca=13.9, val_wa=0]\n"
     ]
    },
    {
     "name": "stdout",
     "output_type": "stream",
     "text": [
      "3.3007334031556783\n",
      "Validation loss decreased (3.307150 --> 3.300733).  Saving model ...\n"
     ]
    },
    {
     "name": "stderr",
     "output_type": "stream",
     "text": [
      "Epoch: [75]/[150] Training: 100%|███| 2/2 [00:00<00:00,  3.09it/s, loss=2.75, train_ca=4, train_wa=0]\n",
      "Validating: 100%|████████████████| 1/1 [00:00<00:00,  5.50it/s, val_loss=2.82, val_ca=13.9, val_wa=0]\n"
     ]
    },
    {
     "name": "stdout",
     "output_type": "stream",
     "text": [
      "3.2944666193677232\n",
      "Validation loss decreased (3.300733 --> 3.294467).  Saving model ...\n"
     ]
    },
    {
     "name": "stderr",
     "output_type": "stream",
     "text": [
      "Epoch: [76]/[150] Training: 100%|█| 2/2 [00:00<00:00,  2.09it/s, loss=2.57, train_ca=10.4, train_wa=0\n",
      "Validating: 100%|████████████████| 1/1 [00:00<00:00,  5.74it/s, val_loss=2.83, val_ca=17.2, val_wa=0]\n"
     ]
    },
    {
     "name": "stdout",
     "output_type": "stream",
     "text": [
      "3.288455061423473\n",
      "Validation loss decreased (3.294467 --> 3.288455).  Saving model ...\n"
     ]
    },
    {
     "name": "stderr",
     "output_type": "stream",
     "text": [
      "Epoch: [77]/[150] Training: 100%|█| 2/2 [00:01<00:00,  1.74it/s, loss=2.87, train_ca=10.9, train_wa=0\n",
      "Validating: 100%|████████████████| 1/1 [00:00<00:00,  2.76it/s, val_loss=2.84, val_ca=14.1, val_wa=0]\n"
     ]
    },
    {
     "name": "stdout",
     "output_type": "stream",
     "text": [
      "3.2828266711174687\n",
      "Validation loss decreased (3.288455 --> 3.282827).  Saving model ...\n"
     ]
    },
    {
     "name": "stderr",
     "output_type": "stream",
     "text": [
      "Epoch: [78]/[150] Training: 100%|█| 2/2 [00:01<00:00,  1.59it/s, loss=2.65, train_ca=8.72, train_wa=0\n",
      "Validating: 100%|██████████████████| 1/1 [00:00<00:00,  2.66it/s, val_loss=2.85, val_ca=16, val_wa=0]\n"
     ]
    },
    {
     "name": "stdout",
     "output_type": "stream",
     "text": [
      "3.2774577260017397\n",
      "Validation loss decreased (3.282827 --> 3.277458).  Saving model ...\n"
     ]
    },
    {
     "name": "stderr",
     "output_type": "stream",
     "text": [
      "Epoch: [79]/[150] Training: 100%|█| 2/2 [00:01<00:00,  1.39it/s, loss=2.55, train_ca=16.2, train_wa=0\n",
      "Validating: 100%|████████████████| 1/1 [00:00<00:00,  2.78it/s, val_loss=2.85, val_ca=16.5, val_wa=0]\n"
     ]
    },
    {
     "name": "stdout",
     "output_type": "stream",
     "text": [
      "3.2721980942620172\n",
      "Validation loss decreased (3.277458 --> 3.272198).  Saving model ...\n"
     ]
    },
    {
     "name": "stderr",
     "output_type": "stream",
     "text": [
      "Epoch: [80]/[150] Training: 100%|█| 2/2 [00:01<00:00,  1.68it/s, loss=2.81, train_ca=17.7, train_wa=0\n",
      "Validating: 100%|████████████████| 1/1 [00:00<00:00,  2.72it/s, val_loss=2.84, val_ca=15.1, val_wa=0]\n"
     ]
    },
    {
     "name": "stdout",
     "output_type": "stream",
     "text": [
      "3.2669618565861773\n",
      "Validation loss decreased (3.272198 --> 3.266962).  Saving model ...\n"
     ]
    },
    {
     "name": "stderr",
     "output_type": "stream",
     "text": [
      "Epoch: [81]/[150] Training: 100%|██| 2/2 [00:00<00:00,  3.30it/s, loss=2.87, train_ca=18, train_wa=0]\n",
      "Validating: 100%|████████████████| 1/1 [00:00<00:00,  5.88it/s, val_loss=2.83, val_ca=14.5, val_wa=0]\n"
     ]
    },
    {
     "name": "stdout",
     "output_type": "stream",
     "text": [
      "3.26166904690754\n",
      "Validation loss decreased (3.266962 --> 3.261669).  Saving model ...\n"
     ]
    },
    {
     "name": "stderr",
     "output_type": "stream",
     "text": [
      "Epoch: [82]/[150] Training: 100%|█| 2/2 [00:01<00:00,  1.66it/s, loss=2.68, train_ca=10.5, train_wa=0\n",
      "Validating: 100%|████████████████| 1/1 [00:00<00:00,  3.12it/s, val_loss=2.81, val_ca=13.9, val_wa=0]\n"
     ]
    },
    {
     "name": "stdout",
     "output_type": "stream",
     "text": [
      "3.256324129445212\n",
      "Validation loss decreased (3.261669 --> 3.256324).  Saving model ...\n"
     ]
    },
    {
     "name": "stderr",
     "output_type": "stream",
     "text": [
      "Epoch: [83]/[150] Training: 100%|█| 2/2 [00:01<00:00,  1.34it/s, loss=2.66, train_ca=14.4, train_wa=0\n",
      "Validating: 100%|█████████████████| 1/1 [00:00<00:00,  2.71it/s, val_loss=2.8, val_ca=14.8, val_wa=0]\n"
     ]
    },
    {
     "name": "stdout",
     "output_type": "stream",
     "text": [
      "3.2509043777690216\n",
      "Validation loss decreased (3.256324 --> 3.250904).  Saving model ...\n"
     ]
    },
    {
     "name": "stderr",
     "output_type": "stream",
     "text": [
      "Epoch: [84]/[150] Training: 100%|█| 2/2 [00:01<00:00,  1.73it/s, loss=2.52, train_ca=16.2, train_wa=0\n",
      "Validating: 100%|████████████████| 1/1 [00:00<00:00,  3.05it/s, val_loss=2.81, val_ca=16.3, val_wa=0]\n"
     ]
    },
    {
     "name": "stdout",
     "output_type": "stream",
     "text": [
      "3.2458139325297157\n",
      "Validation loss decreased (3.250904 --> 3.245814).  Saving model ...\n"
     ]
    },
    {
     "name": "stderr",
     "output_type": "stream",
     "text": [
      "Epoch: [85]/[150] Training: 100%|█| 2/2 [00:01<00:00,  1.79it/s, loss=2.64, train_ca=16.2, train_wa=0\n",
      "Validating: 100%|████████████████| 1/1 [00:00<00:00,  3.35it/s, val_loss=2.84, val_ca=16.5, val_wa=0]\n"
     ]
    },
    {
     "name": "stdout",
     "output_type": "stream",
     "text": [
      "3.2411168334127844\n",
      "Validation loss decreased (3.245814 --> 3.241117).  Saving model ...\n"
     ]
    },
    {
     "name": "stderr",
     "output_type": "stream",
     "text": [
      "Epoch: [86]/[150] Training: 100%|█| 2/2 [00:01<00:00,  1.84it/s, loss=2.64, train_ca=12.2, train_wa=0\n",
      "Validating: 100%|████████████████| 1/1 [00:00<00:00,  2.78it/s, val_loss=2.87, val_ca=15.9, val_wa=0]\n"
     ]
    },
    {
     "name": "stdout",
     "output_type": "stream",
     "text": [
      "3.236871735616164\n",
      "Validation loss decreased (3.241117 --> 3.236872).  Saving model ...\n"
     ]
    },
    {
     "name": "stderr",
     "output_type": "stream",
     "text": [
      "Epoch: [87]/[150] Training: 100%|█| 2/2 [00:00<00:00,  2.05it/s, loss=3.45, train_ca=11.4, train_wa=0\n",
      "Validating: 100%|████████████████| 1/1 [00:00<00:00,  3.17it/s, val_loss=2.88, val_ca=15.9, val_wa=0]\n"
     ]
    },
    {
     "name": "stdout",
     "output_type": "stream",
     "text": [
      "3.2329163953159634\n",
      "Validation loss decreased (3.236872 --> 3.232916).  Saving model ...\n"
     ]
    },
    {
     "name": "stderr",
     "output_type": "stream",
     "text": [
      "Epoch: [88]/[150] Training: 100%|██| 2/2 [00:01<00:00,  1.93it/s, loss=2.63, train_ca=16, train_wa=0]\n",
      "Validating: 100%|████████████████| 1/1 [00:00<00:00,  3.52it/s, val_loss=2.87, val_ca=15.9, val_wa=0]\n"
     ]
    },
    {
     "name": "stdout",
     "output_type": "stream",
     "text": [
      "3.2288426478703816\n",
      "Validation loss decreased (3.232916 --> 3.228843).  Saving model ...\n"
     ]
    },
    {
     "name": "stderr",
     "output_type": "stream",
     "text": [
      "Epoch: [89]/[150] Training: 100%|█| 2/2 [00:01<00:00,  1.73it/s, loss=2.75, train_ca=19.2, train_wa=0\n",
      "Validating: 100%|████████████████| 1/1 [00:00<00:00,  3.02it/s, val_loss=2.85, val_ca=15.6, val_wa=0]\n"
     ]
    },
    {
     "name": "stdout",
     "output_type": "stream",
     "text": [
      "3.2247311020945455\n",
      "Validation loss decreased (3.228843 --> 3.224731).  Saving model ...\n"
     ]
    },
    {
     "name": "stderr",
     "output_type": "stream",
     "text": [
      "Epoch: [90]/[150] Training: 100%|█| 2/2 [00:01<00:00,  1.54it/s, loss=3.01, train_ca=12.4, train_wa=0\n",
      "Validating: 100%|████████████████| 1/1 [00:00<00:00,  3.24it/s, val_loss=2.93, val_ca=16.2, val_wa=0]\n"
     ]
    },
    {
     "name": "stdout",
     "output_type": "stream",
     "text": [
      "3.2215737311736397\n",
      "Validation loss decreased (3.224731 --> 3.221574).  Saving model ...\n"
     ]
    },
    {
     "name": "stderr",
     "output_type": "stream",
     "text": [
      "Epoch: [91]/[150] Training: 100%|█| 2/2 [00:01<00:00,  1.57it/s, loss=3.16, train_ca=15.9, train_wa=0\n",
      "Validating: 100%|██████████████████| 1/1 [00:00<00:00,  3.14it/s, val_loss=2.91, val_ca=15, val_wa=0]\n"
     ]
    },
    {
     "name": "stdout",
     "output_type": "stream",
     "text": [
      "3.218201647522629\n",
      "Validation loss decreased (3.221574 --> 3.218202).  Saving model ...\n"
     ]
    },
    {
     "name": "stderr",
     "output_type": "stream",
     "text": [
      "Epoch: [92]/[150] Training: 100%|█| 2/2 [00:01<00:00,  1.50it/s, loss=2.49, train_ca=22.2, train_wa=0\n",
      "Validating: 100%|████████████████| 1/1 [00:00<00:00,  2.55it/s, val_loss=2.84, val_ca=16.7, val_wa=0]\n"
     ]
    },
    {
     "name": "stdout",
     "output_type": "stream",
     "text": [
      "3.214192268696237\n",
      "Validation loss decreased (3.218202 --> 3.214192).  Saving model ...\n"
     ]
    },
    {
     "name": "stderr",
     "output_type": "stream",
     "text": [
      "Epoch: [93]/[150] Training: 100%|██████| 2/2 [00:01<00:00,  1.87it/s, loss=3, train_ca=6, train_wa=0]\n",
      "Validating: 100%|████████████████| 1/1 [00:00<00:00,  5.21it/s, val_loss=2.82, val_ca=16.9, val_wa=0]\n"
     ]
    },
    {
     "name": "stdout",
     "output_type": "stream",
     "text": [
      "3.2100909182899877\n",
      "Validation loss decreased (3.214192 --> 3.210091).  Saving model ...\n"
     ]
    },
    {
     "name": "stderr",
     "output_type": "stream",
     "text": [
      "Epoch: [94]/[150] Training: 100%|█| 2/2 [00:01<00:00,  1.83it/s, loss=2.56, train_ca=14.4, train_wa=0\n",
      "Validating: 100%|█████████████████| 1/1 [00:00<00:00,  3.18it/s, val_loss=2.9, val_ca=16.1, val_wa=0]\n"
     ]
    },
    {
     "name": "stdout",
     "output_type": "stream",
     "text": [
      "3.206910821298758\n",
      "Validation loss decreased (3.210091 --> 3.206911).  Saving model ...\n"
     ]
    },
    {
     "name": "stderr",
     "output_type": "stream",
     "text": [
      "Epoch: [95]/[150] Training: 100%|█| 2/2 [00:01<00:00,  1.80it/s, loss=2.59, train_ca=22.9, train_wa=0\n",
      "Validating: 100%|████████████████| 1/1 [00:00<00:00,  2.80it/s, val_loss=2.94, val_ca=14.8, val_wa=0]\n"
     ]
    },
    {
     "name": "stdout",
     "output_type": "stream",
     "text": [
      "3.2041106715644756\n",
      "Validation loss decreased (3.206911 --> 3.204111).  Saving model ...\n"
     ]
    },
    {
     "name": "stderr",
     "output_type": "stream",
     "text": [
      "Epoch: [96]/[150] Training: 100%|█| 2/2 [00:01<00:00,  1.50it/s, loss=2.53, train_ca=14.7, train_wa=0\n",
      "Validating: 100%|████████████████| 1/1 [00:00<00:00,  2.45it/s, val_loss=2.91, val_ca=13.9, val_wa=0]\n"
     ]
    },
    {
     "name": "stdout",
     "output_type": "stream",
     "text": [
      "3.2010907859218363\n",
      "Validation loss decreased (3.204111 --> 3.201091).  Saving model ...\n"
     ]
    },
    {
     "name": "stderr",
     "output_type": "stream",
     "text": [
      "Epoch: [97]/[150] Training: 100%|██| 2/2 [00:01<00:00,  1.71it/s, loss=2.82, train_ca=14, train_wa=0]\n",
      "Validating: 100%|████████████████| 1/1 [00:00<00:00,  3.19it/s, val_loss=2.86, val_ca=14.5, val_wa=0]\n"
     ]
    },
    {
     "name": "stdout",
     "output_type": "stream",
     "text": [
      "3.1976762299585824\n",
      "Validation loss decreased (3.201091 --> 3.197676).  Saving model ...\n"
     ]
    },
    {
     "name": "stderr",
     "output_type": "stream",
     "text": [
      "Epoch: [98]/[150] Training: 100%|█| 2/2 [00:00<00:00,  2.05it/s, loss=2.52, train_ca=22.7, train_wa=0\n",
      "Validating: 100%|██████████████████| 1/1 [00:00<00:00,  2.80it/s, val_loss=2.89, val_ca=15, val_wa=0]\n"
     ]
    },
    {
     "name": "stdout",
     "output_type": "stream",
     "text": [
      "3.194627022743225\n",
      "Validation loss decreased (3.197676 --> 3.194627).  Saving model ...\n"
     ]
    },
    {
     "name": "stderr",
     "output_type": "stream",
     "text": [
      "Epoch: [99]/[150] Training: 100%|██| 2/2 [00:00<00:00,  3.29it/s, loss=2.49, train_ca=20, train_wa=0]\n",
      "Validating: 100%|██████████████████| 1/1 [00:00<00:00,  3.58it/s, val_loss=2.88, val_ca=15, val_wa=0]\n"
     ]
    },
    {
     "name": "stdout",
     "output_type": "stream",
     "text": [
      "3.1914739986457445\n",
      "Validation loss decreased (3.194627 --> 3.191474).  Saving model ...\n"
     ]
    },
    {
     "name": "stderr",
     "output_type": "stream",
     "text": [
      "Epoch: [100]/[150] Training: 100%|█| 2/2 [00:01<00:00,  1.47it/s, loss=2.59, train_ca=10, train_wa=0]\n",
      "Validating: 100%|████████████████| 1/1 [00:00<00:00,  2.72it/s, val_loss=2.97, val_ca=16.8, val_wa=0]\n"
     ]
    },
    {
     "name": "stdout",
     "output_type": "stream",
     "text": [
      "3.189269336999631\n",
      "Validation loss decreased (3.191474 --> 3.189269).  Saving model ...\n"
     ]
    },
    {
     "name": "stderr",
     "output_type": "stream",
     "text": [
      "Epoch: [101]/[150] Training: 100%|█| 2/2 [00:01<00:00,  1.47it/s, loss=2.53, train_ca=21.5, train_wa=\n",
      "Validating: 100%|████████████████| 1/1 [00:00<00:00,  2.58it/s, val_loss=2.84, val_ca=16.1, val_wa=0]\n"
     ]
    },
    {
     "name": "stdout",
     "output_type": "stream",
     "text": [
      "3.185900984458553\n",
      "Validation loss decreased (3.189269 --> 3.185901).  Saving model ...\n"
     ]
    },
    {
     "name": "stderr",
     "output_type": "stream",
     "text": [
      "Epoch: [102]/[150] Training: 100%|█| 2/2 [00:01<00:00,  1.21it/s, loss=2.5, train_ca=16.4, train_wa=0\n",
      "Validating: 100%|████████████████| 1/1 [00:00<00:00,  2.73it/s, val_loss=2.91, val_ca=15.7, val_wa=0]\n"
     ]
    },
    {
     "name": "stdout",
     "output_type": "stream",
     "text": [
      "3.183289598960143\n",
      "Validation loss decreased (3.185901 --> 3.183290).  Saving model ...\n"
     ]
    },
    {
     "name": "stderr",
     "output_type": "stream",
     "text": [
      "Epoch: [103]/[150] Training: 100%|█| 2/2 [00:01<00:00,  1.83it/s, loss=2.94, train_ca=8.5, train_wa=0\n",
      "Validating: 100%|██████████████████| 1/1 [00:00<00:00,  3.56it/s, val_loss=2.89, val_ca=15, val_wa=0]\n"
     ]
    },
    {
     "name": "stdout",
     "output_type": "stream",
     "text": [
      "3.1804997989109585\n",
      "Validation loss decreased (3.183290 --> 3.180500).  Saving model ...\n"
     ]
    },
    {
     "name": "stderr",
     "output_type": "stream",
     "text": [
      "Epoch: [104]/[150] Training: 100%|██| 2/2 [00:01<00:00,  1.72it/s, loss=2.7, train_ca=16, train_wa=0]\n",
      "Validating: 100%|████████████████| 1/1 [00:00<00:00,  2.89it/s, val_loss=2.89, val_ca=16.1, val_wa=0]\n"
     ]
    },
    {
     "name": "stdout",
     "output_type": "stream",
     "text": [
      "3.177749474093599\n",
      "Validation loss decreased (3.180500 --> 3.177749).  Saving model ...\n"
     ]
    },
    {
     "name": "stderr",
     "output_type": "stream",
     "text": [
      "Epoch: [105]/[150] Training: 100%|█| 2/2 [00:01<00:00,  1.64it/s, loss=2.43, train_ca=14.2, train_wa=\n",
      "Validating: 100%|████████████████| 1/1 [00:00<00:00,  2.70it/s, val_loss=2.85, val_ca=16.6, val_wa=0]\n"
     ]
    },
    {
     "name": "stdout",
     "output_type": "stream",
     "text": [
      "3.1746429238363962\n",
      "Validation loss decreased (3.177749 --> 3.174643).  Saving model ...\n"
     ]
    },
    {
     "name": "stderr",
     "output_type": "stream",
     "text": [
      "Epoch: [106]/[150] Training: 100%|█| 2/2 [00:01<00:00,  1.71it/s, loss=2.72, train_ca=15, train_wa=0]\n",
      "Validating: 100%|████████████████| 1/1 [00:00<00:00,  2.95it/s, val_loss=2.83, val_ca=15.5, val_wa=0]\n"
     ]
    },
    {
     "name": "stdout",
     "output_type": "stream",
     "text": [
      "3.1714406190095126\n",
      "Validation loss decreased (3.174643 --> 3.171441).  Saving model ...\n"
     ]
    },
    {
     "name": "stderr",
     "output_type": "stream",
     "text": [
      "Epoch: [107]/[150] Training: 100%|█| 2/2 [00:01<00:00,  1.76it/s, loss=2.55, train_ca=20.9, train_wa=\n",
      "Validating: 100%|████████████████| 1/1 [00:00<00:00,  2.90it/s, val_loss=2.84, val_ca=14.6, val_wa=0]\n"
     ]
    },
    {
     "name": "stdout",
     "output_type": "stream",
     "text": [
      "3.1684277429493197\n",
      "Validation loss decreased (3.171441 --> 3.168428).  Saving model ...\n"
     ]
    },
    {
     "name": "stderr",
     "output_type": "stream",
     "text": [
      "Epoch: [108]/[150] Training: 100%|█| 2/2 [00:01<00:00,  1.67it/s, loss=3.34, train_ca=8.72, train_wa=\n",
      "Validating: 100%|████████████████| 1/1 [00:00<00:00,  2.70it/s, val_loss=2.84, val_ca=14.7, val_wa=0]\n"
     ]
    },
    {
     "name": "stdout",
     "output_type": "stream",
     "text": [
      "3.165441567247564\n",
      "Validation loss decreased (3.168428 --> 3.165442).  Saving model ...\n"
     ]
    },
    {
     "name": "stderr",
     "output_type": "stream",
     "text": [
      "Epoch: [109]/[150] Training: 100%|█| 2/2 [00:01<00:00,  1.95it/s, loss=2.43, train_ca=21.5, train_wa=\n",
      "Validating: 100%|████████████████| 1/1 [00:00<00:00,  2.76it/s, val_loss=2.84, val_ca=15.9, val_wa=0]\n"
     ]
    },
    {
     "name": "stdout",
     "output_type": "stream",
     "text": [
      "3.1624676794619173\n",
      "Validation loss decreased (3.165442 --> 3.162468).  Saving model ...\n"
     ]
    },
    {
     "name": "stderr",
     "output_type": "stream",
     "text": [
      "Epoch: [110]/[150] Training: 100%|█| 2/2 [00:01<00:00,  1.52it/s, loss=2.43, train_ca=33, train_wa=0]\n",
      "Validating: 100%|████████████████| 1/1 [00:00<00:00,  2.66it/s, val_loss=2.85, val_ca=15.6, val_wa=0]\n"
     ]
    },
    {
     "name": "stdout",
     "output_type": "stream",
     "text": [
      "3.159641316958836\n",
      "Validation loss decreased (3.162468 --> 3.159641).  Saving model ...\n"
     ]
    },
    {
     "name": "stderr",
     "output_type": "stream",
     "text": [
      "Epoch: [111]/[150] Training: 100%|█| 2/2 [00:01<00:00,  1.78it/s, loss=2.41, train_ca=24.9, train_wa=\n",
      "Validating: 100%|████████████████| 1/1 [00:00<00:00,  3.08it/s, val_loss=2.87, val_ca=17.5, val_wa=0]\n"
     ]
    },
    {
     "name": "stdout",
     "output_type": "stream",
     "text": [
      "3.1570367728714395\n",
      "Validation loss decreased (3.159641 --> 3.157037).  Saving model ...\n"
     ]
    },
    {
     "name": "stderr",
     "output_type": "stream",
     "text": [
      "Epoch: [112]/[150] Training: 100%|█| 2/2 [00:01<00:00,  1.28it/s, loss=2.46, train_ca=13.7, train_wa=\n",
      "Validating: 100%|████████████████| 1/1 [00:00<00:00,  2.53it/s, val_loss=2.85, val_ca=16.3, val_wa=0]\n"
     ]
    },
    {
     "name": "stdout",
     "output_type": "stream",
     "text": [
      "3.1543458449213126\n",
      "Validation loss decreased (3.157037 --> 3.154346).  Saving model ...\n"
     ]
    },
    {
     "name": "stderr",
     "output_type": "stream",
     "text": [
      "Epoch: [113]/[150] Training: 100%|█| 2/2 [00:01<00:00,  1.50it/s, loss=2.46, train_ca=12, train_wa=0]\n",
      "Validating: 100%|████████████████| 1/1 [00:00<00:00,  2.77it/s, val_loss=3.06, val_ca=14.4, val_wa=0]\n"
     ]
    },
    {
     "name": "stdout",
     "output_type": "stream",
     "text": [
      "3.1535024622212284\n",
      "Validation loss decreased (3.154346 --> 3.153502).  Saving model ...\n"
     ]
    },
    {
     "name": "stderr",
     "output_type": "stream",
     "text": [
      "Epoch: [114]/[150] Training: 100%|█| 2/2 [00:00<00:00,  2.97it/s, loss=2.69, train_ca=12.2, train_wa=\n",
      "Validating: 100%|████████████████| 1/1 [00:00<00:00,  5.67it/s, val_loss=3.04, val_ca=12.7, val_wa=0]\n"
     ]
    },
    {
     "name": "stdout",
     "output_type": "stream",
     "text": [
      "3.1525603162831275\n",
      "Validation loss decreased (3.153502 --> 3.152560).  Saving model ...\n"
     ]
    },
    {
     "name": "stderr",
     "output_type": "stream",
     "text": [
      "Epoch: [115]/[150] Training: 100%|█| 2/2 [00:00<00:00,  3.16it/s, loss=2.35, train_ca=20.2, train_wa=\n",
      "Validating: 100%|████████████████| 1/1 [00:00<00:00,  5.48it/s, val_loss=2.85, val_ca=17.6, val_wa=0]\n"
     ]
    },
    {
     "name": "stdout",
     "output_type": "stream",
     "text": [
      "3.149944598858173\n",
      "Validation loss decreased (3.152560 --> 3.149945).  Saving model ...\n"
     ]
    },
    {
     "name": "stderr",
     "output_type": "stream",
     "text": [
      "Epoch: [116]/[150] Training: 100%|█| 2/2 [00:00<00:00,  3.28it/s, loss=2.49, train_ca=19.8, train_wa=\n",
      "Validating: 100%|████████████████| 1/1 [00:00<00:00,  4.12it/s, val_loss=2.89, val_ca=16.6, val_wa=0]\n"
     ]
    },
    {
     "name": "stdout",
     "output_type": "stream",
     "text": [
      "3.147730407068285\n",
      "Validation loss decreased (3.149945 --> 3.147730).  Saving model ...\n"
     ]
    },
    {
     "name": "stderr",
     "output_type": "stream",
     "text": [
      "Epoch: [117]/[150] Training: 100%|█| 2/2 [00:01<00:00,  1.64it/s, loss=2.52, train_ca=16.2, train_wa=\n",
      "Validating: 100%|████████████████| 1/1 [00:00<00:00,  3.23it/s, val_loss=2.81, val_ca=16.2, val_wa=0]\n"
     ]
    },
    {
     "name": "stdout",
     "output_type": "stream",
     "text": [
      "3.1449144868289722\n",
      "Validation loss decreased (3.147730 --> 3.144914).  Saving model ...\n"
     ]
    },
    {
     "name": "stderr",
     "output_type": "stream",
     "text": [
      "Epoch: [118]/[150] Training: 100%|█| 2/2 [00:01<00:00,  1.44it/s, loss=2.62, train_ca=20.5, train_wa=\n",
      "Validating: 100%|████████████████| 1/1 [00:00<00:00,  2.72it/s, val_loss=2.92, val_ca=17.8, val_wa=0]\n"
     ]
    },
    {
     "name": "stdout",
     "output_type": "stream",
     "text": [
      "3.1430724918842317\n",
      "Validation loss decreased (3.144914 --> 3.143072).  Saving model ...\n"
     ]
    },
    {
     "name": "stderr",
     "output_type": "stream",
     "text": [
      "Epoch: [119]/[150] Training: 100%|█| 2/2 [00:01<00:00,  1.86it/s, loss=2.74, train_ca=23, train_wa=0]\n",
      "Validating: 100%|████████████████| 1/1 [00:00<00:00,  2.82it/s, val_loss=2.86, val_ca=16.9, val_wa=0]\n"
     ]
    },
    {
     "name": "stdout",
     "output_type": "stream",
     "text": [
      "3.1407000190955547\n",
      "Validation loss decreased (3.143072 --> 3.140700).  Saving model ...\n"
     ]
    },
    {
     "name": "stderr",
     "output_type": "stream",
     "text": [
      "Epoch: [120]/[150] Training: 100%|█| 2/2 [00:01<00:00,  1.52it/s, loss=2.55, train_ca=12.2, train_wa=\n",
      "Validating: 100%|█████████████████| 1/1 [00:00<00:00,  3.27it/s, val_loss=3.3, val_ca=17.1, val_wa=0]\n"
     ]
    },
    {
     "name": "stdout",
     "output_type": "stream",
     "text": [
      "3.141987341349242\n",
      "EarlyStopping counter: (-3.140700 1 out of 15)\n"
     ]
    },
    {
     "name": "stderr",
     "output_type": "stream",
     "text": [
      "Epoch: [121]/[150] Training: 100%|█| 2/2 [00:00<00:00,  2.98it/s, loss=2.55, train_ca=10.5, train_wa=\n",
      "Validating: 100%|████████████████| 1/1 [00:00<00:00,  5.57it/s, val_loss=2.97, val_ca=15.7, val_wa=0]\n"
     ]
    },
    {
     "name": "stdout",
     "output_type": "stream",
     "text": [
      "3.14058987105765\n",
      "Validation loss decreased (3.140700 --> 3.140590).  Saving model ...\n"
     ]
    },
    {
     "name": "stderr",
     "output_type": "stream",
     "text": [
      "Epoch: [122]/[150] Training: 100%|█| 2/2 [00:01<00:00,  1.59it/s, loss=2.47, train_ca=17.7, train_wa=\n",
      "Validating: 100%|████████████████| 1/1 [00:00<00:00,  2.86it/s, val_loss=3.02, val_ca=17.8, val_wa=0]\n"
     ]
    },
    {
     "name": "stdout",
     "output_type": "stream",
     "text": [
      "3.139616549015045\n",
      "Validation loss decreased (3.140590 --> 3.139617).  Saving model ...\n"
     ]
    },
    {
     "name": "stderr",
     "output_type": "stream",
     "text": [
      "Epoch: [123]/[150] Training: 100%|█| 2/2 [00:01<00:00,  1.74it/s, loss=2.58, train_ca=12.2, train_wa=\n",
      "Validating: 100%|████████████████| 1/1 [00:00<00:00,  3.01it/s, val_loss=3.02, val_ca=17.3, val_wa=0]\n"
     ]
    },
    {
     "name": "stdout",
     "output_type": "stream",
     "text": [
      "3.1386943893432617\n",
      "Validation loss decreased (3.139617 --> 3.138694).  Saving model ...\n"
     ]
    },
    {
     "name": "stderr",
     "output_type": "stream",
     "text": [
      "Epoch: [124]/[150] Training: 100%|█| 2/2 [00:01<00:00,  1.73it/s, loss=2.78, train_ca=13.1, train_wa=\n",
      "Validating: 100%|█████████████████| 1/1 [00:00<00:00,  2.56it/s, val_loss=2.9, val_ca=16.6, val_wa=0]\n"
     ]
    },
    {
     "name": "stdout",
     "output_type": "stream",
     "text": [
      "3.136806011199951\n",
      "Validation loss decreased (3.138694 --> 3.136806).  Saving model ...\n"
     ]
    },
    {
     "name": "stderr",
     "output_type": "stream",
     "text": [
      "Epoch: [125]/[150] Training: 100%|█| 2/2 [00:01<00:00,  1.74it/s, loss=2.39, train_ca=26.4, train_wa=\n",
      "Validating: 100%|████████████████| 1/1 [00:00<00:00,  3.03it/s, val_loss=2.89, val_ca=16.8, val_wa=0]\n"
     ]
    },
    {
     "name": "stdout",
     "output_type": "stream",
     "text": [
      "3.134900521105669\n",
      "Validation loss decreased (3.136806 --> 3.134901).  Saving model ...\n"
     ]
    },
    {
     "name": "stderr",
     "output_type": "stream",
     "text": [
      "Epoch: [126]/[150] Training: 100%|█| 2/2 [00:01<00:00,  1.85it/s, loss=2.51, train_ca=16.5, train_wa=\n",
      "Validating: 100%|████████████████| 1/1 [00:00<00:00,  2.84it/s, val_loss=2.86, val_ca=19.2, val_wa=0]\n"
     ]
    },
    {
     "name": "stdout",
     "output_type": "stream",
     "text": [
      "3.1327692847698927\n",
      "Validation loss decreased (3.134901 --> 3.132769).  Saving model ...\n"
     ]
    },
    {
     "name": "stderr",
     "output_type": "stream",
     "text": [
      "Epoch: [127]/[150] Training: 100%|█| 2/2 [00:01<00:00,  1.73it/s, loss=2.19, train_ca=29.1, train_wa=\n",
      "Validating: 100%|█████████████████| 1/1 [00:00<00:00,  2.84it/s, val_loss=2.9, val_ca=19.3, val_wa=0]\n"
     ]
    },
    {
     "name": "stdout",
     "output_type": "stream",
     "text": [
      "3.130975895149763\n",
      "Validation loss decreased (3.132769 --> 3.130976).  Saving model ...\n"
     ]
    },
    {
     "name": "stderr",
     "output_type": "stream",
     "text": [
      "Epoch: [128]/[150] Training: 100%|█| 2/2 [00:01<00:00,  1.61it/s, loss=2.92, train_ca=14.8, train_wa=\n",
      "Validating: 100%|████████████████| 1/1 [00:00<00:00,  3.28it/s, val_loss=2.91, val_ca=19.5, val_wa=0]\n"
     ]
    },
    {
     "name": "stdout",
     "output_type": "stream",
     "text": [
      "3.1292784214019775\n",
      "Validation loss decreased (3.130976 --> 3.129278).  Saving model ...\n"
     ]
    },
    {
     "name": "stderr",
     "output_type": "stream",
     "text": [
      "Epoch: [129]/[150] Training: 100%|█| 2/2 [00:01<00:00,  1.72it/s, loss=2.48, train_ca=12.4, train_wa=\n",
      "Validating: 100%|████████████████| 1/1 [00:00<00:00,  2.93it/s, val_loss=2.99, val_ca=16.7, val_wa=0]\n"
     ]
    },
    {
     "name": "stdout",
     "output_type": "stream",
     "text": [
      "3.1282300439499715\n",
      "Validation loss decreased (3.129278 --> 3.128230).  Saving model ...\n"
     ]
    },
    {
     "name": "stderr",
     "output_type": "stream",
     "text": [
      "Epoch: [130]/[150] Training: 100%|█| 2/2 [00:01<00:00,  1.62it/s, loss=2.43, train_ca=24.2, train_wa=\n",
      "Validating: 100%|████████████████| 1/1 [00:00<00:00,  2.36it/s, val_loss=2.98, val_ca=16.6, val_wa=0]\n"
     ]
    },
    {
     "name": "stdout",
     "output_type": "stream",
     "text": [
      "3.1270917346983245\n",
      "Validation loss decreased (3.128230 --> 3.127092).  Saving model ...\n"
     ]
    },
    {
     "name": "stderr",
     "output_type": "stream",
     "text": [
      "Epoch: [131]/[150] Training: 100%|█| 2/2 [00:01<00:00,  1.55it/s, loss=2.12, train_ca=24.4, train_wa=\n",
      "Validating: 100%|████████████████| 1/1 [00:00<00:00,  2.89it/s, val_loss=2.92, val_ca=15.8, val_wa=0]\n"
     ]
    },
    {
     "name": "stdout",
     "output_type": "stream",
     "text": [
      "3.1255660397665843\n",
      "Validation loss decreased (3.127092 --> 3.125566).  Saving model ...\n"
     ]
    },
    {
     "name": "stderr",
     "output_type": "stream",
     "text": [
      "Epoch: [132]/[150] Training: 100%|█| 2/2 [00:00<00:00,  2.42it/s, loss=2.46, train_ca=14.5, train_wa=\n",
      "Validating: 100%|████████████████| 1/1 [00:00<00:00,  5.78it/s, val_loss=2.93, val_ca=16.3, val_wa=0]\n"
     ]
    },
    {
     "name": "stdout",
     "output_type": "stream",
     "text": [
      "3.124094986203891\n",
      "Validation loss decreased (3.125566 --> 3.124095).  Saving model ...\n"
     ]
    },
    {
     "name": "stderr",
     "output_type": "stream",
     "text": [
      "Epoch: [133]/[150] Training: 100%|█| 2/2 [00:01<00:00,  1.54it/s, loss=2.36, train_ca=20.5, train_wa=\n",
      "Validating: 100%|████████████████| 1/1 [00:00<00:00,  2.55it/s, val_loss=2.92, val_ca=15.4, val_wa=0]\n"
     ]
    },
    {
     "name": "stdout",
     "output_type": "stream",
     "text": [
      "3.122548841547083\n",
      "Validation loss decreased (3.124095 --> 3.122549).  Saving model ...\n"
     ]
    },
    {
     "name": "stderr",
     "output_type": "stream",
     "text": [
      "Epoch: [134]/[150] Training: 100%|█| 2/2 [00:01<00:00,  1.80it/s, loss=2.26, train_ca=21.2, train_wa=\n",
      "Validating: 100%|████████████████| 1/1 [00:00<00:00,  3.33it/s, val_loss=2.99, val_ca=16.3, val_wa=0]\n"
     ]
    },
    {
     "name": "stdout",
     "output_type": "stream",
     "text": [
      "3.1215543308678795\n",
      "Validation loss decreased (3.122549 --> 3.121554).  Saving model ...\n"
     ]
    },
    {
     "name": "stderr",
     "output_type": "stream",
     "text": [
      "Epoch: [135]/[150] Training: 100%|█| 2/2 [00:01<00:00,  1.15it/s, loss=2.23, train_ca=35, train_wa=0]\n",
      "Validating: 100%|████████████████| 1/1 [00:00<00:00,  2.38it/s, val_loss=3.04, val_ca=19.3, val_wa=0]\n"
     ]
    },
    {
     "name": "stdout",
     "output_type": "stream",
     "text": [
      "3.120938730935981\n",
      "Validation loss decreased (3.121554 --> 3.120939).  Saving model ...\n"
     ]
    },
    {
     "name": "stderr",
     "output_type": "stream",
     "text": [
      "Epoch: [136]/[150] Training: 100%|█| 2/2 [00:01<00:00,  1.58it/s, loss=2.27, train_ca=20.4, train_wa=\n",
      "Validating: 100%|████████████████| 1/1 [00:00<00:00,  3.00it/s, val_loss=2.93, val_ca=19.9, val_wa=0]\n"
     ]
    },
    {
     "name": "stdout",
     "output_type": "stream",
     "text": [
      "3.119575961776402\n",
      "Validation loss decreased (3.120939 --> 3.119576).  Saving model ...\n"
     ]
    },
    {
     "name": "stderr",
     "output_type": "stream",
     "text": [
      "Epoch: [137]/[150] Training: 100%|█| 2/2 [00:00<00:00,  3.21it/s, loss=2.13, train_ca=32.5, train_wa=\n",
      "Validating: 100%|████████████████| 1/1 [00:00<00:00,  5.59it/s, val_loss=2.91, val_ca=18.5, val_wa=0]\n"
     ]
    },
    {
     "name": "stdout",
     "output_type": "stream",
     "text": [
      "3.1180366749386135\n",
      "Validation loss decreased (3.119576 --> 3.118037).  Saving model ...\n"
     ]
    },
    {
     "name": "stderr",
     "output_type": "stream",
     "text": [
      "Epoch: [138]/[150] Training: 100%|██| 2/2 [00:00<00:00,  2.46it/s, loss=2.1, train_ca=37, train_wa=0]\n",
      "Validating: 100%|█████████████████████| 1/1 [00:00<00:00,  5.16it/s, val_loss=3, val_ca=17, val_wa=0]\n"
     ]
    },
    {
     "name": "stdout",
     "output_type": "stream",
     "text": [
      "3.117225476673671\n",
      "Validation loss decreased (3.118037 --> 3.117225).  Saving model ...\n"
     ]
    },
    {
     "name": "stderr",
     "output_type": "stream",
     "text": [
      "Epoch: [139]/[150] Training: 100%|█| 2/2 [00:01<00:00,  1.99it/s, loss=2.39, train_ca=22.4, train_wa=\n",
      "Validating: 100%|████████████████| 1/1 [00:00<00:00,  2.42it/s, val_loss=2.94, val_ca=18.1, val_wa=0]\n"
     ]
    },
    {
     "name": "stdout",
     "output_type": "stream",
     "text": [
      "3.115955266546696\n",
      "Validation loss decreased (3.117225 --> 3.115955).  Saving model ...\n"
     ]
    },
    {
     "name": "stderr",
     "output_type": "stream",
     "text": [
      "Epoch: [140]/[150] Training: 100%|██| 2/2 [00:01<00:00,  1.57it/s, loss=2.3, train_ca=24, train_wa=0]\n",
      "Validating: 100%|████████████████| 1/1 [00:00<00:00,  2.88it/s, val_loss=2.98, val_ca=17.8, val_wa=0]\n"
     ]
    },
    {
     "name": "stdout",
     "output_type": "stream",
     "text": [
      "3.115028132855053\n",
      "Validation loss decreased (3.115955 --> 3.115028).  Saving model ...\n"
     ]
    },
    {
     "name": "stderr",
     "output_type": "stream",
     "text": [
      "Epoch: [141]/[150] Training: 100%|█| 2/2 [00:01<00:00,  1.64it/s, loss=2.27, train_ca=26.9, train_wa=\n",
      "Validating: 100%|████████████████| 1/1 [00:00<00:00,  3.04it/s, val_loss=2.99, val_ca=18.3, val_wa=0]\n"
     ]
    },
    {
     "name": "stdout",
     "output_type": "stream",
     "text": [
      "3.114120431713291\n",
      "Validation loss decreased (3.115028 --> 3.114120).  Saving model ...\n"
     ]
    },
    {
     "name": "stderr",
     "output_type": "stream",
     "text": [
      "Epoch: [142]/[150] Training: 100%|█| 2/2 [00:01<00:00,  1.65it/s, loss=2.01, train_ca=38, train_wa=0]\n",
      "Validating: 100%|████████████████| 1/1 [00:00<00:00,  3.15it/s, val_loss=2.94, val_ca=19.4, val_wa=0]\n"
     ]
    },
    {
     "name": "stdout",
     "output_type": "stream",
     "text": [
      "3.112935167219904\n",
      "Validation loss decreased (3.114120 --> 3.112935).  Saving model ...\n"
     ]
    },
    {
     "name": "stderr",
     "output_type": "stream",
     "text": [
      "Epoch: [143]/[150] Training: 100%|█| 2/2 [00:01<00:00,  1.72it/s, loss=3.17, train_ca=12.1, train_wa=\n",
      "Validating: 100%|██████████████████| 1/1 [00:00<00:00,  2.94it/s, val_loss=3.06, val_ca=15, val_wa=0]\n"
     ]
    },
    {
     "name": "stdout",
     "output_type": "stream",
     "text": [
      "3.112548699872247\n",
      "Validation loss decreased (3.112935 --> 3.112549).  Saving model ...\n"
     ]
    },
    {
     "name": "stderr",
     "output_type": "stream",
     "text": [
      "Epoch: [144]/[150] Training: 100%|█| 2/2 [00:01<00:00,  1.70it/s, loss=2.24, train_ca=29, train_wa=0]\n",
      "Validating: 100%|████████████████| 1/1 [00:00<00:00,  2.63it/s, val_loss=3.03, val_ca=17.8, val_wa=0]\n"
     ]
    },
    {
     "name": "stdout",
     "output_type": "stream",
     "text": [
      "3.112006213567028\n",
      "Validation loss decreased (3.112549 --> 3.112006).  Saving model ...\n"
     ]
    },
    {
     "name": "stderr",
     "output_type": "stream",
     "text": [
      "Epoch: [145]/[150] Training: 100%|█| 2/2 [00:01<00:00,  1.68it/s, loss=2.17, train_ca=23.7, train_wa=\n",
      "Validating: 100%|████████████████| 1/1 [00:00<00:00,  3.11it/s, val_loss=2.99, val_ca=17.5, val_wa=0]\n"
     ]
    },
    {
     "name": "stdout",
     "output_type": "stream",
     "text": [
      "3.1111847559611\n",
      "Validation loss decreased (3.112006 --> 3.111185).  Saving model ...\n"
     ]
    },
    {
     "name": "stderr",
     "output_type": "stream",
     "text": [
      "Epoch: [146]/[150] Training: 100%|█| 2/2 [00:01<00:00,  1.34it/s, loss=2.25, train_ca=18, train_wa=0]\n",
      "Validating: 100%|██████████████████| 1/1 [00:00<00:00,  2.27it/s, val_loss=2.99, val_ca=19, val_wa=0]\n"
     ]
    },
    {
     "name": "stdout",
     "output_type": "stream",
     "text": [
      "3.1103876072007255\n",
      "Validation loss decreased (3.111185 --> 3.110388).  Saving model ...\n"
     ]
    },
    {
     "name": "stderr",
     "output_type": "stream",
     "text": [
      "Epoch: [147]/[150] Training: 100%|█| 2/2 [00:01<00:00,  1.64it/s, loss=2.38, train_ca=24.7, train_wa=\n",
      "Validating: 100%|████████████████| 1/1 [00:00<00:00,  2.86it/s, val_loss=2.99, val_ca=17.1, val_wa=0]\n"
     ]
    },
    {
     "name": "stdout",
     "output_type": "stream",
     "text": [
      "3.1095530794770925\n",
      "Validation loss decreased (3.110388 --> 3.109553).  Saving model ...\n"
     ]
    },
    {
     "name": "stderr",
     "output_type": "stream",
     "text": [
      "Epoch: [148]/[150] Training: 100%|█| 2/2 [00:01<00:00,  1.79it/s, loss=2.6, train_ca=13.6, train_wa=0\n",
      "Validating: 100%|████████████████| 1/1 [00:00<00:00,  3.66it/s, val_loss=2.98, val_ca=18.4, val_wa=0]\n"
     ]
    },
    {
     "name": "stdout",
     "output_type": "stream",
     "text": [
      "3.1087141195933023\n",
      "Validation loss decreased (3.109553 --> 3.108714).  Saving model ...\n"
     ]
    }
   ],
   "source": [
    "alphabet = \"\"\"Only thewigsofrcvdampbkuq.$A-210xT5'MDL,RYHJ\"ISPWENj&BC93VGFKz();#:!7U64Q8?+*ZX/%\"\"\"\n",
    "args = {\n",
    "    'name':'exp1',\n",
    "    'path':'/home/guscarrian@GU.GU.SE/LT2326-ML/A1/Adapting-OCR/carplates_dataset/LP-characters',\n",
    "    'imgdir': 'train_images',\n",
    "    'annotations_dir': 'annotations',\n",
    "    'image_size': (32, 168), #added\n",
    "    'imgH':32,\n",
    "    'nChannels':1,\n",
    "    'nHidden':256,\n",
    "    'nClasses':len(alphabet),\n",
    "    'lr':0.001,\n",
    "    'epochs':150,\n",
    "    'batch_size':128,\n",
    "    'save_dir':'../checkpoints/',\n",
    "    'log_dir':'../logs',\n",
    "    'resume':False,\n",
    "    'cuda':False,\n",
    "    'schedule':False\n",
    "}\n",
    "\n",
    "data = CarPlatesDataset(args)\n",
    "args['collate_fn'] = SynthCollator()\n",
    "train_split = int(0.8*len(data))\n",
    "val_split = len(data) - train_split\n",
    "args['data_train'], args['data_val'] = random_split(data, (train_split, val_split))\n",
    "print('Traininig Data Size:{}\\nVal Data Size:{}'.format(\n",
    "    len(args['data_train']), len(args['data_val'])))\n",
    "args['alphabet'] = alphabet\n",
    "model = CRNN(args)\n",
    "args['criterion'] = CustomCTCLoss()\n",
    "savepath = os.path.join(args['save_dir'], args['name'])\n",
    "gmkdir(savepath)\n",
    "gmkdir(args['log_dir'])\n",
    "optimizer = torch.optim.Adam(model.parameters(), lr=args['lr'])\n",
    "learner = Learner(model, optimizer, savepath=savepath, resume=args['resume'])\n",
    "learner.fit(args)"
   ]
  },
  {
   "cell_type": "code",
   "execution_count": 44,
   "metadata": {},
   "outputs": [
    {
     "data": {
      "text/plain": [
       "32"
      ]
     },
     "execution_count": 44,
     "metadata": {},
     "output_type": "execute_result"
    }
   ],
   "source": [
    "args['image_size'][0]"
   ]
  },
  {
   "cell_type": "markdown",
   "metadata": {},
   "source": [
    "## Evaluation and testing"
   ]
  },
  {
   "cell_type": "code",
   "execution_count": 12,
   "metadata": {},
   "outputs": [],
   "source": [
    "import matplotlib.pyplot as plt\n",
    "from torchvision.utils import make_grid"
   ]
  },
  {
   "cell_type": "code",
   "execution_count": 13,
   "metadata": {},
   "outputs": [],
   "source": [
    "device = torch.device(\"cuda:0\" if torch.cuda.is_available() else \"cpu\")\n",
    "def get_accuracy(args):\n",
    "    loader = torch.utils.data.DataLoader(args['data'],\n",
    "                batch_size=args['batch_size'],\n",
    "                collate_fn=args['collate_fn'])\n",
    "    model = args['model']\n",
    "    model.eval()\n",
    "    converter = OCRLabelConverter(args['alphabet'])\n",
    "    evaluator = Eval()\n",
    "    labels, predictions, images = [], [], []\n",
    "    for iteration, batch in enumerate(tqdm(loader)):\n",
    "        input_, targets = batch['img'].to(device), batch['label']\n",
    "        images.extend(input_.squeeze().detach())\n",
    "        labels.extend(targets)\n",
    "        targets, lengths = converter.encode(targets)\n",
    "        logits = model(input_).transpose(1, 0)\n",
    "        logits = torch.nn.functional.log_softmax(logits, 2)\n",
    "        logits = logits.contiguous().cpu()\n",
    "        T, B, H = logits.size()\n",
    "        pred_sizes = torch.LongTensor([T for i in range(B)])\n",
    "        probs, pos = logits.max(2)\n",
    "        pos = pos.transpose(1, 0).contiguous().view(-1)\n",
    "        sim_preds = converter.decode(pos.data, pred_sizes.data, raw=False)\n",
    "        predictions.extend(sim_preds)\n",
    "        \n",
    "#     make_grid(images[:10], nrow=2)\n",
    "    fig=plt.figure(figsize=(8, 8))\n",
    "    columns = 4\n",
    "    rows = 5\n",
    "    pairs = list(zip(images, predictions))\n",
    "    indices = np.random.permutation(len(pairs))\n",
    "    for i in range(1, columns*rows +1):\n",
    "        img = images[indices[i]]\n",
    "        img = (img - img.min())/(img.max() - img.min())\n",
    "        img = img.cpu().numpy() * 255.0\n",
    "        img = img.astype(np.uint8)\n",
    "        #img = np.array(img * 255.0, dtype=np.uint8)\n",
    "        fig.add_subplot(rows, columns, i)\n",
    "        plt.title(predictions[indices[i]])\n",
    "        plt.axis('off')\n",
    "        plt.imshow(img)\n",
    "    plt.show()\n",
    "    ca = np.mean((list(map(evaluator.char_accuracy, list(zip(predictions, labels))))))\n",
    "    wa = np.mean((list(map(evaluator.word_accuracy_line, list(zip(predictions, labels))))))\n",
    "    return ca, wa\n"
   ]
  },
  {
   "cell_type": "code",
   "execution_count": 14,
   "metadata": {},
   "outputs": [
    {
     "name": "stdout",
     "output_type": "stream",
     "text": [
      "Loading model ../checkpoints/exp1/best.ckpt\n"
     ]
    },
    {
     "name": "stderr",
     "output_type": "stream",
     "text": [
      "100%|██████████████████████████████████████████████████████████████████| 1/1 [00:00<00:00,  3.83it/s]\n"
     ]
    },
    {
     "data": {
      "image/png": "[encoded data removed]",
      "text/plain": [
       "<Figure size 800x800 with 20 Axes>"
      ]
     },
     "metadata": {},
     "output_type": "display_data"
    },
    {
     "name": "stdout",
     "output_type": "stream",
     "text": [
      "Character Accuracy: 18.64\n",
      "Word Accuracy: 0.00\n"
     ]
    }
   ],
   "source": [
    "args['imgdir'] = 'test_images'\n",
    "args['data'] = CarPlatesDataset(args)\n",
    "resume_file = os.path.join(args['save_dir'], args['name'], 'best.ckpt')\n",
    "if os.path.isfile(resume_file):\n",
    "    print('Loading model %s'%resume_file)\n",
    "    checkpoint = torch.load(resume_file)\n",
    "    #model.load_state_dict(checkpoint['state_dict'])\n",
    "    model.load_state_dict(checkpoint['state_dict'], strict=False)\n",
    "    args['model'] = model\n",
    "    ca, wa = get_accuracy(args)\n",
    "    print(\"Character Accuracy: %.2f\\nWord Accuracy: %.2f\"%(ca, wa))\n",
    "else:\n",
    "    print(\"=> no checkpoint found at '{}'\".format(os.path.join(args['save_dir'], args['name'])))\n",
    "    print('Exiting')"
   ]
  },
  {
   "cell_type": "code",
   "execution_count": null,
   "metadata": {},
   "outputs": [],
   "source": []
  },
  {
   "cell_type": "code",
   "execution_count": null,
   "metadata": {},
   "outputs": [],
   "source": []
  },
  {
   "cell_type": "code",
   "execution_count": null,
   "metadata": {},
   "outputs": [],
   "source": []
  }
 ],
 "metadata": {
  "kernelspec": {
   "display_name": "Python 3 (ipykernel)",
   "language": "python",
   "name": "python3"
  },
  "language_info": {
   "codemirror_mode": {
    "name": "ipython",
    "version": 3
   },
   "file_extension": ".py",
   "mimetype": "text/x-python",
   "name": "python",
   "nbconvert_exporter": "python",
   "pygments_lexer": "ipython3",
   "version": "3.11.6"
  }
 },
 "nbformat": 4,
 "nbformat_minor": 4
}
